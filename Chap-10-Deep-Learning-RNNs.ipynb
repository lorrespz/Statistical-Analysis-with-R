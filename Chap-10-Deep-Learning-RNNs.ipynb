{
 "cells": [
  {
   "cell_type": "markdown",
   "id": "c63dcb9f",
   "metadata": {},
   "source": [
    "# Chapter 10: DL - Recurrent Neural Networks\n",
    "\n",
    "# A. Sentiment analysis \n",
    "\n",
    "\n",
    "Here we fit a simple LSTM RNN for sentiment analysis with the *IMDb* movie-review data (part of the *keras* library)."
   ]
  },
  {
   "cell_type": "code",
   "execution_count": 39,
   "id": "e1e771fc",
   "metadata": {},
   "outputs": [],
   "source": [
    "library(keras)"
   ]
  },
  {
   "cell_type": "code",
   "execution_count": 2,
   "id": "a31048da",
   "metadata": {},
   "outputs": [],
   "source": [
    "max_features <- 10000\n",
    "\n",
    "imdb <- dataset_imdb(num_words = max_features)"
   ]
  },
  {
   "cell_type": "code",
   "execution_count": 3,
   "id": "e4047245",
   "metadata": {},
   "outputs": [],
   "source": [
    "#unpacking list of lists\n",
    "c(c(x_train, y_train), c(x_test, y_test)) %<-% imdb"
   ]
  },
  {
   "cell_type": "code",
   "execution_count": 4,
   "id": "f9cd079e",
   "metadata": {},
   "outputs": [],
   "source": [
    "word_index <- dataset_imdb_word_index()"
   ]
  },
  {
   "cell_type": "code",
   "execution_count": 5,
   "id": "b4f20bf5",
   "metadata": {},
   "outputs": [],
   "source": [
    "#create a function, decode review(), \n",
    "#that provides a simple interface to the dictionary.\n",
    "decode_review <- function(text, word_index) {\n",
    "                word <- names(word_index)\n",
    "                idx <- unlist(word_index, use.names = FALSE)\n",
    "                word <- c(\"<PAD>\", \"<START>\", \"<UNK>\", \"<UNUSED>\", word)\n",
    "                idx <- c(0:3, idx + 3)\n",
    "                words <- word[match(text, idx, 2)]\n",
    "                paste(words, collapse = \" \")}"
   ]
  },
  {
   "cell_type": "code",
   "execution_count": 6,
   "id": "80685362",
   "metadata": {},
   "outputs": [
    {
     "data": {
      "text/html": [
       "<style>\n",
       ".list-inline {list-style: none; margin:0; padding: 0}\n",
       ".list-inline>li {display: inline-block}\n",
       ".list-inline>li:not(:last-child)::after {content: \"\\00b7\"; padding: 0 .5ex}\n",
       "</style>\n",
       "<ol class=list-inline><li>1</li><li>14</li><li>22</li><li>16</li><li>43</li><li>530</li><li>973</li><li>1622</li><li>1385</li><li>65</li><li>458</li><li>4468</li><li>66</li><li>3941</li><li>4</li><li>173</li><li>36</li><li>256</li><li>5</li><li>25</li><li>100</li><li>43</li><li>838</li><li>112</li><li>50</li></ol>\n"
      ],
      "text/latex": [
       "\\begin{enumerate*}\n",
       "\\item 1\n",
       "\\item 14\n",
       "\\item 22\n",
       "\\item 16\n",
       "\\item 43\n",
       "\\item 530\n",
       "\\item 973\n",
       "\\item 1622\n",
       "\\item 1385\n",
       "\\item 65\n",
       "\\item 458\n",
       "\\item 4468\n",
       "\\item 66\n",
       "\\item 3941\n",
       "\\item 4\n",
       "\\item 173\n",
       "\\item 36\n",
       "\\item 256\n",
       "\\item 5\n",
       "\\item 25\n",
       "\\item 100\n",
       "\\item 43\n",
       "\\item 838\n",
       "\\item 112\n",
       "\\item 50\n",
       "\\end{enumerate*}\n"
      ],
      "text/markdown": [
       "1. 1\n",
       "2. 14\n",
       "3. 22\n",
       "4. 16\n",
       "5. 43\n",
       "6. 530\n",
       "7. 973\n",
       "8. 1622\n",
       "9. 1385\n",
       "10. 65\n",
       "11. 458\n",
       "12. 4468\n",
       "13. 66\n",
       "14. 3941\n",
       "15. 4\n",
       "16. 173\n",
       "17. 36\n",
       "18. 256\n",
       "19. 5\n",
       "20. 25\n",
       "21. 100\n",
       "22. 43\n",
       "23. 838\n",
       "24. 112\n",
       "25. 50\n",
       "\n",
       "\n"
      ],
      "text/plain": [
       " [1]    1   14   22   16   43  530  973 1622 1385   65  458 4468   66 3941    4\n",
       "[16]  173   36  256    5   25  100   43  838  112   50"
      ]
     },
     "metadata": {},
     "output_type": "display_data"
    }
   ],
   "source": [
    "x_train[[1]][1:25]"
   ]
  },
  {
   "cell_type": "code",
   "execution_count": 7,
   "id": "07a7ca81",
   "metadata": {},
   "outputs": [
    {
     "data": {
      "text/html": [
       "'&lt;START&gt; this film was just brilliant casting location scenery story direction everyone\\'s really suited the part they played and you could just imagine being there'"
      ],
      "text/latex": [
       "'<START> this film was just brilliant casting location scenery story direction everyone\\textbackslash{}'s really suited the part they played and you could just imagine being there'"
      ],
      "text/markdown": [
       "'&lt;START&gt; this film was just brilliant casting location scenery story direction everyone\\'s really suited the part they played and you could just imagine being there'"
      ],
      "text/plain": [
       "[1] \"<START> this film was just brilliant casting location scenery story direction everyone's really suited the part they played and you could just imagine being there\""
      ]
     },
     "metadata": {},
     "output_type": "display_data"
    }
   ],
   "source": [
    "decode_review(x_train[[1]][1:25], word_index)"
   ]
  },
  {
   "cell_type": "code",
   "execution_count": 8,
   "id": "51152ffe",
   "metadata": {},
   "outputs": [
    {
     "data": {
      "text/html": [
       "178"
      ],
      "text/latex": [
       "178"
      ],
      "text/markdown": [
       "178"
      ],
      "text/plain": [
       "[1] 178"
      ]
     },
     "metadata": {},
     "output_type": "display_data"
    }
   ],
   "source": [
    "wc <- sapply(x_train, length)\n",
    "median(wc)"
   ]
  },
  {
   "cell_type": "code",
   "execution_count": 10,
   "id": "39371a2c",
   "metadata": {},
   "outputs": [
    {
     "data": {
      "text/html": [
       "0.91568"
      ],
      "text/latex": [
       "0.91568"
      ],
      "text/markdown": [
       "0.91568"
      ],
      "text/plain": [
       "[1] 0.91568"
      ]
     },
     "metadata": {},
     "output_type": "display_data"
    }
   ],
   "source": [
    "#over 91% of the documents have fewer than 500 words.\n",
    "sum(wc <= 500) / length(wc)"
   ]
  },
  {
   "cell_type": "code",
   "execution_count": 11,
   "id": "660e4506",
   "metadata": {},
   "outputs": [],
   "source": [
    "#RNN requires all the document sequences to have the same length.  \n",
    "#use the last L = 500 words, \n",
    "#and pad the beginning of the shorter ones with blanks\n",
    "maxlen <- 500\n",
    "x_train <- pad_sequences(x_train, maxlen = maxlen)\n",
    "x_test <- pad_sequences(x_test, maxlen = maxlen)"
   ]
  },
  {
   "cell_type": "code",
   "execution_count": 12,
   "id": "dcde8939",
   "metadata": {},
   "outputs": [
    {
     "data": {
      "text/html": [
       "<style>\n",
       ".list-inline {list-style: none; margin:0; padding: 0}\n",
       ".list-inline>li {display: inline-block}\n",
       ".list-inline>li:not(:last-child)::after {content: \"\\00b7\"; padding: 0 .5ex}\n",
       "</style>\n",
       "<ol class=list-inline><li>25000</li><li>500</li></ol>\n"
      ],
      "text/latex": [
       "\\begin{enumerate*}\n",
       "\\item 25000\n",
       "\\item 500\n",
       "\\end{enumerate*}\n"
      ],
      "text/markdown": [
       "1. 25000\n",
       "2. 500\n",
       "\n",
       "\n"
      ],
      "text/plain": [
       "[1] 25000   500"
      ]
     },
     "metadata": {},
     "output_type": "display_data"
    }
   ],
   "source": [
    "dim(x_train)"
   ]
  },
  {
   "cell_type": "code",
   "execution_count": 14,
   "id": "0803e4a7",
   "metadata": {},
   "outputs": [],
   "source": [
    "#RNN model\n",
    "model <- keras_model_sequential() %>%\n",
    "    layer_embedding(input_dim = 10000, output_dim = 32) %>%\n",
    "    layer_lstm(units = 32) %>%\n",
    "    layer_dense(units = 1, activation = \"sigmoid\")"
   ]
  },
  {
   "cell_type": "code",
   "execution_count": 15,
   "id": "3db41921",
   "metadata": {},
   "outputs": [
    {
     "data": {
      "text/plain": [
       "Model: \"sequential\"\n",
       "________________________________________________________________________________\n",
       " Layer (type)                       Output Shape                    Param #     \n",
       "================================================================================\n",
       " embedding (Embedding)              (None, None, 32)                320000      \n",
       " lstm (LSTM)                        (None, 32)                      8320        \n",
       " dense (Dense)                      (None, 1)                       33          \n",
       "================================================================================\n",
       "Total params: 328353 (1.25 MB)\n",
       "Trainable params: 328353 (1.25 MB)\n",
       "Non-trainable params: 0 (0.00 Byte)\n",
       "________________________________________________________________________________"
      ]
     },
     "metadata": {},
     "output_type": "display_data"
    }
   ],
   "source": [
    "model"
   ]
  },
  {
   "cell_type": "markdown",
   "id": "7f44f598",
   "metadata": {},
   "source": [
    "The first layer of the RNN is an embedding layer of size 32, which will be learned during training. This layer one-hot encodes each document as a matrix of dimension 500 × 10, 000, and then maps these 10, 000 dimensions down to 32.\n",
    "\n",
    "The second layer is an LSTM with 32 units, and the output layer is a single sigmoid for the binary classification task"
   ]
  },
  {
   "cell_type": "code",
   "execution_count": 16,
   "id": "214ea2a9",
   "metadata": {},
   "outputs": [],
   "source": [
    "model %>% compile(optimizer = \"rmsprop\",\n",
    "loss = \"binary_crossentropy\", metrics = c(\"acc\"))"
   ]
  },
  {
   "cell_type": "code",
   "execution_count": 17,
   "id": "07a3b8eb",
   "metadata": {},
   "outputs": [
    {
     "data": {
      "image/png": "[encoded data removed]",
      "text/plain": [
       "plot without title"
      ]
     },
     "metadata": {
      "image/png": {
       "height": 420,
       "width": 420
      }
     },
     "output_type": "display_data"
    }
   ],
   "source": [
    "history <- model %>% fit(x_train, y_train, epochs = 10, batch_size = 128, validation_data = list(x_test, y_test))\n",
    "plot(history)\n"
   ]
  },
  {
   "cell_type": "code",
   "execution_count": 22,
   "id": "c63db54c",
   "metadata": {},
   "outputs": [],
   "source": [
    "predy <- predict(model, x_test) >0.5"
   ]
  },
  {
   "cell_type": "code",
   "execution_count": 23,
   "id": "5bc82f44",
   "metadata": {},
   "outputs": [
    {
     "data": {
      "text/html": [
       "0.86"
      ],
      "text/latex": [
       "0.86"
      ],
      "text/markdown": [
       "0.86"
      ],
      "text/plain": [
       "[1] 0.86"
      ]
     },
     "metadata": {},
     "output_type": "display_data"
    }
   ],
   "source": [
    "mean(abs(y_test == as.numeric(predy)))"
   ]
  },
  {
   "cell_type": "markdown",
   "id": "6d994f3b",
   "metadata": {},
   "source": [
    "# B. Time Series Prediction"
   ]
  },
  {
   "cell_type": "code",
   "execution_count": 1,
   "id": "9a222680",
   "metadata": {},
   "outputs": [],
   "source": [
    "library(keras)"
   ]
  },
  {
   "cell_type": "code",
   "execution_count": 2,
   "id": "b648398e",
   "metadata": {},
   "outputs": [],
   "source": [
    "library(ISLR2)\n",
    "xdata <- data.matrix(\n",
    "NYSE[, c(\"DJ_return\", \"log_volume\",\"log_volatility\")])"
   ]
  },
  {
   "cell_type": "code",
   "execution_count": 3,
   "id": "eb1b587d",
   "metadata": {},
   "outputs": [
    {
     "data": {
      "text/html": [
       "<table class=\"dataframe\">\n",
       "<caption>A data.frame: 6 × 6</caption>\n",
       "<thead>\n",
       "\t<tr><th></th><th scope=col>date</th><th scope=col>day_of_week</th><th scope=col>DJ_return</th><th scope=col>log_volume</th><th scope=col>log_volatility</th><th scope=col>train</th></tr>\n",
       "\t<tr><th></th><th scope=col>&lt;chr&gt;</th><th scope=col>&lt;chr&gt;</th><th scope=col>&lt;dbl&gt;</th><th scope=col>&lt;dbl&gt;</th><th scope=col>&lt;dbl&gt;</th><th scope=col>&lt;lgl&gt;</th></tr>\n",
       "</thead>\n",
       "<tbody>\n",
       "\t<tr><th scope=row>1</th><td>1962-12-03</td><td>mon </td><td>-0.004461</td><td>0.032573</td><td>-13.12740</td><td>TRUE</td></tr>\n",
       "\t<tr><th scope=row>2</th><td>1962-12-04</td><td>tues</td><td> 0.007813</td><td>0.346202</td><td>-11.74930</td><td>TRUE</td></tr>\n",
       "\t<tr><th scope=row>3</th><td>1962-12-05</td><td>wed </td><td> 0.003845</td><td>0.525306</td><td>-11.66561</td><td>TRUE</td></tr>\n",
       "\t<tr><th scope=row>4</th><td>1962-12-06</td><td>thur</td><td>-0.003462</td><td>0.210182</td><td>-11.62677</td><td>TRUE</td></tr>\n",
       "\t<tr><th scope=row>5</th><td>1962-12-07</td><td>fri </td><td> 0.000568</td><td>0.044187</td><td>-11.72813</td><td>TRUE</td></tr>\n",
       "\t<tr><th scope=row>6</th><td>1962-12-10</td><td>mon </td><td>-0.010824</td><td>0.133246</td><td>-10.87253</td><td>TRUE</td></tr>\n",
       "</tbody>\n",
       "</table>\n"
      ],
      "text/latex": [
       "A data.frame: 6 × 6\n",
       "\\begin{tabular}{r|llllll}\n",
       "  & date & day\\_of\\_week & DJ\\_return & log\\_volume & log\\_volatility & train\\\\\n",
       "  & <chr> & <chr> & <dbl> & <dbl> & <dbl> & <lgl>\\\\\n",
       "\\hline\n",
       "\t1 & 1962-12-03 & mon  & -0.004461 & 0.032573 & -13.12740 & TRUE\\\\\n",
       "\t2 & 1962-12-04 & tues &  0.007813 & 0.346202 & -11.74930 & TRUE\\\\\n",
       "\t3 & 1962-12-05 & wed  &  0.003845 & 0.525306 & -11.66561 & TRUE\\\\\n",
       "\t4 & 1962-12-06 & thur & -0.003462 & 0.210182 & -11.62677 & TRUE\\\\\n",
       "\t5 & 1962-12-07 & fri  &  0.000568 & 0.044187 & -11.72813 & TRUE\\\\\n",
       "\t6 & 1962-12-10 & mon  & -0.010824 & 0.133246 & -10.87253 & TRUE\\\\\n",
       "\\end{tabular}\n"
      ],
      "text/markdown": [
       "\n",
       "A data.frame: 6 × 6\n",
       "\n",
       "| <!--/--> | date &lt;chr&gt; | day_of_week &lt;chr&gt; | DJ_return &lt;dbl&gt; | log_volume &lt;dbl&gt; | log_volatility &lt;dbl&gt; | train &lt;lgl&gt; |\n",
       "|---|---|---|---|---|---|---|\n",
       "| 1 | 1962-12-03 | mon  | -0.004461 | 0.032573 | -13.12740 | TRUE |\n",
       "| 2 | 1962-12-04 | tues |  0.007813 | 0.346202 | -11.74930 | TRUE |\n",
       "| 3 | 1962-12-05 | wed  |  0.003845 | 0.525306 | -11.66561 | TRUE |\n",
       "| 4 | 1962-12-06 | thur | -0.003462 | 0.210182 | -11.62677 | TRUE |\n",
       "| 5 | 1962-12-07 | fri  |  0.000568 | 0.044187 | -11.72813 | TRUE |\n",
       "| 6 | 1962-12-10 | mon  | -0.010824 | 0.133246 | -10.87253 | TRUE |\n",
       "\n"
      ],
      "text/plain": [
       "  date       day_of_week DJ_return log_volume log_volatility train\n",
       "1 1962-12-03 mon         -0.004461 0.032573   -13.12740      TRUE \n",
       "2 1962-12-04 tues         0.007813 0.346202   -11.74930      TRUE \n",
       "3 1962-12-05 wed          0.003845 0.525306   -11.66561      TRUE \n",
       "4 1962-12-06 thur        -0.003462 0.210182   -11.62677      TRUE \n",
       "5 1962-12-07 fri          0.000568 0.044187   -11.72813      TRUE \n",
       "6 1962-12-10 mon         -0.010824 0.133246   -10.87253      TRUE "
      ]
     },
     "metadata": {},
     "output_type": "display_data"
    }
   ],
   "source": [
    "head(NYSE)"
   ]
  },
  {
   "cell_type": "code",
   "execution_count": 4,
   "id": "4bc58892",
   "metadata": {},
   "outputs": [
    {
     "data": {
      "text/html": [
       "<table class=\"dataframe\">\n",
       "<caption>A matrix: 6 × 3 of type dbl</caption>\n",
       "<thead>\n",
       "\t<tr><th scope=col>DJ_return</th><th scope=col>log_volume</th><th scope=col>log_volatility</th></tr>\n",
       "</thead>\n",
       "<tbody>\n",
       "\t<tr><td>-0.004461</td><td>0.032573</td><td>-13.12740</td></tr>\n",
       "\t<tr><td> 0.007813</td><td>0.346202</td><td>-11.74930</td></tr>\n",
       "\t<tr><td> 0.003845</td><td>0.525306</td><td>-11.66561</td></tr>\n",
       "\t<tr><td>-0.003462</td><td>0.210182</td><td>-11.62677</td></tr>\n",
       "\t<tr><td> 0.000568</td><td>0.044187</td><td>-11.72813</td></tr>\n",
       "\t<tr><td>-0.010824</td><td>0.133246</td><td>-10.87253</td></tr>\n",
       "</tbody>\n",
       "</table>\n"
      ],
      "text/latex": [
       "A matrix: 6 × 3 of type dbl\n",
       "\\begin{tabular}{lll}\n",
       " DJ\\_return & log\\_volume & log\\_volatility\\\\\n",
       "\\hline\n",
       "\t -0.004461 & 0.032573 & -13.12740\\\\\n",
       "\t  0.007813 & 0.346202 & -11.74930\\\\\n",
       "\t  0.003845 & 0.525306 & -11.66561\\\\\n",
       "\t -0.003462 & 0.210182 & -11.62677\\\\\n",
       "\t  0.000568 & 0.044187 & -11.72813\\\\\n",
       "\t -0.010824 & 0.133246 & -10.87253\\\\\n",
       "\\end{tabular}\n"
      ],
      "text/markdown": [
       "\n",
       "A matrix: 6 × 3 of type dbl\n",
       "\n",
       "| DJ_return | log_volume | log_volatility |\n",
       "|---|---|---|\n",
       "| -0.004461 | 0.032573 | -13.12740 |\n",
       "|  0.007813 | 0.346202 | -11.74930 |\n",
       "|  0.003845 | 0.525306 | -11.66561 |\n",
       "| -0.003462 | 0.210182 | -11.62677 |\n",
       "|  0.000568 | 0.044187 | -11.72813 |\n",
       "| -0.010824 | 0.133246 | -10.87253 |\n",
       "\n"
      ],
      "text/plain": [
       "     DJ_return log_volume log_volatility\n",
       "[1,] -0.004461 0.032573   -13.12740     \n",
       "[2,]  0.007813 0.346202   -11.74930     \n",
       "[3,]  0.003845 0.525306   -11.66561     \n",
       "[4,] -0.003462 0.210182   -11.62677     \n",
       "[5,]  0.000568 0.044187   -11.72813     \n",
       "[6,] -0.010824 0.133246   -10.87253     "
      ]
     },
     "metadata": {},
     "output_type": "display_data"
    }
   ],
   "source": [
    "head(xdata)"
   ]
  },
  {
   "cell_type": "code",
   "execution_count": 5,
   "id": "544899b0",
   "metadata": {},
   "outputs": [],
   "source": [
    "#The variable istrain contains a TRUE for \n",
    "#each year that is in the training set, \n",
    "#and a FALSE for each year in the test set.\n",
    "istrain <- NYSE[, \"train\"]\n",
    "xdata <- scale(xdata)"
   ]
  },
  {
   "cell_type": "markdown",
   "id": "574005f0",
   "metadata": {},
   "source": [
    "## Create an autoregressive dataframe"
   ]
  },
  {
   "cell_type": "markdown",
   "id": "ff062f7e",
   "metadata": {},
   "source": [
    "We first write functions to create lagged versions of the three time series. We start with a function that takes as input a data matrix and a lag L, and returns a lagged version of the matrix. "
   ]
  },
  {
   "cell_type": "code",
   "execution_count": 6,
   "id": "cbbfe476",
   "metadata": {},
   "outputs": [],
   "source": [
    "lagm <- function(x, k = 1) {\n",
    "        n <- nrow(x)\n",
    "        pad <- matrix(NA, k, ncol(x))\n",
    "        rbind(pad, x[1:(n - k), ]) }"
   ]
  },
  {
   "cell_type": "markdown",
   "id": "c9eba151",
   "metadata": {},
   "source": [
    "We now use this function to create a data frame with all the required lags, as well as the response variable."
   ]
  },
  {
   "cell_type": "code",
   "execution_count": 7,
   "id": "8f4ae3b6",
   "metadata": {},
   "outputs": [],
   "source": [
    "#autoregression dataframe\n",
    "arframe <- data.frame(log_volume = xdata[, \"log_volume\"], \n",
    "                        L1 = lagm(xdata, 1), L2 = lagm(xdata, 2),\n",
    "                        L3 = lagm(xdata, 3), L4 = lagm(xdata, 4),\n",
    "                        L5 = lagm(xdata, 5))\n"
   ]
  },
  {
   "cell_type": "code",
   "execution_count": 8,
   "id": "4144d11e",
   "metadata": {},
   "outputs": [
    {
     "data": {
      "text/html": [
       "<table class=\"dataframe\">\n",
       "<caption>A data.frame: 6 × 16</caption>\n",
       "<thead>\n",
       "\t<tr><th></th><th scope=col>log_volume</th><th scope=col>L1.DJ_return</th><th scope=col>L1.log_volume</th><th scope=col>L1.log_volatility</th><th scope=col>L2.DJ_return</th><th scope=col>L2.log_volume</th><th scope=col>L2.log_volatility</th><th scope=col>L3.DJ_return</th><th scope=col>L3.log_volume</th><th scope=col>L3.log_volatility</th><th scope=col>L4.DJ_return</th><th scope=col>L4.log_volume</th><th scope=col>L4.log_volatility</th><th scope=col>L5.DJ_return</th><th scope=col>L5.log_volume</th><th scope=col>L5.log_volatility</th></tr>\n",
       "\t<tr><th></th><th scope=col>&lt;dbl&gt;</th><th scope=col>&lt;dbl&gt;</th><th scope=col>&lt;dbl&gt;</th><th scope=col>&lt;dbl&gt;</th><th scope=col>&lt;dbl&gt;</th><th scope=col>&lt;dbl&gt;</th><th scope=col>&lt;dbl&gt;</th><th scope=col>&lt;dbl&gt;</th><th scope=col>&lt;dbl&gt;</th><th scope=col>&lt;dbl&gt;</th><th scope=col>&lt;dbl&gt;</th><th scope=col>&lt;dbl&gt;</th><th scope=col>&lt;dbl&gt;</th><th scope=col>&lt;dbl&gt;</th><th scope=col>&lt;dbl&gt;</th><th scope=col>&lt;dbl&gt;</th></tr>\n",
       "</thead>\n",
       "<tbody>\n",
       "\t<tr><th scope=row>1</th><td>0.1750605</td><td>         NA</td><td>       NA</td><td>       NA</td><td>        NA</td><td>       NA</td><td>       NA</td><td>        NA</td><td>       NA</td><td>       NA</td><td>        NA</td><td>       NA</td><td>       NA</td><td>        NA</td><td>       NA</td><td>       NA</td></tr>\n",
       "\t<tr><th scope=row>2</th><td>1.5171653</td><td>-0.54977791</td><td>0.1750605</td><td>-4.356718</td><td>        NA</td><td>       NA</td><td>       NA</td><td>        NA</td><td>       NA</td><td>       NA</td><td>        NA</td><td>       NA</td><td>       NA</td><td>        NA</td><td>       NA</td><td>       NA</td></tr>\n",
       "\t<tr><th scope=row>3</th><td>2.2836006</td><td> 0.90512515</td><td>1.5171653</td><td>-2.528849</td><td>-0.5497779</td><td>0.1750605</td><td>-4.356718</td><td>        NA</td><td>       NA</td><td>       NA</td><td>        NA</td><td>       NA</td><td>       NA</td><td>        NA</td><td>       NA</td><td>       NA</td></tr>\n",
       "\t<tr><th scope=row>4</th><td>0.9350983</td><td> 0.43477682</td><td>2.2836006</td><td>-2.417837</td><td> 0.9051251</td><td>1.5171653</td><td>-2.528849</td><td>-0.5497779</td><td>0.1750605</td><td>-4.356718</td><td>        NA</td><td>       NA</td><td>       NA</td><td>        NA</td><td>       NA</td><td>       NA</td></tr>\n",
       "\t<tr><th scope=row>5</th><td>0.2247600</td><td>-0.43136108</td><td>0.9350983</td><td>-2.366325</td><td> 0.4347768</td><td>2.2836006</td><td>-2.417837</td><td> 0.9051251</td><td>1.5171653</td><td>-2.528849</td><td>-0.5497779</td><td>0.1750605</td><td>-4.356718</td><td>        NA</td><td>       NA</td><td>       NA</td></tr>\n",
       "\t<tr><th scope=row>6</th><td>0.6058680</td><td> 0.04633644</td><td>0.2247600</td><td>-2.500763</td><td>-0.4313611</td><td>0.9350983</td><td>-2.366325</td><td> 0.4347768</td><td>2.2836006</td><td>-2.417837</td><td> 0.9051251</td><td>1.5171653</td><td>-2.528849</td><td>-0.5497779</td><td>0.1750605</td><td>-4.356718</td></tr>\n",
       "</tbody>\n",
       "</table>\n"
      ],
      "text/latex": [
       "A data.frame: 6 × 16\n",
       "\\begin{tabular}{r|llllllllllllllll}\n",
       "  & log\\_volume & L1.DJ\\_return & L1.log\\_volume & L1.log\\_volatility & L2.DJ\\_return & L2.log\\_volume & L2.log\\_volatility & L3.DJ\\_return & L3.log\\_volume & L3.log\\_volatility & L4.DJ\\_return & L4.log\\_volume & L4.log\\_volatility & L5.DJ\\_return & L5.log\\_volume & L5.log\\_volatility\\\\\n",
       "  & <dbl> & <dbl> & <dbl> & <dbl> & <dbl> & <dbl> & <dbl> & <dbl> & <dbl> & <dbl> & <dbl> & <dbl> & <dbl> & <dbl> & <dbl> & <dbl>\\\\\n",
       "\\hline\n",
       "\t1 & 0.1750605 &          NA &        NA &        NA &         NA &        NA &        NA &         NA &        NA &        NA &         NA &        NA &        NA &         NA &        NA &        NA\\\\\n",
       "\t2 & 1.5171653 & -0.54977791 & 0.1750605 & -4.356718 &         NA &        NA &        NA &         NA &        NA &        NA &         NA &        NA &        NA &         NA &        NA &        NA\\\\\n",
       "\t3 & 2.2836006 &  0.90512515 & 1.5171653 & -2.528849 & -0.5497779 & 0.1750605 & -4.356718 &         NA &        NA &        NA &         NA &        NA &        NA &         NA &        NA &        NA\\\\\n",
       "\t4 & 0.9350983 &  0.43477682 & 2.2836006 & -2.417837 &  0.9051251 & 1.5171653 & -2.528849 & -0.5497779 & 0.1750605 & -4.356718 &         NA &        NA &        NA &         NA &        NA &        NA\\\\\n",
       "\t5 & 0.2247600 & -0.43136108 & 0.9350983 & -2.366325 &  0.4347768 & 2.2836006 & -2.417837 &  0.9051251 & 1.5171653 & -2.528849 & -0.5497779 & 0.1750605 & -4.356718 &         NA &        NA &        NA\\\\\n",
       "\t6 & 0.6058680 &  0.04633644 & 0.2247600 & -2.500763 & -0.4313611 & 0.9350983 & -2.366325 &  0.4347768 & 2.2836006 & -2.417837 &  0.9051251 & 1.5171653 & -2.528849 & -0.5497779 & 0.1750605 & -4.356718\\\\\n",
       "\\end{tabular}\n"
      ],
      "text/markdown": [
       "\n",
       "A data.frame: 6 × 16\n",
       "\n",
       "| <!--/--> | log_volume &lt;dbl&gt; | L1.DJ_return &lt;dbl&gt; | L1.log_volume &lt;dbl&gt; | L1.log_volatility &lt;dbl&gt; | L2.DJ_return &lt;dbl&gt; | L2.log_volume &lt;dbl&gt; | L2.log_volatility &lt;dbl&gt; | L3.DJ_return &lt;dbl&gt; | L3.log_volume &lt;dbl&gt; | L3.log_volatility &lt;dbl&gt; | L4.DJ_return &lt;dbl&gt; | L4.log_volume &lt;dbl&gt; | L4.log_volatility &lt;dbl&gt; | L5.DJ_return &lt;dbl&gt; | L5.log_volume &lt;dbl&gt; | L5.log_volatility &lt;dbl&gt; |\n",
       "|---|---|---|---|---|---|---|---|---|---|---|---|---|---|---|---|---|\n",
       "| 1 | 0.1750605 |          NA |        NA |        NA |         NA |        NA |        NA |         NA |        NA |        NA |         NA |        NA |        NA |         NA |        NA |        NA |\n",
       "| 2 | 1.5171653 | -0.54977791 | 0.1750605 | -4.356718 |         NA |        NA |        NA |         NA |        NA |        NA |         NA |        NA |        NA |         NA |        NA |        NA |\n",
       "| 3 | 2.2836006 |  0.90512515 | 1.5171653 | -2.528849 | -0.5497779 | 0.1750605 | -4.356718 |         NA |        NA |        NA |         NA |        NA |        NA |         NA |        NA |        NA |\n",
       "| 4 | 0.9350983 |  0.43477682 | 2.2836006 | -2.417837 |  0.9051251 | 1.5171653 | -2.528849 | -0.5497779 | 0.1750605 | -4.356718 |         NA |        NA |        NA |         NA |        NA |        NA |\n",
       "| 5 | 0.2247600 | -0.43136108 | 0.9350983 | -2.366325 |  0.4347768 | 2.2836006 | -2.417837 |  0.9051251 | 1.5171653 | -2.528849 | -0.5497779 | 0.1750605 | -4.356718 |         NA |        NA |        NA |\n",
       "| 6 | 0.6058680 |  0.04633644 | 0.2247600 | -2.500763 | -0.4313611 | 0.9350983 | -2.366325 |  0.4347768 | 2.2836006 | -2.417837 |  0.9051251 | 1.5171653 | -2.528849 | -0.5497779 | 0.1750605 | -4.356718 |\n",
       "\n"
      ],
      "text/plain": [
       "  log_volume L1.DJ_return L1.log_volume L1.log_volatility L2.DJ_return\n",
       "1 0.1750605           NA         NA            NA                 NA  \n",
       "2 1.5171653  -0.54977791  0.1750605     -4.356718                 NA  \n",
       "3 2.2836006   0.90512515  1.5171653     -2.528849         -0.5497779  \n",
       "4 0.9350983   0.43477682  2.2836006     -2.417837          0.9051251  \n",
       "5 0.2247600  -0.43136108  0.9350983     -2.366325          0.4347768  \n",
       "6 0.6058680   0.04633644  0.2247600     -2.500763         -0.4313611  \n",
       "  L2.log_volume L2.log_volatility L3.DJ_return L3.log_volume L3.log_volatility\n",
       "1        NA            NA                 NA          NA            NA        \n",
       "2        NA            NA                 NA          NA            NA        \n",
       "3 0.1750605     -4.356718                 NA          NA            NA        \n",
       "4 1.5171653     -2.528849         -0.5497779   0.1750605     -4.356718        \n",
       "5 2.2836006     -2.417837          0.9051251   1.5171653     -2.528849        \n",
       "6 0.9350983     -2.366325          0.4347768   2.2836006     -2.417837        \n",
       "  L4.DJ_return L4.log_volume L4.log_volatility L5.DJ_return L5.log_volume\n",
       "1         NA          NA            NA                 NA          NA    \n",
       "2         NA          NA            NA                 NA          NA    \n",
       "3         NA          NA            NA                 NA          NA    \n",
       "4         NA          NA            NA                 NA          NA    \n",
       "5 -0.5497779   0.1750605     -4.356718                 NA          NA    \n",
       "6  0.9051251   1.5171653     -2.528849         -0.5497779   0.1750605    \n",
       "  L5.log_volatility\n",
       "1        NA        \n",
       "2        NA        \n",
       "3        NA        \n",
       "4        NA        \n",
       "5        NA        \n",
       "6 -4.356718        "
      ]
     },
     "metadata": {},
     "output_type": "display_data"
    }
   ],
   "source": [
    "head(arframe)"
   ]
  },
  {
   "cell_type": "markdown",
   "id": "a361747a",
   "metadata": {},
   "source": [
    "## Fit an autoregressive model"
   ]
  },
  {
   "cell_type": "markdown",
   "id": "1d01e608",
   "metadata": {},
   "source": [
    "If we look at the first five rows of this frame, we will see some missing values in the lagged variables (due to the construction above). We remove these rows, and adjust istrain accordingly."
   ]
  },
  {
   "cell_type": "code",
   "execution_count": 9,
   "id": "2356fb41",
   "metadata": {},
   "outputs": [],
   "source": [
    "arframe <- arframe[-(1:5), ] \n",
    "istrain <- istrain[-(1:5)]"
   ]
  },
  {
   "cell_type": "markdown",
   "id": "b0bc6188",
   "metadata": {},
   "source": [
    "We now fit the linear AR model to the training data using lm(), and predict on the test data."
   ]
  },
  {
   "cell_type": "code",
   "execution_count": 10,
   "id": "d2392bfd",
   "metadata": {},
   "outputs": [
    {
     "data": {
      "text/html": [
       "0.413222993690232"
      ],
      "text/latex": [
       "0.413222993690232"
      ],
      "text/markdown": [
       "0.413222993690232"
      ],
      "text/plain": [
       "[1] 0.413223"
      ]
     },
     "metadata": {},
     "output_type": "display_data"
    }
   ],
   "source": [
    "arfit <- lm(log_volume ~ ., data = arframe[istrain, ])\n",
    "arpred <- predict(arfit, arframe[!istrain, ])\n",
    "V0 <- var(arframe[!istrain, \"log_volume\"])\n",
    "1 - mean((arpred - arframe[!istrain, \"log_volume\"])^2) / V0"
   ]
  },
  {
   "cell_type": "markdown",
   "id": "6cb10f39",
   "metadata": {},
   "source": [
    "We refit this model, including the factor variable day of week."
   ]
  },
  {
   "cell_type": "code",
   "execution_count": 12,
   "id": "f0a9e1eb",
   "metadata": {},
   "outputs": [
    {
     "data": {
      "text/html": [
       "0.459861648721539"
      ],
      "text/latex": [
       "0.459861648721539"
      ],
      "text/markdown": [
       "0.459861648721539"
      ],
      "text/plain": [
       "[1] 0.4598616"
      ]
     },
     "metadata": {},
     "output_type": "display_data"
    }
   ],
   "source": [
    "arframed <-\n",
    "data.frame(day = NYSE[-(1:5), \"day_of_week\"], arframe)\n",
    "arfitd <- lm(log_volume ~ ., data = arframed[istrain, ])\n",
    "arpredd <- predict(arfitd, arframed[!istrain, ])\n",
    "1 - mean((arpredd - arframe[!istrain, \"log_volume\"])^2) / V0"
   ]
  },
  {
   "cell_type": "markdown",
   "id": "a1e91d71",
   "metadata": {},
   "source": [
    "## Fit an RNN "
   ]
  },
  {
   "cell_type": "markdown",
   "id": "c3b41aae",
   "metadata": {},
   "source": [
    "To fit the RNN, we need to reshape these data, since it expects a sequence of $L = 5$ feature vectors $X = {X_l}^L_1$ for each observation. These are lagged versions of the time series going back $L$ time points."
   ]
  },
  {
   "cell_type": "code",
   "execution_count": 13,
   "id": "8e85179d",
   "metadata": {},
   "outputs": [
    {
     "data": {
      "text/html": [
       "<style>\n",
       ".list-inline {list-style: none; margin:0; padding: 0}\n",
       ".list-inline>li {display: inline-block}\n",
       ".list-inline>li:not(:last-child)::after {content: \"\\00b7\"; padding: 0 .5ex}\n",
       "</style>\n",
       "<ol class=list-inline><li>6046</li><li>5</li><li>3</li></ol>\n"
      ],
      "text/latex": [
       "\\begin{enumerate*}\n",
       "\\item 6046\n",
       "\\item 5\n",
       "\\item 3\n",
       "\\end{enumerate*}\n"
      ],
      "text/markdown": [
       "1. 6046\n",
       "2. 5\n",
       "3. 3\n",
       "\n",
       "\n"
      ],
      "text/plain": [
       "[1] 6046    5    3"
      ]
     },
     "metadata": {},
     "output_type": "display_data"
    }
   ],
   "source": [
    "n <- nrow(arframe)\n",
    "xrnn <- data.matrix(arframe[, -1]) \n",
    "xrnn <- array(xrnn, c(n, 3, 5))\n",
    "xrnn <- xrnn[,, 5:1]\n",
    "xrnn <- aperm(xrnn, c(1, 3, 2))\n",
    "dim(xrnn)"
   ]
  },
  {
   "cell_type": "code",
   "execution_count": 14,
   "id": "a26af1e8",
   "metadata": {},
   "outputs": [],
   "source": [
    "model <- keras_model_sequential() %>%\n",
    "        layer_simple_rnn(units = 12,input_shape = list(5, 3),\n",
    "                        dropout = 0.1, recurrent_dropout = 0.1) %>%\n",
    "        layer_dense(units = 1)\n"
   ]
  },
  {
   "cell_type": "code",
   "execution_count": 15,
   "id": "141837af",
   "metadata": {},
   "outputs": [],
   "source": [
    "model %>% compile(optimizer = optimizer_rmsprop(), loss = \"mse\")"
   ]
  },
  {
   "cell_type": "code",
   "execution_count": 16,
   "id": "52a59716",
   "metadata": {},
   "outputs": [],
   "source": [
    "history <- model %>% fit(xrnn[istrain,, ], arframe[istrain, \"log_volume\"], \n",
    "                        batch_size = 64, epochs = 200,\n",
    "                        validation_data = list(xrnn[!istrain,, ], arframe[!istrain, \"log_volume\"])\n",
    "                        )"
   ]
  },
  {
   "cell_type": "code",
   "execution_count": 17,
   "id": "15d24394",
   "metadata": {},
   "outputs": [
    {
     "data": {
      "text/plain": [
       "\n",
       "Final epoch (plot to see history):\n",
       "    loss: 0.4269\n",
       "val_loss: 0.626 "
      ]
     },
     "metadata": {},
     "output_type": "display_data"
    }
   ],
   "source": [
    "history"
   ]
  },
  {
   "cell_type": "code",
   "execution_count": 18,
   "id": "137891d2",
   "metadata": {},
   "outputs": [
    {
     "data": {
      "image/png": "[encoded data removed]",
      "text/plain": [
       "plot without title"
      ]
     },
     "metadata": {
      "image/png": {
       "height": 420,
       "width": 420
      }
     },
     "output_type": "display_data"
    }
   ],
   "source": [
    "plot(history)"
   ]
  },
  {
   "cell_type": "code",
   "execution_count": 19,
   "id": "13c319fa",
   "metadata": {},
   "outputs": [
    {
     "data": {
      "text/html": [
       "0.406120710781996"
      ],
      "text/latex": [
       "0.406120710781996"
      ],
      "text/markdown": [
       "0.406120710781996"
      ],
      "text/plain": [
       "[1] 0.4061207"
      ]
     },
     "metadata": {},
     "output_type": "display_data"
    }
   ],
   "source": [
    "kpred <- predict(model, xrnn[!istrain,, ])\n",
    "1 - mean((kpred - arframe[!istrain, \"log_volume\"])^2) / V0"
   ]
  },
  {
   "cell_type": "markdown",
   "id": "94e8d74a",
   "metadata": {},
   "source": [
    "\n",
    "# References\n",
    "\n",
    "Chapter 10, **An Introduction to Statistical Learning with Applications in R**, Gareth James, Daniela Witten, Trevor Hastie, and Robert Tibshirani.\n"
   ]
  }
 ],
 "metadata": {
  "kernelspec": {
   "display_name": "R",
   "language": "R",
   "name": "ir"
  },
  "language_info": {
   "codemirror_mode": "r",
   "file_extension": ".r",
   "mimetype": "text/x-r-source",
   "name": "R",
   "pygments_lexer": "r",
   "version": "4.3.0"
  }
 },
 "nbformat": 4,
 "nbformat_minor": 5
}
