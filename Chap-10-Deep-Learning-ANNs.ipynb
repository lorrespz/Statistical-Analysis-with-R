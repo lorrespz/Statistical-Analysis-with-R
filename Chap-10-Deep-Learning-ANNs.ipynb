{
 "cells": [
  {
   "cell_type": "markdown",
   "id": "b7fd9b8c",
   "metadata": {},
   "source": [
    "\n",
    "# Chapter 10: Deep Learning\n",
    "\n",
    "## 10.9.1 A Single Layer Network on the Hitters Data\n"
   ]
  },
  {
   "cell_type": "code",
   "execution_count": 1,
   "id": "7ad7d14b",
   "metadata": {},
   "outputs": [],
   "source": [
    "library(ISLR2)"
   ]
  },
  {
   "cell_type": "code",
   "execution_count": 2,
   "id": "7af06d05",
   "metadata": {},
   "outputs": [],
   "source": [
    "Gitters <- na.omit(Hitters)"
   ]
  },
  {
   "cell_type": "code",
   "execution_count": 3,
   "id": "24cb3397",
   "metadata": {},
   "outputs": [
    {
     "data": {
      "text/html": [
       "<table class=\"dataframe\">\n",
       "<caption>A data.frame: 263 × 20</caption>\n",
       "<thead>\n",
       "\t<tr><th></th><th scope=col>AtBat</th><th scope=col>Hits</th><th scope=col>HmRun</th><th scope=col>Runs</th><th scope=col>RBI</th><th scope=col>Walks</th><th scope=col>Years</th><th scope=col>CAtBat</th><th scope=col>CHits</th><th scope=col>CHmRun</th><th scope=col>CRuns</th><th scope=col>CRBI</th><th scope=col>CWalks</th><th scope=col>League</th><th scope=col>Division</th><th scope=col>PutOuts</th><th scope=col>Assists</th><th scope=col>Errors</th><th scope=col>Salary</th><th scope=col>NewLeague</th></tr>\n",
       "\t<tr><th></th><th scope=col>&lt;int&gt;</th><th scope=col>&lt;int&gt;</th><th scope=col>&lt;int&gt;</th><th scope=col>&lt;int&gt;</th><th scope=col>&lt;int&gt;</th><th scope=col>&lt;int&gt;</th><th scope=col>&lt;int&gt;</th><th scope=col>&lt;int&gt;</th><th scope=col>&lt;int&gt;</th><th scope=col>&lt;int&gt;</th><th scope=col>&lt;int&gt;</th><th scope=col>&lt;int&gt;</th><th scope=col>&lt;int&gt;</th><th scope=col>&lt;fct&gt;</th><th scope=col>&lt;fct&gt;</th><th scope=col>&lt;int&gt;</th><th scope=col>&lt;int&gt;</th><th scope=col>&lt;int&gt;</th><th scope=col>&lt;dbl&gt;</th><th scope=col>&lt;fct&gt;</th></tr>\n",
       "</thead>\n",
       "<tbody>\n",
       "\t<tr><th scope=row>-Alan Ashby</th><td>315</td><td> 81</td><td> 7</td><td> 24</td><td> 38</td><td>39</td><td>14</td><td>3449</td><td> 835</td><td> 69</td><td> 321</td><td> 414</td><td>375</td><td>N</td><td>W</td><td> 632</td><td> 43</td><td>10</td><td> 475.000</td><td>N</td></tr>\n",
       "\t<tr><th scope=row>-Alvin Davis</th><td>479</td><td>130</td><td>18</td><td> 66</td><td> 72</td><td>76</td><td> 3</td><td>1624</td><td> 457</td><td> 63</td><td> 224</td><td> 266</td><td>263</td><td>A</td><td>W</td><td> 880</td><td> 82</td><td>14</td><td> 480.000</td><td>A</td></tr>\n",
       "\t<tr><th scope=row>-Andre Dawson</th><td>496</td><td>141</td><td>20</td><td> 65</td><td> 78</td><td>37</td><td>11</td><td>5628</td><td>1575</td><td>225</td><td> 828</td><td> 838</td><td>354</td><td>N</td><td>E</td><td> 200</td><td> 11</td><td> 3</td><td> 500.000</td><td>N</td></tr>\n",
       "\t<tr><th scope=row>-Andres Galarraga</th><td>321</td><td> 87</td><td>10</td><td> 39</td><td> 42</td><td>30</td><td> 2</td><td> 396</td><td> 101</td><td> 12</td><td>  48</td><td>  46</td><td> 33</td><td>N</td><td>E</td><td> 805</td><td> 40</td><td> 4</td><td>  91.500</td><td>N</td></tr>\n",
       "\t<tr><th scope=row>-Alfredo Griffin</th><td>594</td><td>169</td><td> 4</td><td> 74</td><td> 51</td><td>35</td><td>11</td><td>4408</td><td>1133</td><td> 19</td><td> 501</td><td> 336</td><td>194</td><td>A</td><td>W</td><td> 282</td><td>421</td><td>25</td><td> 750.000</td><td>A</td></tr>\n",
       "\t<tr><th scope=row>-Al Newman</th><td>185</td><td> 37</td><td> 1</td><td> 23</td><td>  8</td><td>21</td><td> 2</td><td> 214</td><td>  42</td><td>  1</td><td>  30</td><td>   9</td><td> 24</td><td>N</td><td>E</td><td>  76</td><td>127</td><td> 7</td><td>  70.000</td><td>A</td></tr>\n",
       "\t<tr><th scope=row>-Argenis Salazar</th><td>298</td><td> 73</td><td> 0</td><td> 24</td><td> 24</td><td> 7</td><td> 3</td><td> 509</td><td> 108</td><td>  0</td><td>  41</td><td>  37</td><td> 12</td><td>A</td><td>W</td><td> 121</td><td>283</td><td> 9</td><td> 100.000</td><td>A</td></tr>\n",
       "\t<tr><th scope=row>-Andres Thomas</th><td>323</td><td> 81</td><td> 6</td><td> 26</td><td> 32</td><td> 8</td><td> 2</td><td> 341</td><td>  86</td><td>  6</td><td>  32</td><td>  34</td><td>  8</td><td>N</td><td>W</td><td> 143</td><td>290</td><td>19</td><td>  75.000</td><td>N</td></tr>\n",
       "\t<tr><th scope=row>-Andre Thornton</th><td>401</td><td> 92</td><td>17</td><td> 49</td><td> 66</td><td>65</td><td>13</td><td>5206</td><td>1332</td><td>253</td><td> 784</td><td> 890</td><td>866</td><td>A</td><td>E</td><td>   0</td><td>  0</td><td> 0</td><td>1100.000</td><td>A</td></tr>\n",
       "\t<tr><th scope=row>-Alan Trammell</th><td>574</td><td>159</td><td>21</td><td>107</td><td> 75</td><td>59</td><td>10</td><td>4631</td><td>1300</td><td> 90</td><td> 702</td><td> 504</td><td>488</td><td>A</td><td>E</td><td> 238</td><td>445</td><td>22</td><td> 517.143</td><td>A</td></tr>\n",
       "\t<tr><th scope=row>-Alex Trevino</th><td>202</td><td> 53</td><td> 4</td><td> 31</td><td> 26</td><td>27</td><td> 9</td><td>1876</td><td> 467</td><td> 15</td><td> 192</td><td> 186</td><td>161</td><td>N</td><td>W</td><td> 304</td><td> 45</td><td>11</td><td> 512.500</td><td>N</td></tr>\n",
       "\t<tr><th scope=row>-Andy VanSlyke</th><td>418</td><td>113</td><td>13</td><td> 48</td><td> 61</td><td>47</td><td> 4</td><td>1512</td><td> 392</td><td> 41</td><td> 205</td><td> 204</td><td>203</td><td>N</td><td>E</td><td> 211</td><td> 11</td><td> 7</td><td> 550.000</td><td>N</td></tr>\n",
       "\t<tr><th scope=row>-Alan Wiggins</th><td>239</td><td> 60</td><td> 0</td><td> 30</td><td> 11</td><td>22</td><td> 6</td><td>1941</td><td> 510</td><td>  4</td><td> 309</td><td> 103</td><td>207</td><td>A</td><td>E</td><td> 121</td><td>151</td><td> 6</td><td> 700.000</td><td>A</td></tr>\n",
       "\t<tr><th scope=row>-Bill Almon</th><td>196</td><td> 43</td><td> 7</td><td> 29</td><td> 27</td><td>30</td><td>13</td><td>3231</td><td> 825</td><td> 36</td><td> 376</td><td> 290</td><td>238</td><td>N</td><td>E</td><td>  80</td><td> 45</td><td> 8</td><td> 240.000</td><td>N</td></tr>\n",
       "\t<tr><th scope=row>-Buddy Bell</th><td>568</td><td>158</td><td>20</td><td> 89</td><td> 75</td><td>73</td><td>15</td><td>8068</td><td>2273</td><td>177</td><td>1045</td><td> 993</td><td>732</td><td>N</td><td>W</td><td> 105</td><td>290</td><td>10</td><td> 775.000</td><td>N</td></tr>\n",
       "\t<tr><th scope=row>-Buddy Biancalana</th><td>190</td><td> 46</td><td> 2</td><td> 24</td><td>  8</td><td>15</td><td> 5</td><td> 479</td><td> 102</td><td>  5</td><td>  65</td><td>  23</td><td> 39</td><td>A</td><td>W</td><td> 102</td><td>177</td><td>16</td><td> 175.000</td><td>A</td></tr>\n",
       "\t<tr><th scope=row>-Bruce Bochy</th><td>127</td><td> 32</td><td> 8</td><td> 16</td><td> 22</td><td>14</td><td> 8</td><td> 727</td><td> 180</td><td> 24</td><td>  67</td><td>  82</td><td> 56</td><td>N</td><td>W</td><td> 202</td><td> 22</td><td> 2</td><td> 135.000</td><td>N</td></tr>\n",
       "\t<tr><th scope=row>-Barry Bonds</th><td>413</td><td> 92</td><td>16</td><td> 72</td><td> 48</td><td>65</td><td> 1</td><td> 413</td><td>  92</td><td> 16</td><td>  72</td><td>  48</td><td> 65</td><td>N</td><td>E</td><td> 280</td><td>  9</td><td> 5</td><td> 100.000</td><td>N</td></tr>\n",
       "\t<tr><th scope=row>-Bobby Bonilla</th><td>426</td><td>109</td><td> 3</td><td> 55</td><td> 43</td><td>62</td><td> 1</td><td> 426</td><td> 109</td><td>  3</td><td>  55</td><td>  43</td><td> 62</td><td>A</td><td>W</td><td> 361</td><td> 22</td><td> 2</td><td> 115.000</td><td>N</td></tr>\n",
       "\t<tr><th scope=row>-Bob Brenly</th><td>472</td><td>116</td><td>16</td><td> 60</td><td> 62</td><td>74</td><td> 6</td><td>1924</td><td> 489</td><td> 67</td><td> 242</td><td> 251</td><td>240</td><td>N</td><td>W</td><td> 518</td><td> 55</td><td> 3</td><td> 600.000</td><td>N</td></tr>\n",
       "\t<tr><th scope=row>-Bill Buckner</th><td>629</td><td>168</td><td>18</td><td> 73</td><td>102</td><td>40</td><td>18</td><td>8424</td><td>2464</td><td>164</td><td>1008</td><td>1072</td><td>402</td><td>A</td><td>E</td><td>1067</td><td>157</td><td>14</td><td> 776.667</td><td>A</td></tr>\n",
       "\t<tr><th scope=row>-Brett Butler</th><td>587</td><td>163</td><td> 4</td><td> 92</td><td> 51</td><td>70</td><td> 6</td><td>2695</td><td> 747</td><td> 17</td><td> 442</td><td> 198</td><td>317</td><td>A</td><td>E</td><td> 434</td><td>  9</td><td> 3</td><td> 765.000</td><td>A</td></tr>\n",
       "\t<tr><th scope=row>-Bob Dernier</th><td>324</td><td> 73</td><td> 4</td><td> 32</td><td> 18</td><td>22</td><td> 7</td><td>1931</td><td> 491</td><td> 13</td><td> 291</td><td> 108</td><td>180</td><td>N</td><td>E</td><td> 222</td><td>  3</td><td> 3</td><td> 708.333</td><td>N</td></tr>\n",
       "\t<tr><th scope=row>-Bo Diaz</th><td>474</td><td>129</td><td>10</td><td> 50</td><td> 56</td><td>40</td><td>10</td><td>2331</td><td> 604</td><td> 61</td><td> 246</td><td> 327</td><td>166</td><td>N</td><td>W</td><td> 732</td><td> 83</td><td>13</td><td> 750.000</td><td>N</td></tr>\n",
       "\t<tr><th scope=row>-Bill Doran</th><td>550</td><td>152</td><td> 6</td><td> 92</td><td> 37</td><td>81</td><td> 5</td><td>2308</td><td> 633</td><td> 32</td><td> 349</td><td> 182</td><td>308</td><td>N</td><td>W</td><td> 262</td><td>329</td><td>16</td><td> 625.000</td><td>N</td></tr>\n",
       "\t<tr><th scope=row>-Brian Downing</th><td>513</td><td>137</td><td>20</td><td> 90</td><td> 95</td><td>90</td><td>14</td><td>5201</td><td>1382</td><td>166</td><td> 763</td><td> 734</td><td>784</td><td>A</td><td>W</td><td> 267</td><td>  5</td><td> 3</td><td> 900.000</td><td>A</td></tr>\n",
       "\t<tr><th scope=row>-Billy Hatcher</th><td>419</td><td>108</td><td> 6</td><td> 55</td><td> 36</td><td>22</td><td> 3</td><td> 591</td><td> 149</td><td>  8</td><td>  80</td><td>  46</td><td> 31</td><td>N</td><td>W</td><td> 226</td><td>  7</td><td> 4</td><td> 110.000</td><td>N</td></tr>\n",
       "\t<tr><th scope=row>-Brook Jacoby</th><td>583</td><td>168</td><td>17</td><td> 83</td><td> 80</td><td>56</td><td> 5</td><td>1646</td><td> 452</td><td> 44</td><td> 219</td><td> 208</td><td>136</td><td>A</td><td>E</td><td> 109</td><td>292</td><td>25</td><td> 612.500</td><td>A</td></tr>\n",
       "\t<tr><th scope=row>-Bob Kearney</th><td>204</td><td> 49</td><td> 6</td><td> 23</td><td> 25</td><td>12</td><td> 7</td><td>1309</td><td> 308</td><td> 27</td><td> 126</td><td> 132</td><td> 66</td><td>A</td><td>W</td><td> 419</td><td> 46</td><td> 5</td><td> 300.000</td><td>A</td></tr>\n",
       "\t<tr><th scope=row>-Bill Madlock</th><td>379</td><td>106</td><td>10</td><td> 38</td><td> 60</td><td>30</td><td>14</td><td>6207</td><td>1906</td><td>146</td><td> 859</td><td> 803</td><td>571</td><td>N</td><td>W</td><td>  72</td><td>170</td><td>24</td><td> 850.000</td><td>N</td></tr>\n",
       "\t<tr><th scope=row>⋮</th><td>⋮</td><td>⋮</td><td>⋮</td><td>⋮</td><td>⋮</td><td>⋮</td><td>⋮</td><td>⋮</td><td>⋮</td><td>⋮</td><td>⋮</td><td>⋮</td><td>⋮</td><td>⋮</td><td>⋮</td><td>⋮</td><td>⋮</td><td>⋮</td><td>⋮</td><td>⋮</td></tr>\n",
       "\t<tr><th scope=row>-Tony Fernandez</th><td>687</td><td>213</td><td>10</td><td> 91</td><td> 65</td><td> 27</td><td> 4</td><td>1518</td><td> 448</td><td> 15</td><td> 196</td><td> 137</td><td> 89</td><td>A</td><td>E</td><td> 294</td><td>445</td><td>13</td><td> 350.000</td><td>A</td></tr>\n",
       "\t<tr><th scope=row>-Tim Flannery</th><td>368</td><td>103</td><td> 3</td><td> 48</td><td> 28</td><td> 54</td><td> 8</td><td>1897</td><td> 493</td><td>  9</td><td> 207</td><td> 162</td><td>198</td><td>N</td><td>W</td><td> 209</td><td>246</td><td> 3</td><td> 326.667</td><td>N</td></tr>\n",
       "\t<tr><th scope=row>-Tom Foley</th><td>263</td><td> 70</td><td> 1</td><td> 26</td><td> 23</td><td> 30</td><td> 4</td><td> 888</td><td> 220</td><td>  9</td><td>  83</td><td>  82</td><td> 86</td><td>N</td><td>E</td><td>  81</td><td>147</td><td> 4</td><td> 250.000</td><td>N</td></tr>\n",
       "\t<tr><th scope=row>-Tony Gwynn</th><td>642</td><td>211</td><td>14</td><td>107</td><td> 59</td><td> 52</td><td> 5</td><td>2364</td><td> 770</td><td> 27</td><td> 352</td><td> 230</td><td>193</td><td>N</td><td>W</td><td> 337</td><td> 19</td><td> 4</td><td> 740.000</td><td>N</td></tr>\n",
       "\t<tr><th scope=row>-Terry Harper</th><td>265</td><td> 68</td><td> 8</td><td> 26</td><td> 30</td><td> 29</td><td> 7</td><td>1337</td><td> 339</td><td> 32</td><td> 135</td><td> 163</td><td>128</td><td>N</td><td>W</td><td>  92</td><td>  5</td><td> 3</td><td> 425.000</td><td>A</td></tr>\n",
       "\t<tr><th scope=row>-Tommy Herr</th><td>559</td><td>141</td><td> 2</td><td> 48</td><td> 61</td><td> 73</td><td> 8</td><td>3162</td><td> 874</td><td> 16</td><td> 421</td><td> 349</td><td>359</td><td>N</td><td>E</td><td> 352</td><td>414</td><td> 9</td><td> 925.000</td><td>N</td></tr>\n",
       "\t<tr><th scope=row>-Tim Hulett</th><td>520</td><td>120</td><td>17</td><td> 53</td><td> 44</td><td> 21</td><td> 4</td><td> 927</td><td> 227</td><td> 22</td><td> 106</td><td>  80</td><td> 52</td><td>A</td><td>W</td><td>  70</td><td>144</td><td>11</td><td> 185.000</td><td>A</td></tr>\n",
       "\t<tr><th scope=row>-Terry Kennedy</th><td> 19</td><td>  4</td><td> 1</td><td>  2</td><td>  3</td><td>  1</td><td> 1</td><td>  19</td><td>   4</td><td>  1</td><td>   2</td><td>   3</td><td>  1</td><td>N</td><td>W</td><td> 692</td><td> 70</td><td> 8</td><td> 920.000</td><td>A</td></tr>\n",
       "\t<tr><th scope=row>-Tito Landrum</th><td>205</td><td> 43</td><td> 2</td><td> 24</td><td> 17</td><td> 20</td><td> 7</td><td> 854</td><td> 219</td><td> 12</td><td> 105</td><td>  99</td><td> 71</td><td>N</td><td>E</td><td> 131</td><td>  6</td><td> 1</td><td> 286.667</td><td>N</td></tr>\n",
       "\t<tr><th scope=row>-Tim Laudner</th><td>193</td><td> 47</td><td>10</td><td> 21</td><td> 29</td><td> 24</td><td> 6</td><td>1136</td><td> 256</td><td> 42</td><td> 129</td><td> 139</td><td>106</td><td>A</td><td>W</td><td> 299</td><td> 13</td><td> 5</td><td> 245.000</td><td>A</td></tr>\n",
       "\t<tr><th scope=row>-Tom Paciorek</th><td>213</td><td> 61</td><td> 4</td><td> 17</td><td> 22</td><td>  3</td><td>17</td><td>4061</td><td>1145</td><td> 83</td><td> 488</td><td> 491</td><td>244</td><td>A</td><td>W</td><td> 178</td><td> 45</td><td> 4</td><td> 235.000</td><td>A</td></tr>\n",
       "\t<tr><th scope=row>-Tony Pena</th><td>510</td><td>147</td><td>10</td><td> 56</td><td> 52</td><td> 53</td><td> 7</td><td>2872</td><td> 821</td><td> 63</td><td> 307</td><td> 340</td><td>174</td><td>N</td><td>E</td><td> 810</td><td> 99</td><td>18</td><td>1150.000</td><td>N</td></tr>\n",
       "\t<tr><th scope=row>-Terry Pendleton</th><td>578</td><td>138</td><td> 1</td><td> 56</td><td> 59</td><td> 34</td><td> 3</td><td>1399</td><td> 357</td><td>  7</td><td> 149</td><td> 161</td><td> 87</td><td>N</td><td>E</td><td> 133</td><td>371</td><td>20</td><td> 160.000</td><td>N</td></tr>\n",
       "\t<tr><th scope=row>-Tony Phillips</th><td>441</td><td>113</td><td> 5</td><td> 76</td><td> 52</td><td> 76</td><td> 5</td><td>1546</td><td> 397</td><td> 17</td><td> 226</td><td> 149</td><td>191</td><td>A</td><td>W</td><td> 160</td><td>290</td><td>11</td><td> 425.000</td><td>A</td></tr>\n",
       "\t<tr><th scope=row>-Terry Puhl</th><td>172</td><td> 42</td><td> 3</td><td> 17</td><td> 14</td><td> 15</td><td>10</td><td>4086</td><td>1150</td><td> 57</td><td> 579</td><td> 363</td><td>406</td><td>N</td><td>W</td><td>  65</td><td>  0</td><td> 0</td><td> 900.000</td><td>N</td></tr>\n",
       "\t<tr><th scope=row>-Ted Simmons</th><td>127</td><td> 32</td><td> 4</td><td> 14</td><td> 25</td><td> 12</td><td>19</td><td>8396</td><td>2402</td><td>242</td><td>1048</td><td>1348</td><td>819</td><td>N</td><td>W</td><td> 167</td><td> 18</td><td> 6</td><td> 500.000</td><td>N</td></tr>\n",
       "\t<tr><th scope=row>-Tim Teufel</th><td>279</td><td> 69</td><td> 4</td><td> 35</td><td> 31</td><td> 32</td><td> 4</td><td>1359</td><td> 355</td><td> 31</td><td> 180</td><td> 148</td><td>158</td><td>N</td><td>E</td><td> 133</td><td>173</td><td> 9</td><td> 277.500</td><td>N</td></tr>\n",
       "\t<tr><th scope=row>-Tim Wallach</th><td>480</td><td>112</td><td>18</td><td> 50</td><td> 71</td><td> 44</td><td> 7</td><td>3031</td><td> 771</td><td>110</td><td> 338</td><td> 406</td><td>239</td><td>N</td><td>E</td><td>  94</td><td>270</td><td>16</td><td> 750.000</td><td>N</td></tr>\n",
       "\t<tr><th scope=row>-Vince Coleman</th><td>600</td><td>139</td><td> 0</td><td> 94</td><td> 29</td><td> 60</td><td> 2</td><td>1236</td><td> 309</td><td>  1</td><td> 201</td><td>  69</td><td>110</td><td>N</td><td>E</td><td> 300</td><td> 12</td><td> 9</td><td> 160.000</td><td>N</td></tr>\n",
       "\t<tr><th scope=row>-Von Hayes</th><td>610</td><td>186</td><td>19</td><td>107</td><td> 98</td><td> 74</td><td> 6</td><td>2728</td><td> 753</td><td> 69</td><td> 399</td><td> 366</td><td>286</td><td>N</td><td>E</td><td>1182</td><td> 96</td><td>13</td><td>1300.000</td><td>N</td></tr>\n",
       "\t<tr><th scope=row>-Vance Law</th><td>360</td><td> 81</td><td> 5</td><td> 37</td><td> 44</td><td> 37</td><td> 7</td><td>2268</td><td> 566</td><td> 41</td><td> 279</td><td> 257</td><td>246</td><td>N</td><td>E</td><td> 170</td><td>284</td><td> 3</td><td> 525.000</td><td>N</td></tr>\n",
       "\t<tr><th scope=row>-Wally Backman</th><td>387</td><td>124</td><td> 1</td><td> 67</td><td> 27</td><td> 36</td><td> 7</td><td>1775</td><td> 506</td><td>  6</td><td> 272</td><td> 125</td><td>194</td><td>N</td><td>E</td><td> 186</td><td>290</td><td>17</td><td> 550.000</td><td>N</td></tr>\n",
       "\t<tr><th scope=row>-Wade Boggs</th><td>580</td><td>207</td><td> 8</td><td>107</td><td> 71</td><td>105</td><td> 5</td><td>2778</td><td> 978</td><td> 32</td><td> 474</td><td> 322</td><td>417</td><td>A</td><td>E</td><td> 121</td><td>267</td><td>19</td><td>1600.000</td><td>A</td></tr>\n",
       "\t<tr><th scope=row>-Will Clark</th><td>408</td><td>117</td><td>11</td><td> 66</td><td> 41</td><td> 34</td><td> 1</td><td> 408</td><td> 117</td><td> 11</td><td>  66</td><td>  41</td><td> 34</td><td>N</td><td>W</td><td> 942</td><td> 72</td><td>11</td><td> 120.000</td><td>N</td></tr>\n",
       "\t<tr><th scope=row>-Wally Joyner</th><td>593</td><td>172</td><td>22</td><td> 82</td><td>100</td><td> 57</td><td> 1</td><td> 593</td><td> 172</td><td> 22</td><td>  82</td><td> 100</td><td> 57</td><td>A</td><td>W</td><td>1222</td><td>139</td><td>15</td><td> 165.000</td><td>A</td></tr>\n",
       "\t<tr><th scope=row>-Willie McGee</th><td>497</td><td>127</td><td> 7</td><td> 65</td><td> 48</td><td> 37</td><td> 5</td><td>2703</td><td> 806</td><td> 32</td><td> 379</td><td> 311</td><td>138</td><td>N</td><td>E</td><td> 325</td><td>  9</td><td> 3</td><td> 700.000</td><td>N</td></tr>\n",
       "\t<tr><th scope=row>-Willie Randolph</th><td>492</td><td>136</td><td> 5</td><td> 76</td><td> 50</td><td> 94</td><td>12</td><td>5511</td><td>1511</td><td> 39</td><td> 897</td><td> 451</td><td>875</td><td>A</td><td>E</td><td> 313</td><td>381</td><td>20</td><td> 875.000</td><td>A</td></tr>\n",
       "\t<tr><th scope=row>-Wayne Tolleson</th><td>475</td><td>126</td><td> 3</td><td> 61</td><td> 43</td><td> 52</td><td> 6</td><td>1700</td><td> 433</td><td>  7</td><td> 217</td><td>  93</td><td>146</td><td>A</td><td>W</td><td>  37</td><td>113</td><td> 7</td><td> 385.000</td><td>A</td></tr>\n",
       "\t<tr><th scope=row>-Willie Upshaw</th><td>573</td><td>144</td><td> 9</td><td> 85</td><td> 60</td><td> 78</td><td> 8</td><td>3198</td><td> 857</td><td> 97</td><td> 470</td><td> 420</td><td>332</td><td>A</td><td>E</td><td>1314</td><td>131</td><td>12</td><td> 960.000</td><td>A</td></tr>\n",
       "\t<tr><th scope=row>-Willie Wilson</th><td>631</td><td>170</td><td> 9</td><td> 77</td><td> 44</td><td> 31</td><td>11</td><td>4908</td><td>1457</td><td> 30</td><td> 775</td><td> 357</td><td>249</td><td>A</td><td>W</td><td> 408</td><td>  4</td><td> 3</td><td>1000.000</td><td>A</td></tr>\n",
       "</tbody>\n",
       "</table>\n"
      ],
      "text/latex": [
       "A data.frame: 263 × 20\n",
       "\\begin{tabular}{r|llllllllllllllllllll}\n",
       "  & AtBat & Hits & HmRun & Runs & RBI & Walks & Years & CAtBat & CHits & CHmRun & CRuns & CRBI & CWalks & League & Division & PutOuts & Assists & Errors & Salary & NewLeague\\\\\n",
       "  & <int> & <int> & <int> & <int> & <int> & <int> & <int> & <int> & <int> & <int> & <int> & <int> & <int> & <fct> & <fct> & <int> & <int> & <int> & <dbl> & <fct>\\\\\n",
       "\\hline\n",
       "\t-Alan Ashby & 315 &  81 &  7 &  24 &  38 & 39 & 14 & 3449 &  835 &  69 &  321 &  414 & 375 & N & W &  632 &  43 & 10 &  475.000 & N\\\\\n",
       "\t-Alvin Davis & 479 & 130 & 18 &  66 &  72 & 76 &  3 & 1624 &  457 &  63 &  224 &  266 & 263 & A & W &  880 &  82 & 14 &  480.000 & A\\\\\n",
       "\t-Andre Dawson & 496 & 141 & 20 &  65 &  78 & 37 & 11 & 5628 & 1575 & 225 &  828 &  838 & 354 & N & E &  200 &  11 &  3 &  500.000 & N\\\\\n",
       "\t-Andres Galarraga & 321 &  87 & 10 &  39 &  42 & 30 &  2 &  396 &  101 &  12 &   48 &   46 &  33 & N & E &  805 &  40 &  4 &   91.500 & N\\\\\n",
       "\t-Alfredo Griffin & 594 & 169 &  4 &  74 &  51 & 35 & 11 & 4408 & 1133 &  19 &  501 &  336 & 194 & A & W &  282 & 421 & 25 &  750.000 & A\\\\\n",
       "\t-Al Newman & 185 &  37 &  1 &  23 &   8 & 21 &  2 &  214 &   42 &   1 &   30 &    9 &  24 & N & E &   76 & 127 &  7 &   70.000 & A\\\\\n",
       "\t-Argenis Salazar & 298 &  73 &  0 &  24 &  24 &  7 &  3 &  509 &  108 &   0 &   41 &   37 &  12 & A & W &  121 & 283 &  9 &  100.000 & A\\\\\n",
       "\t-Andres Thomas & 323 &  81 &  6 &  26 &  32 &  8 &  2 &  341 &   86 &   6 &   32 &   34 &   8 & N & W &  143 & 290 & 19 &   75.000 & N\\\\\n",
       "\t-Andre Thornton & 401 &  92 & 17 &  49 &  66 & 65 & 13 & 5206 & 1332 & 253 &  784 &  890 & 866 & A & E &    0 &   0 &  0 & 1100.000 & A\\\\\n",
       "\t-Alan Trammell & 574 & 159 & 21 & 107 &  75 & 59 & 10 & 4631 & 1300 &  90 &  702 &  504 & 488 & A & E &  238 & 445 & 22 &  517.143 & A\\\\\n",
       "\t-Alex Trevino & 202 &  53 &  4 &  31 &  26 & 27 &  9 & 1876 &  467 &  15 &  192 &  186 & 161 & N & W &  304 &  45 & 11 &  512.500 & N\\\\\n",
       "\t-Andy VanSlyke & 418 & 113 & 13 &  48 &  61 & 47 &  4 & 1512 &  392 &  41 &  205 &  204 & 203 & N & E &  211 &  11 &  7 &  550.000 & N\\\\\n",
       "\t-Alan Wiggins & 239 &  60 &  0 &  30 &  11 & 22 &  6 & 1941 &  510 &   4 &  309 &  103 & 207 & A & E &  121 & 151 &  6 &  700.000 & A\\\\\n",
       "\t-Bill Almon & 196 &  43 &  7 &  29 &  27 & 30 & 13 & 3231 &  825 &  36 &  376 &  290 & 238 & N & E &   80 &  45 &  8 &  240.000 & N\\\\\n",
       "\t-Buddy Bell & 568 & 158 & 20 &  89 &  75 & 73 & 15 & 8068 & 2273 & 177 & 1045 &  993 & 732 & N & W &  105 & 290 & 10 &  775.000 & N\\\\\n",
       "\t-Buddy Biancalana & 190 &  46 &  2 &  24 &   8 & 15 &  5 &  479 &  102 &   5 &   65 &   23 &  39 & A & W &  102 & 177 & 16 &  175.000 & A\\\\\n",
       "\t-Bruce Bochy & 127 &  32 &  8 &  16 &  22 & 14 &  8 &  727 &  180 &  24 &   67 &   82 &  56 & N & W &  202 &  22 &  2 &  135.000 & N\\\\\n",
       "\t-Barry Bonds & 413 &  92 & 16 &  72 &  48 & 65 &  1 &  413 &   92 &  16 &   72 &   48 &  65 & N & E &  280 &   9 &  5 &  100.000 & N\\\\\n",
       "\t-Bobby Bonilla & 426 & 109 &  3 &  55 &  43 & 62 &  1 &  426 &  109 &   3 &   55 &   43 &  62 & A & W &  361 &  22 &  2 &  115.000 & N\\\\\n",
       "\t-Bob Brenly & 472 & 116 & 16 &  60 &  62 & 74 &  6 & 1924 &  489 &  67 &  242 &  251 & 240 & N & W &  518 &  55 &  3 &  600.000 & N\\\\\n",
       "\t-Bill Buckner & 629 & 168 & 18 &  73 & 102 & 40 & 18 & 8424 & 2464 & 164 & 1008 & 1072 & 402 & A & E & 1067 & 157 & 14 &  776.667 & A\\\\\n",
       "\t-Brett Butler & 587 & 163 &  4 &  92 &  51 & 70 &  6 & 2695 &  747 &  17 &  442 &  198 & 317 & A & E &  434 &   9 &  3 &  765.000 & A\\\\\n",
       "\t-Bob Dernier & 324 &  73 &  4 &  32 &  18 & 22 &  7 & 1931 &  491 &  13 &  291 &  108 & 180 & N & E &  222 &   3 &  3 &  708.333 & N\\\\\n",
       "\t-Bo Diaz & 474 & 129 & 10 &  50 &  56 & 40 & 10 & 2331 &  604 &  61 &  246 &  327 & 166 & N & W &  732 &  83 & 13 &  750.000 & N\\\\\n",
       "\t-Bill Doran & 550 & 152 &  6 &  92 &  37 & 81 &  5 & 2308 &  633 &  32 &  349 &  182 & 308 & N & W &  262 & 329 & 16 &  625.000 & N\\\\\n",
       "\t-Brian Downing & 513 & 137 & 20 &  90 &  95 & 90 & 14 & 5201 & 1382 & 166 &  763 &  734 & 784 & A & W &  267 &   5 &  3 &  900.000 & A\\\\\n",
       "\t-Billy Hatcher & 419 & 108 &  6 &  55 &  36 & 22 &  3 &  591 &  149 &   8 &   80 &   46 &  31 & N & W &  226 &   7 &  4 &  110.000 & N\\\\\n",
       "\t-Brook Jacoby & 583 & 168 & 17 &  83 &  80 & 56 &  5 & 1646 &  452 &  44 &  219 &  208 & 136 & A & E &  109 & 292 & 25 &  612.500 & A\\\\\n",
       "\t-Bob Kearney & 204 &  49 &  6 &  23 &  25 & 12 &  7 & 1309 &  308 &  27 &  126 &  132 &  66 & A & W &  419 &  46 &  5 &  300.000 & A\\\\\n",
       "\t-Bill Madlock & 379 & 106 & 10 &  38 &  60 & 30 & 14 & 6207 & 1906 & 146 &  859 &  803 & 571 & N & W &   72 & 170 & 24 &  850.000 & N\\\\\n",
       "\t⋮ & ⋮ & ⋮ & ⋮ & ⋮ & ⋮ & ⋮ & ⋮ & ⋮ & ⋮ & ⋮ & ⋮ & ⋮ & ⋮ & ⋮ & ⋮ & ⋮ & ⋮ & ⋮ & ⋮ & ⋮\\\\\n",
       "\t-Tony Fernandez & 687 & 213 & 10 &  91 &  65 &  27 &  4 & 1518 &  448 &  15 &  196 &  137 &  89 & A & E &  294 & 445 & 13 &  350.000 & A\\\\\n",
       "\t-Tim Flannery & 368 & 103 &  3 &  48 &  28 &  54 &  8 & 1897 &  493 &   9 &  207 &  162 & 198 & N & W &  209 & 246 &  3 &  326.667 & N\\\\\n",
       "\t-Tom Foley & 263 &  70 &  1 &  26 &  23 &  30 &  4 &  888 &  220 &   9 &   83 &   82 &  86 & N & E &   81 & 147 &  4 &  250.000 & N\\\\\n",
       "\t-Tony Gwynn & 642 & 211 & 14 & 107 &  59 &  52 &  5 & 2364 &  770 &  27 &  352 &  230 & 193 & N & W &  337 &  19 &  4 &  740.000 & N\\\\\n",
       "\t-Terry Harper & 265 &  68 &  8 &  26 &  30 &  29 &  7 & 1337 &  339 &  32 &  135 &  163 & 128 & N & W &   92 &   5 &  3 &  425.000 & A\\\\\n",
       "\t-Tommy Herr & 559 & 141 &  2 &  48 &  61 &  73 &  8 & 3162 &  874 &  16 &  421 &  349 & 359 & N & E &  352 & 414 &  9 &  925.000 & N\\\\\n",
       "\t-Tim Hulett & 520 & 120 & 17 &  53 &  44 &  21 &  4 &  927 &  227 &  22 &  106 &   80 &  52 & A & W &   70 & 144 & 11 &  185.000 & A\\\\\n",
       "\t-Terry Kennedy &  19 &   4 &  1 &   2 &   3 &   1 &  1 &   19 &    4 &   1 &    2 &    3 &   1 & N & W &  692 &  70 &  8 &  920.000 & A\\\\\n",
       "\t-Tito Landrum & 205 &  43 &  2 &  24 &  17 &  20 &  7 &  854 &  219 &  12 &  105 &   99 &  71 & N & E &  131 &   6 &  1 &  286.667 & N\\\\\n",
       "\t-Tim Laudner & 193 &  47 & 10 &  21 &  29 &  24 &  6 & 1136 &  256 &  42 &  129 &  139 & 106 & A & W &  299 &  13 &  5 &  245.000 & A\\\\\n",
       "\t-Tom Paciorek & 213 &  61 &  4 &  17 &  22 &   3 & 17 & 4061 & 1145 &  83 &  488 &  491 & 244 & A & W &  178 &  45 &  4 &  235.000 & A\\\\\n",
       "\t-Tony Pena & 510 & 147 & 10 &  56 &  52 &  53 &  7 & 2872 &  821 &  63 &  307 &  340 & 174 & N & E &  810 &  99 & 18 & 1150.000 & N\\\\\n",
       "\t-Terry Pendleton & 578 & 138 &  1 &  56 &  59 &  34 &  3 & 1399 &  357 &   7 &  149 &  161 &  87 & N & E &  133 & 371 & 20 &  160.000 & N\\\\\n",
       "\t-Tony Phillips & 441 & 113 &  5 &  76 &  52 &  76 &  5 & 1546 &  397 &  17 &  226 &  149 & 191 & A & W &  160 & 290 & 11 &  425.000 & A\\\\\n",
       "\t-Terry Puhl & 172 &  42 &  3 &  17 &  14 &  15 & 10 & 4086 & 1150 &  57 &  579 &  363 & 406 & N & W &   65 &   0 &  0 &  900.000 & N\\\\\n",
       "\t-Ted Simmons & 127 &  32 &  4 &  14 &  25 &  12 & 19 & 8396 & 2402 & 242 & 1048 & 1348 & 819 & N & W &  167 &  18 &  6 &  500.000 & N\\\\\n",
       "\t-Tim Teufel & 279 &  69 &  4 &  35 &  31 &  32 &  4 & 1359 &  355 &  31 &  180 &  148 & 158 & N & E &  133 & 173 &  9 &  277.500 & N\\\\\n",
       "\t-Tim Wallach & 480 & 112 & 18 &  50 &  71 &  44 &  7 & 3031 &  771 & 110 &  338 &  406 & 239 & N & E &   94 & 270 & 16 &  750.000 & N\\\\\n",
       "\t-Vince Coleman & 600 & 139 &  0 &  94 &  29 &  60 &  2 & 1236 &  309 &   1 &  201 &   69 & 110 & N & E &  300 &  12 &  9 &  160.000 & N\\\\\n",
       "\t-Von Hayes & 610 & 186 & 19 & 107 &  98 &  74 &  6 & 2728 &  753 &  69 &  399 &  366 & 286 & N & E & 1182 &  96 & 13 & 1300.000 & N\\\\\n",
       "\t-Vance Law & 360 &  81 &  5 &  37 &  44 &  37 &  7 & 2268 &  566 &  41 &  279 &  257 & 246 & N & E &  170 & 284 &  3 &  525.000 & N\\\\\n",
       "\t-Wally Backman & 387 & 124 &  1 &  67 &  27 &  36 &  7 & 1775 &  506 &   6 &  272 &  125 & 194 & N & E &  186 & 290 & 17 &  550.000 & N\\\\\n",
       "\t-Wade Boggs & 580 & 207 &  8 & 107 &  71 & 105 &  5 & 2778 &  978 &  32 &  474 &  322 & 417 & A & E &  121 & 267 & 19 & 1600.000 & A\\\\\n",
       "\t-Will Clark & 408 & 117 & 11 &  66 &  41 &  34 &  1 &  408 &  117 &  11 &   66 &   41 &  34 & N & W &  942 &  72 & 11 &  120.000 & N\\\\\n",
       "\t-Wally Joyner & 593 & 172 & 22 &  82 & 100 &  57 &  1 &  593 &  172 &  22 &   82 &  100 &  57 & A & W & 1222 & 139 & 15 &  165.000 & A\\\\\n",
       "\t-Willie McGee & 497 & 127 &  7 &  65 &  48 &  37 &  5 & 2703 &  806 &  32 &  379 &  311 & 138 & N & E &  325 &   9 &  3 &  700.000 & N\\\\\n",
       "\t-Willie Randolph & 492 & 136 &  5 &  76 &  50 &  94 & 12 & 5511 & 1511 &  39 &  897 &  451 & 875 & A & E &  313 & 381 & 20 &  875.000 & A\\\\\n",
       "\t-Wayne Tolleson & 475 & 126 &  3 &  61 &  43 &  52 &  6 & 1700 &  433 &   7 &  217 &   93 & 146 & A & W &   37 & 113 &  7 &  385.000 & A\\\\\n",
       "\t-Willie Upshaw & 573 & 144 &  9 &  85 &  60 &  78 &  8 & 3198 &  857 &  97 &  470 &  420 & 332 & A & E & 1314 & 131 & 12 &  960.000 & A\\\\\n",
       "\t-Willie Wilson & 631 & 170 &  9 &  77 &  44 &  31 & 11 & 4908 & 1457 &  30 &  775 &  357 & 249 & A & W &  408 &   4 &  3 & 1000.000 & A\\\\\n",
       "\\end{tabular}\n"
      ],
      "text/markdown": [
       "\n",
       "A data.frame: 263 × 20\n",
       "\n",
       "| <!--/--> | AtBat &lt;int&gt; | Hits &lt;int&gt; | HmRun &lt;int&gt; | Runs &lt;int&gt; | RBI &lt;int&gt; | Walks &lt;int&gt; | Years &lt;int&gt; | CAtBat &lt;int&gt; | CHits &lt;int&gt; | CHmRun &lt;int&gt; | CRuns &lt;int&gt; | CRBI &lt;int&gt; | CWalks &lt;int&gt; | League &lt;fct&gt; | Division &lt;fct&gt; | PutOuts &lt;int&gt; | Assists &lt;int&gt; | Errors &lt;int&gt; | Salary &lt;dbl&gt; | NewLeague &lt;fct&gt; |\n",
       "|---|---|---|---|---|---|---|---|---|---|---|---|---|---|---|---|---|---|---|---|---|\n",
       "| -Alan Ashby | 315 |  81 |  7 |  24 |  38 | 39 | 14 | 3449 |  835 |  69 |  321 |  414 | 375 | N | W |  632 |  43 | 10 |  475.000 | N |\n",
       "| -Alvin Davis | 479 | 130 | 18 |  66 |  72 | 76 |  3 | 1624 |  457 |  63 |  224 |  266 | 263 | A | W |  880 |  82 | 14 |  480.000 | A |\n",
       "| -Andre Dawson | 496 | 141 | 20 |  65 |  78 | 37 | 11 | 5628 | 1575 | 225 |  828 |  838 | 354 | N | E |  200 |  11 |  3 |  500.000 | N |\n",
       "| -Andres Galarraga | 321 |  87 | 10 |  39 |  42 | 30 |  2 |  396 |  101 |  12 |   48 |   46 |  33 | N | E |  805 |  40 |  4 |   91.500 | N |\n",
       "| -Alfredo Griffin | 594 | 169 |  4 |  74 |  51 | 35 | 11 | 4408 | 1133 |  19 |  501 |  336 | 194 | A | W |  282 | 421 | 25 |  750.000 | A |\n",
       "| -Al Newman | 185 |  37 |  1 |  23 |   8 | 21 |  2 |  214 |   42 |   1 |   30 |    9 |  24 | N | E |   76 | 127 |  7 |   70.000 | A |\n",
       "| -Argenis Salazar | 298 |  73 |  0 |  24 |  24 |  7 |  3 |  509 |  108 |   0 |   41 |   37 |  12 | A | W |  121 | 283 |  9 |  100.000 | A |\n",
       "| -Andres Thomas | 323 |  81 |  6 |  26 |  32 |  8 |  2 |  341 |   86 |   6 |   32 |   34 |   8 | N | W |  143 | 290 | 19 |   75.000 | N |\n",
       "| -Andre Thornton | 401 |  92 | 17 |  49 |  66 | 65 | 13 | 5206 | 1332 | 253 |  784 |  890 | 866 | A | E |    0 |   0 |  0 | 1100.000 | A |\n",
       "| -Alan Trammell | 574 | 159 | 21 | 107 |  75 | 59 | 10 | 4631 | 1300 |  90 |  702 |  504 | 488 | A | E |  238 | 445 | 22 |  517.143 | A |\n",
       "| -Alex Trevino | 202 |  53 |  4 |  31 |  26 | 27 |  9 | 1876 |  467 |  15 |  192 |  186 | 161 | N | W |  304 |  45 | 11 |  512.500 | N |\n",
       "| -Andy VanSlyke | 418 | 113 | 13 |  48 |  61 | 47 |  4 | 1512 |  392 |  41 |  205 |  204 | 203 | N | E |  211 |  11 |  7 |  550.000 | N |\n",
       "| -Alan Wiggins | 239 |  60 |  0 |  30 |  11 | 22 |  6 | 1941 |  510 |   4 |  309 |  103 | 207 | A | E |  121 | 151 |  6 |  700.000 | A |\n",
       "| -Bill Almon | 196 |  43 |  7 |  29 |  27 | 30 | 13 | 3231 |  825 |  36 |  376 |  290 | 238 | N | E |   80 |  45 |  8 |  240.000 | N |\n",
       "| -Buddy Bell | 568 | 158 | 20 |  89 |  75 | 73 | 15 | 8068 | 2273 | 177 | 1045 |  993 | 732 | N | W |  105 | 290 | 10 |  775.000 | N |\n",
       "| -Buddy Biancalana | 190 |  46 |  2 |  24 |   8 | 15 |  5 |  479 |  102 |   5 |   65 |   23 |  39 | A | W |  102 | 177 | 16 |  175.000 | A |\n",
       "| -Bruce Bochy | 127 |  32 |  8 |  16 |  22 | 14 |  8 |  727 |  180 |  24 |   67 |   82 |  56 | N | W |  202 |  22 |  2 |  135.000 | N |\n",
       "| -Barry Bonds | 413 |  92 | 16 |  72 |  48 | 65 |  1 |  413 |   92 |  16 |   72 |   48 |  65 | N | E |  280 |   9 |  5 |  100.000 | N |\n",
       "| -Bobby Bonilla | 426 | 109 |  3 |  55 |  43 | 62 |  1 |  426 |  109 |   3 |   55 |   43 |  62 | A | W |  361 |  22 |  2 |  115.000 | N |\n",
       "| -Bob Brenly | 472 | 116 | 16 |  60 |  62 | 74 |  6 | 1924 |  489 |  67 |  242 |  251 | 240 | N | W |  518 |  55 |  3 |  600.000 | N |\n",
       "| -Bill Buckner | 629 | 168 | 18 |  73 | 102 | 40 | 18 | 8424 | 2464 | 164 | 1008 | 1072 | 402 | A | E | 1067 | 157 | 14 |  776.667 | A |\n",
       "| -Brett Butler | 587 | 163 |  4 |  92 |  51 | 70 |  6 | 2695 |  747 |  17 |  442 |  198 | 317 | A | E |  434 |   9 |  3 |  765.000 | A |\n",
       "| -Bob Dernier | 324 |  73 |  4 |  32 |  18 | 22 |  7 | 1931 |  491 |  13 |  291 |  108 | 180 | N | E |  222 |   3 |  3 |  708.333 | N |\n",
       "| -Bo Diaz | 474 | 129 | 10 |  50 |  56 | 40 | 10 | 2331 |  604 |  61 |  246 |  327 | 166 | N | W |  732 |  83 | 13 |  750.000 | N |\n",
       "| -Bill Doran | 550 | 152 |  6 |  92 |  37 | 81 |  5 | 2308 |  633 |  32 |  349 |  182 | 308 | N | W |  262 | 329 | 16 |  625.000 | N |\n",
       "| -Brian Downing | 513 | 137 | 20 |  90 |  95 | 90 | 14 | 5201 | 1382 | 166 |  763 |  734 | 784 | A | W |  267 |   5 |  3 |  900.000 | A |\n",
       "| -Billy Hatcher | 419 | 108 |  6 |  55 |  36 | 22 |  3 |  591 |  149 |   8 |   80 |   46 |  31 | N | W |  226 |   7 |  4 |  110.000 | N |\n",
       "| -Brook Jacoby | 583 | 168 | 17 |  83 |  80 | 56 |  5 | 1646 |  452 |  44 |  219 |  208 | 136 | A | E |  109 | 292 | 25 |  612.500 | A |\n",
       "| -Bob Kearney | 204 |  49 |  6 |  23 |  25 | 12 |  7 | 1309 |  308 |  27 |  126 |  132 |  66 | A | W |  419 |  46 |  5 |  300.000 | A |\n",
       "| -Bill Madlock | 379 | 106 | 10 |  38 |  60 | 30 | 14 | 6207 | 1906 | 146 |  859 |  803 | 571 | N | W |   72 | 170 | 24 |  850.000 | N |\n",
       "| ⋮ | ⋮ | ⋮ | ⋮ | ⋮ | ⋮ | ⋮ | ⋮ | ⋮ | ⋮ | ⋮ | ⋮ | ⋮ | ⋮ | ⋮ | ⋮ | ⋮ | ⋮ | ⋮ | ⋮ | ⋮ |\n",
       "| -Tony Fernandez | 687 | 213 | 10 |  91 |  65 |  27 |  4 | 1518 |  448 |  15 |  196 |  137 |  89 | A | E |  294 | 445 | 13 |  350.000 | A |\n",
       "| -Tim Flannery | 368 | 103 |  3 |  48 |  28 |  54 |  8 | 1897 |  493 |   9 |  207 |  162 | 198 | N | W |  209 | 246 |  3 |  326.667 | N |\n",
       "| -Tom Foley | 263 |  70 |  1 |  26 |  23 |  30 |  4 |  888 |  220 |   9 |   83 |   82 |  86 | N | E |   81 | 147 |  4 |  250.000 | N |\n",
       "| -Tony Gwynn | 642 | 211 | 14 | 107 |  59 |  52 |  5 | 2364 |  770 |  27 |  352 |  230 | 193 | N | W |  337 |  19 |  4 |  740.000 | N |\n",
       "| -Terry Harper | 265 |  68 |  8 |  26 |  30 |  29 |  7 | 1337 |  339 |  32 |  135 |  163 | 128 | N | W |   92 |   5 |  3 |  425.000 | A |\n",
       "| -Tommy Herr | 559 | 141 |  2 |  48 |  61 |  73 |  8 | 3162 |  874 |  16 |  421 |  349 | 359 | N | E |  352 | 414 |  9 |  925.000 | N |\n",
       "| -Tim Hulett | 520 | 120 | 17 |  53 |  44 |  21 |  4 |  927 |  227 |  22 |  106 |   80 |  52 | A | W |   70 | 144 | 11 |  185.000 | A |\n",
       "| -Terry Kennedy |  19 |   4 |  1 |   2 |   3 |   1 |  1 |   19 |    4 |   1 |    2 |    3 |   1 | N | W |  692 |  70 |  8 |  920.000 | A |\n",
       "| -Tito Landrum | 205 |  43 |  2 |  24 |  17 |  20 |  7 |  854 |  219 |  12 |  105 |   99 |  71 | N | E |  131 |   6 |  1 |  286.667 | N |\n",
       "| -Tim Laudner | 193 |  47 | 10 |  21 |  29 |  24 |  6 | 1136 |  256 |  42 |  129 |  139 | 106 | A | W |  299 |  13 |  5 |  245.000 | A |\n",
       "| -Tom Paciorek | 213 |  61 |  4 |  17 |  22 |   3 | 17 | 4061 | 1145 |  83 |  488 |  491 | 244 | A | W |  178 |  45 |  4 |  235.000 | A |\n",
       "| -Tony Pena | 510 | 147 | 10 |  56 |  52 |  53 |  7 | 2872 |  821 |  63 |  307 |  340 | 174 | N | E |  810 |  99 | 18 | 1150.000 | N |\n",
       "| -Terry Pendleton | 578 | 138 |  1 |  56 |  59 |  34 |  3 | 1399 |  357 |   7 |  149 |  161 |  87 | N | E |  133 | 371 | 20 |  160.000 | N |\n",
       "| -Tony Phillips | 441 | 113 |  5 |  76 |  52 |  76 |  5 | 1546 |  397 |  17 |  226 |  149 | 191 | A | W |  160 | 290 | 11 |  425.000 | A |\n",
       "| -Terry Puhl | 172 |  42 |  3 |  17 |  14 |  15 | 10 | 4086 | 1150 |  57 |  579 |  363 | 406 | N | W |   65 |   0 |  0 |  900.000 | N |\n",
       "| -Ted Simmons | 127 |  32 |  4 |  14 |  25 |  12 | 19 | 8396 | 2402 | 242 | 1048 | 1348 | 819 | N | W |  167 |  18 |  6 |  500.000 | N |\n",
       "| -Tim Teufel | 279 |  69 |  4 |  35 |  31 |  32 |  4 | 1359 |  355 |  31 |  180 |  148 | 158 | N | E |  133 | 173 |  9 |  277.500 | N |\n",
       "| -Tim Wallach | 480 | 112 | 18 |  50 |  71 |  44 |  7 | 3031 |  771 | 110 |  338 |  406 | 239 | N | E |   94 | 270 | 16 |  750.000 | N |\n",
       "| -Vince Coleman | 600 | 139 |  0 |  94 |  29 |  60 |  2 | 1236 |  309 |   1 |  201 |   69 | 110 | N | E |  300 |  12 |  9 |  160.000 | N |\n",
       "| -Von Hayes | 610 | 186 | 19 | 107 |  98 |  74 |  6 | 2728 |  753 |  69 |  399 |  366 | 286 | N | E | 1182 |  96 | 13 | 1300.000 | N |\n",
       "| -Vance Law | 360 |  81 |  5 |  37 |  44 |  37 |  7 | 2268 |  566 |  41 |  279 |  257 | 246 | N | E |  170 | 284 |  3 |  525.000 | N |\n",
       "| -Wally Backman | 387 | 124 |  1 |  67 |  27 |  36 |  7 | 1775 |  506 |   6 |  272 |  125 | 194 | N | E |  186 | 290 | 17 |  550.000 | N |\n",
       "| -Wade Boggs | 580 | 207 |  8 | 107 |  71 | 105 |  5 | 2778 |  978 |  32 |  474 |  322 | 417 | A | E |  121 | 267 | 19 | 1600.000 | A |\n",
       "| -Will Clark | 408 | 117 | 11 |  66 |  41 |  34 |  1 |  408 |  117 |  11 |   66 |   41 |  34 | N | W |  942 |  72 | 11 |  120.000 | N |\n",
       "| -Wally Joyner | 593 | 172 | 22 |  82 | 100 |  57 |  1 |  593 |  172 |  22 |   82 |  100 |  57 | A | W | 1222 | 139 | 15 |  165.000 | A |\n",
       "| -Willie McGee | 497 | 127 |  7 |  65 |  48 |  37 |  5 | 2703 |  806 |  32 |  379 |  311 | 138 | N | E |  325 |   9 |  3 |  700.000 | N |\n",
       "| -Willie Randolph | 492 | 136 |  5 |  76 |  50 |  94 | 12 | 5511 | 1511 |  39 |  897 |  451 | 875 | A | E |  313 | 381 | 20 |  875.000 | A |\n",
       "| -Wayne Tolleson | 475 | 126 |  3 |  61 |  43 |  52 |  6 | 1700 |  433 |   7 |  217 |   93 | 146 | A | W |   37 | 113 |  7 |  385.000 | A |\n",
       "| -Willie Upshaw | 573 | 144 |  9 |  85 |  60 |  78 |  8 | 3198 |  857 |  97 |  470 |  420 | 332 | A | E | 1314 | 131 | 12 |  960.000 | A |\n",
       "| -Willie Wilson | 631 | 170 |  9 |  77 |  44 |  31 | 11 | 4908 | 1457 |  30 |  775 |  357 | 249 | A | W |  408 |   4 |  3 | 1000.000 | A |\n",
       "\n"
      ],
      "text/plain": [
       "                  AtBat Hits HmRun Runs RBI Walks Years CAtBat CHits CHmRun\n",
       "-Alan Ashby       315    81   7     24   38 39    14    3449    835   69   \n",
       "-Alvin Davis      479   130  18     66   72 76     3    1624    457   63   \n",
       "-Andre Dawson     496   141  20     65   78 37    11    5628   1575  225   \n",
       "-Andres Galarraga 321    87  10     39   42 30     2     396    101   12   \n",
       "-Alfredo Griffin  594   169   4     74   51 35    11    4408   1133   19   \n",
       "-Al Newman        185    37   1     23    8 21     2     214     42    1   \n",
       "-Argenis Salazar  298    73   0     24   24  7     3     509    108    0   \n",
       "-Andres Thomas    323    81   6     26   32  8     2     341     86    6   \n",
       "-Andre Thornton   401    92  17     49   66 65    13    5206   1332  253   \n",
       "-Alan Trammell    574   159  21    107   75 59    10    4631   1300   90   \n",
       "-Alex Trevino     202    53   4     31   26 27     9    1876    467   15   \n",
       "-Andy VanSlyke    418   113  13     48   61 47     4    1512    392   41   \n",
       "-Alan Wiggins     239    60   0     30   11 22     6    1941    510    4   \n",
       "-Bill Almon       196    43   7     29   27 30    13    3231    825   36   \n",
       "-Buddy Bell       568   158  20     89   75 73    15    8068   2273  177   \n",
       "-Buddy Biancalana 190    46   2     24    8 15     5     479    102    5   \n",
       "-Bruce Bochy      127    32   8     16   22 14     8     727    180   24   \n",
       "-Barry Bonds      413    92  16     72   48 65     1     413     92   16   \n",
       "-Bobby Bonilla    426   109   3     55   43 62     1     426    109    3   \n",
       "-Bob Brenly       472   116  16     60   62 74     6    1924    489   67   \n",
       "-Bill Buckner     629   168  18     73  102 40    18    8424   2464  164   \n",
       "-Brett Butler     587   163   4     92   51 70     6    2695    747   17   \n",
       "-Bob Dernier      324    73   4     32   18 22     7    1931    491   13   \n",
       "-Bo Diaz          474   129  10     50   56 40    10    2331    604   61   \n",
       "-Bill Doran       550   152   6     92   37 81     5    2308    633   32   \n",
       "-Brian Downing    513   137  20     90   95 90    14    5201   1382  166   \n",
       "-Billy Hatcher    419   108   6     55   36 22     3     591    149    8   \n",
       "-Brook Jacoby     583   168  17     83   80 56     5    1646    452   44   \n",
       "-Bob Kearney      204    49   6     23   25 12     7    1309    308   27   \n",
       "-Bill Madlock     379   106  10     38   60 30    14    6207   1906  146   \n",
       "⋮                 ⋮     ⋮    ⋮     ⋮    ⋮   ⋮     ⋮     ⋮      ⋮     ⋮     \n",
       "-Tony Fernandez   687   213  10     91   65  27    4    1518    448   15   \n",
       "-Tim Flannery     368   103   3     48   28  54    8    1897    493    9   \n",
       "-Tom Foley        263    70   1     26   23  30    4     888    220    9   \n",
       "-Tony Gwynn       642   211  14    107   59  52    5    2364    770   27   \n",
       "-Terry Harper     265    68   8     26   30  29    7    1337    339   32   \n",
       "-Tommy Herr       559   141   2     48   61  73    8    3162    874   16   \n",
       "-Tim Hulett       520   120  17     53   44  21    4     927    227   22   \n",
       "-Terry Kennedy     19     4   1      2    3   1    1      19      4    1   \n",
       "-Tito Landrum     205    43   2     24   17  20    7     854    219   12   \n",
       "-Tim Laudner      193    47  10     21   29  24    6    1136    256   42   \n",
       "-Tom Paciorek     213    61   4     17   22   3   17    4061   1145   83   \n",
       "-Tony Pena        510   147  10     56   52  53    7    2872    821   63   \n",
       "-Terry Pendleton  578   138   1     56   59  34    3    1399    357    7   \n",
       "-Tony Phillips    441   113   5     76   52  76    5    1546    397   17   \n",
       "-Terry Puhl       172    42   3     17   14  15   10    4086   1150   57   \n",
       "-Ted Simmons      127    32   4     14   25  12   19    8396   2402  242   \n",
       "-Tim Teufel       279    69   4     35   31  32    4    1359    355   31   \n",
       "-Tim Wallach      480   112  18     50   71  44    7    3031    771  110   \n",
       "-Vince Coleman    600   139   0     94   29  60    2    1236    309    1   \n",
       "-Von Hayes        610   186  19    107   98  74    6    2728    753   69   \n",
       "-Vance Law        360    81   5     37   44  37    7    2268    566   41   \n",
       "-Wally Backman    387   124   1     67   27  36    7    1775    506    6   \n",
       "-Wade Boggs       580   207   8    107   71 105    5    2778    978   32   \n",
       "-Will Clark       408   117  11     66   41  34    1     408    117   11   \n",
       "-Wally Joyner     593   172  22     82  100  57    1     593    172   22   \n",
       "-Willie McGee     497   127   7     65   48  37    5    2703    806   32   \n",
       "-Willie Randolph  492   136   5     76   50  94   12    5511   1511   39   \n",
       "-Wayne Tolleson   475   126   3     61   43  52    6    1700    433    7   \n",
       "-Willie Upshaw    573   144   9     85   60  78    8    3198    857   97   \n",
       "-Willie Wilson    631   170   9     77   44  31   11    4908   1457   30   \n",
       "                  CRuns CRBI CWalks League Division PutOuts Assists Errors\n",
       "-Alan Ashby        321   414 375    N      W         632     43     10    \n",
       "-Alvin Davis       224   266 263    A      W         880     82     14    \n",
       "-Andre Dawson      828   838 354    N      E         200     11      3    \n",
       "-Andres Galarraga   48    46  33    N      E         805     40      4    \n",
       "-Alfredo Griffin   501   336 194    A      W         282    421     25    \n",
       "-Al Newman          30     9  24    N      E          76    127      7    \n",
       "-Argenis Salazar    41    37  12    A      W         121    283      9    \n",
       "-Andres Thomas      32    34   8    N      W         143    290     19    \n",
       "-Andre Thornton    784   890 866    A      E           0      0      0    \n",
       "-Alan Trammell     702   504 488    A      E         238    445     22    \n",
       "-Alex Trevino      192   186 161    N      W         304     45     11    \n",
       "-Andy VanSlyke     205   204 203    N      E         211     11      7    \n",
       "-Alan Wiggins      309   103 207    A      E         121    151      6    \n",
       "-Bill Almon        376   290 238    N      E          80     45      8    \n",
       "-Buddy Bell       1045   993 732    N      W         105    290     10    \n",
       "-Buddy Biancalana   65    23  39    A      W         102    177     16    \n",
       "-Bruce Bochy        67    82  56    N      W         202     22      2    \n",
       "-Barry Bonds        72    48  65    N      E         280      9      5    \n",
       "-Bobby Bonilla      55    43  62    A      W         361     22      2    \n",
       "-Bob Brenly        242   251 240    N      W         518     55      3    \n",
       "-Bill Buckner     1008  1072 402    A      E        1067    157     14    \n",
       "-Brett Butler      442   198 317    A      E         434      9      3    \n",
       "-Bob Dernier       291   108 180    N      E         222      3      3    \n",
       "-Bo Diaz           246   327 166    N      W         732     83     13    \n",
       "-Bill Doran        349   182 308    N      W         262    329     16    \n",
       "-Brian Downing     763   734 784    A      W         267      5      3    \n",
       "-Billy Hatcher      80    46  31    N      W         226      7      4    \n",
       "-Brook Jacoby      219   208 136    A      E         109    292     25    \n",
       "-Bob Kearney       126   132  66    A      W         419     46      5    \n",
       "-Bill Madlock      859   803 571    N      W          72    170     24    \n",
       "⋮                 ⋮     ⋮    ⋮      ⋮      ⋮        ⋮       ⋮       ⋮     \n",
       "-Tony Fernandez    196   137  89    A      E         294    445     13    \n",
       "-Tim Flannery      207   162 198    N      W         209    246      3    \n",
       "-Tom Foley          83    82  86    N      E          81    147      4    \n",
       "-Tony Gwynn        352   230 193    N      W         337     19      4    \n",
       "-Terry Harper      135   163 128    N      W          92      5      3    \n",
       "-Tommy Herr        421   349 359    N      E         352    414      9    \n",
       "-Tim Hulett        106    80  52    A      W          70    144     11    \n",
       "-Terry Kennedy       2     3   1    N      W         692     70      8    \n",
       "-Tito Landrum      105    99  71    N      E         131      6      1    \n",
       "-Tim Laudner       129   139 106    A      W         299     13      5    \n",
       "-Tom Paciorek      488   491 244    A      W         178     45      4    \n",
       "-Tony Pena         307   340 174    N      E         810     99     18    \n",
       "-Terry Pendleton   149   161  87    N      E         133    371     20    \n",
       "-Tony Phillips     226   149 191    A      W         160    290     11    \n",
       "-Terry Puhl        579   363 406    N      W          65      0      0    \n",
       "-Ted Simmons      1048  1348 819    N      W         167     18      6    \n",
       "-Tim Teufel        180   148 158    N      E         133    173      9    \n",
       "-Tim Wallach       338   406 239    N      E          94    270     16    \n",
       "-Vince Coleman     201    69 110    N      E         300     12      9    \n",
       "-Von Hayes         399   366 286    N      E        1182     96     13    \n",
       "-Vance Law         279   257 246    N      E         170    284      3    \n",
       "-Wally Backman     272   125 194    N      E         186    290     17    \n",
       "-Wade Boggs        474   322 417    A      E         121    267     19    \n",
       "-Will Clark         66    41  34    N      W         942     72     11    \n",
       "-Wally Joyner       82   100  57    A      W        1222    139     15    \n",
       "-Willie McGee      379   311 138    N      E         325      9      3    \n",
       "-Willie Randolph   897   451 875    A      E         313    381     20    \n",
       "-Wayne Tolleson    217    93 146    A      W          37    113      7    \n",
       "-Willie Upshaw     470   420 332    A      E        1314    131     12    \n",
       "-Willie Wilson     775   357 249    A      W         408      4      3    \n",
       "                  Salary   NewLeague\n",
       "-Alan Ashby        475.000 N        \n",
       "-Alvin Davis       480.000 A        \n",
       "-Andre Dawson      500.000 N        \n",
       "-Andres Galarraga   91.500 N        \n",
       "-Alfredo Griffin   750.000 A        \n",
       "-Al Newman          70.000 A        \n",
       "-Argenis Salazar   100.000 A        \n",
       "-Andres Thomas      75.000 N        \n",
       "-Andre Thornton   1100.000 A        \n",
       "-Alan Trammell     517.143 A        \n",
       "-Alex Trevino      512.500 N        \n",
       "-Andy VanSlyke     550.000 N        \n",
       "-Alan Wiggins      700.000 A        \n",
       "-Bill Almon        240.000 N        \n",
       "-Buddy Bell        775.000 N        \n",
       "-Buddy Biancalana  175.000 A        \n",
       "-Bruce Bochy       135.000 N        \n",
       "-Barry Bonds       100.000 N        \n",
       "-Bobby Bonilla     115.000 N        \n",
       "-Bob Brenly        600.000 N        \n",
       "-Bill Buckner      776.667 A        \n",
       "-Brett Butler      765.000 A        \n",
       "-Bob Dernier       708.333 N        \n",
       "-Bo Diaz           750.000 N        \n",
       "-Bill Doran        625.000 N        \n",
       "-Brian Downing     900.000 A        \n",
       "-Billy Hatcher     110.000 N        \n",
       "-Brook Jacoby      612.500 A        \n",
       "-Bob Kearney       300.000 A        \n",
       "-Bill Madlock      850.000 N        \n",
       "⋮                 ⋮        ⋮        \n",
       "-Tony Fernandez    350.000 A        \n",
       "-Tim Flannery      326.667 N        \n",
       "-Tom Foley         250.000 N        \n",
       "-Tony Gwynn        740.000 N        \n",
       "-Terry Harper      425.000 A        \n",
       "-Tommy Herr        925.000 N        \n",
       "-Tim Hulett        185.000 A        \n",
       "-Terry Kennedy     920.000 A        \n",
       "-Tito Landrum      286.667 N        \n",
       "-Tim Laudner       245.000 A        \n",
       "-Tom Paciorek      235.000 A        \n",
       "-Tony Pena        1150.000 N        \n",
       "-Terry Pendleton   160.000 N        \n",
       "-Tony Phillips     425.000 A        \n",
       "-Terry Puhl        900.000 N        \n",
       "-Ted Simmons       500.000 N        \n",
       "-Tim Teufel        277.500 N        \n",
       "-Tim Wallach       750.000 N        \n",
       "-Vince Coleman     160.000 N        \n",
       "-Von Hayes        1300.000 N        \n",
       "-Vance Law         525.000 N        \n",
       "-Wally Backman     550.000 N        \n",
       "-Wade Boggs       1600.000 A        \n",
       "-Will Clark        120.000 N        \n",
       "-Wally Joyner      165.000 A        \n",
       "-Willie McGee      700.000 N        \n",
       "-Willie Randolph   875.000 A        \n",
       "-Wayne Tolleson    385.000 A        \n",
       "-Willie Upshaw     960.000 A        \n",
       "-Willie Wilson    1000.000 A        "
      ]
     },
     "metadata": {},
     "output_type": "display_data"
    }
   ],
   "source": [
    "Gitters"
   ]
  },
  {
   "cell_type": "code",
   "execution_count": 4,
   "id": "0396f99e",
   "metadata": {},
   "outputs": [
    {
     "data": {
      "text/html": [
       "263"
      ],
      "text/latex": [
       "263"
      ],
      "text/markdown": [
       "263"
      ],
      "text/plain": [
       "[1] 263"
      ]
     },
     "metadata": {},
     "output_type": "display_data"
    }
   ],
   "source": [
    "n <- nrow(Gitters)\n",
    "n"
   ]
  },
  {
   "cell_type": "code",
   "execution_count": 5,
   "id": "a6ab88cd",
   "metadata": {},
   "outputs": [],
   "source": [
    "set.seed(13)\n",
    "ntest <- trunc(n / 3)\n",
    "testid <- sample(1:n, ntest)"
   ]
  },
  {
   "cell_type": "code",
   "execution_count": 6,
   "id": "d4335e5a",
   "metadata": {},
   "outputs": [
    {
     "data": {
      "text/html": [
       "<style>\n",
       ".list-inline {list-style: none; margin:0; padding: 0}\n",
       ".list-inline>li {display: inline-block}\n",
       ".list-inline>li:not(:last-child)::after {content: \"\\00b7\"; padding: 0 .5ex}\n",
       "</style>\n",
       "<ol class=list-inline><li>259</li><li>74</li><li>205</li><li>132</li><li>221</li><li>248</li><li>55</li><li>23</li><li>5</li><li>140</li><li>49</li><li>54</li><li>184</li><li>32</li><li>250</li><li>125</li><li>47</li><li>81</li><li>188</li><li>253</li><li>11</li><li>68</li><li>120</li><li>87</li><li>78</li><li>61</li><li>117</li><li>131</li><li>223</li><li>236</li><li>197</li><li>190</li><li>242</li><li>222</li><li>66</li><li>129</li><li>62</li><li>51</li><li>216</li><li>127</li><li>115</li><li>118</li><li>60</li><li>244</li><li>76</li><li>251</li><li>42</li><li>182</li><li>227</li><li>119</li><li>199</li><li>15</li><li>157</li><li>113</li><li>14</li><li>185</li><li>121</li><li>160</li><li>31</li><li>146</li><li>258</li><li>179</li><li>233</li><li>239</li><li>263</li><li>77</li><li>176</li><li>228</li><li>105</li><li>97</li><li>159</li><li>48</li><li>143</li><li>232</li><li>124</li><li>247</li><li>166</li><li>136</li><li>142</li><li>139</li><li>195</li><li>84</li><li>17</li><li>153</li><li>147</li><li>53</li><li>7</li></ol>\n"
      ],
      "text/latex": [
       "\\begin{enumerate*}\n",
       "\\item 259\n",
       "\\item 74\n",
       "\\item 205\n",
       "\\item 132\n",
       "\\item 221\n",
       "\\item 248\n",
       "\\item 55\n",
       "\\item 23\n",
       "\\item 5\n",
       "\\item 140\n",
       "\\item 49\n",
       "\\item 54\n",
       "\\item 184\n",
       "\\item 32\n",
       "\\item 250\n",
       "\\item 125\n",
       "\\item 47\n",
       "\\item 81\n",
       "\\item 188\n",
       "\\item 253\n",
       "\\item 11\n",
       "\\item 68\n",
       "\\item 120\n",
       "\\item 87\n",
       "\\item 78\n",
       "\\item 61\n",
       "\\item 117\n",
       "\\item 131\n",
       "\\item 223\n",
       "\\item 236\n",
       "\\item 197\n",
       "\\item 190\n",
       "\\item 242\n",
       "\\item 222\n",
       "\\item 66\n",
       "\\item 129\n",
       "\\item 62\n",
       "\\item 51\n",
       "\\item 216\n",
       "\\item 127\n",
       "\\item 115\n",
       "\\item 118\n",
       "\\item 60\n",
       "\\item 244\n",
       "\\item 76\n",
       "\\item 251\n",
       "\\item 42\n",
       "\\item 182\n",
       "\\item 227\n",
       "\\item 119\n",
       "\\item 199\n",
       "\\item 15\n",
       "\\item 157\n",
       "\\item 113\n",
       "\\item 14\n",
       "\\item 185\n",
       "\\item 121\n",
       "\\item 160\n",
       "\\item 31\n",
       "\\item 146\n",
       "\\item 258\n",
       "\\item 179\n",
       "\\item 233\n",
       "\\item 239\n",
       "\\item 263\n",
       "\\item 77\n",
       "\\item 176\n",
       "\\item 228\n",
       "\\item 105\n",
       "\\item 97\n",
       "\\item 159\n",
       "\\item 48\n",
       "\\item 143\n",
       "\\item 232\n",
       "\\item 124\n",
       "\\item 247\n",
       "\\item 166\n",
       "\\item 136\n",
       "\\item 142\n",
       "\\item 139\n",
       "\\item 195\n",
       "\\item 84\n",
       "\\item 17\n",
       "\\item 153\n",
       "\\item 147\n",
       "\\item 53\n",
       "\\item 7\n",
       "\\end{enumerate*}\n"
      ],
      "text/markdown": [
       "1. 259\n",
       "2. 74\n",
       "3. 205\n",
       "4. 132\n",
       "5. 221\n",
       "6. 248\n",
       "7. 55\n",
       "8. 23\n",
       "9. 5\n",
       "10. 140\n",
       "11. 49\n",
       "12. 54\n",
       "13. 184\n",
       "14. 32\n",
       "15. 250\n",
       "16. 125\n",
       "17. 47\n",
       "18. 81\n",
       "19. 188\n",
       "20. 253\n",
       "21. 11\n",
       "22. 68\n",
       "23. 120\n",
       "24. 87\n",
       "25. 78\n",
       "26. 61\n",
       "27. 117\n",
       "28. 131\n",
       "29. 223\n",
       "30. 236\n",
       "31. 197\n",
       "32. 190\n",
       "33. 242\n",
       "34. 222\n",
       "35. 66\n",
       "36. 129\n",
       "37. 62\n",
       "38. 51\n",
       "39. 216\n",
       "40. 127\n",
       "41. 115\n",
       "42. 118\n",
       "43. 60\n",
       "44. 244\n",
       "45. 76\n",
       "46. 251\n",
       "47. 42\n",
       "48. 182\n",
       "49. 227\n",
       "50. 119\n",
       "51. 199\n",
       "52. 15\n",
       "53. 157\n",
       "54. 113\n",
       "55. 14\n",
       "56. 185\n",
       "57. 121\n",
       "58. 160\n",
       "59. 31\n",
       "60. 146\n",
       "61. 258\n",
       "62. 179\n",
       "63. 233\n",
       "64. 239\n",
       "65. 263\n",
       "66. 77\n",
       "67. 176\n",
       "68. 228\n",
       "69. 105\n",
       "70. 97\n",
       "71. 159\n",
       "72. 48\n",
       "73. 143\n",
       "74. 232\n",
       "75. 124\n",
       "76. 247\n",
       "77. 166\n",
       "78. 136\n",
       "79. 142\n",
       "80. 139\n",
       "81. 195\n",
       "82. 84\n",
       "83. 17\n",
       "84. 153\n",
       "85. 147\n",
       "86. 53\n",
       "87. 7\n",
       "\n",
       "\n"
      ],
      "text/plain": [
       " [1] 259  74 205 132 221 248  55  23   5 140  49  54 184  32 250 125  47  81 188\n",
       "[20] 253  11  68 120  87  78  61 117 131 223 236 197 190 242 222  66 129  62  51\n",
       "[39] 216 127 115 118  60 244  76 251  42 182 227 119 199  15 157 113  14 185 121\n",
       "[58] 160  31 146 258 179 233 239 263  77 176 228 105  97 159  48 143 232 124 247\n",
       "[77] 166 136 142 139 195  84  17 153 147  53   7"
      ]
     },
     "metadata": {},
     "output_type": "display_data"
    }
   ],
   "source": [
    "testid"
   ]
  },
  {
   "cell_type": "markdown",
   "id": "64c4117f",
   "metadata": {},
   "source": [
    "## Fit glmnet"
   ]
  },
  {
   "cell_type": "code",
   "execution_count": 7,
   "id": "d6ee129b",
   "metadata": {},
   "outputs": [
    {
     "name": "stderr",
     "output_type": "stream",
     "text": [
      "Loading required package: Matrix\n",
      "\n",
      "Loaded glmnet 4.1-8\n",
      "\n"
     ]
    }
   ],
   "source": [
    "#install.packages('glmnet')\n",
    "library(glmnet)"
   ]
  },
  {
   "cell_type": "code",
   "execution_count": 8,
   "id": "13dbc504",
   "metadata": {},
   "outputs": [
    {
     "data": {
      "text/html": [
       "<table class=\"dataframe\">\n",
       "<caption>A matrix: 263 × 20 of type dbl</caption>\n",
       "<thead>\n",
       "\t<tr><th></th><th scope=col>AtBat</th><th scope=col>Hits</th><th scope=col>HmRun</th><th scope=col>Runs</th><th scope=col>RBI</th><th scope=col>Walks</th><th scope=col>Years</th><th scope=col>CAtBat</th><th scope=col>CHits</th><th scope=col>CHmRun</th><th scope=col>CRuns</th><th scope=col>CRBI</th><th scope=col>CWalks</th><th scope=col>LeagueA</th><th scope=col>LeagueN</th><th scope=col>DivisionW</th><th scope=col>PutOuts</th><th scope=col>Assists</th><th scope=col>Errors</th><th scope=col>NewLeagueN</th></tr>\n",
       "</thead>\n",
       "<tbody>\n",
       "\t<tr><th scope=row>-Alan Ashby</th><td>-0.60175321</td><td>-0.594541907</td><td>-0.5275454</td><td>-1.203816332</td><td>-0.52106946</td><td>-0.09734151</td><td> 1.39523337</td><td> 0.34613058</td><td> 0.17404158</td><td>-0.002914243</td><td>-0.12143933</td><td> 0.25847281</td><td> 0.43450593</td><td>-1.0567429</td><td> 1.0567429</td><td> 0.9792988</td><td> 1.21917406</td><td>-0.52219572</td><td> 0.21294608</td><td> 1.0730066</td></tr>\n",
       "\t<tr><th scope=row>-Alvin Davis</th><td> 0.51156637</td><td> 0.491322826</td><td> 0.7285771</td><td> 0.440674789</td><td> 0.79254856</td><td> 1.60631004</td><td>-0.89948530</td><td>-0.45200360</td><td>-0.40911209</td><td>-0.075909091</td><td>-0.41431499</td><td>-0.19921055</td><td> 0.01035326</td><td> 0.9427059</td><td>-0.9427059</td><td> 0.9792988</td><td> 2.10509535</td><td>-0.25337958</td><td> 0.81840359</td><td>-0.9284171</td></tr>\n",
       "\t<tr><th scope=row>-Andre Dawson</th><td> 0.62697145</td><td> 0.735088378</td><td> 0.9569630</td><td> 0.401520238</td><td> 1.02436351</td><td>-0.18943079</td><td> 0.76940101</td><td> 1.29908093</td><td> 1.31566516</td><td> 1.894951816</td><td> 1.40936438</td><td> 1.56967378</td><td> 0.35497730</td><td>-1.0567429</td><td> 1.0567429</td><td>-1.0172561</td><td>-0.32404367</td><td>-0.74276281</td><td>-0.84660456</td><td> 1.0730066</td></tr>\n",
       "\t<tr><th scope=row>-Andres Galarraga</th><td>-0.56102200</td><td>-0.461578879</td><td>-0.1849665</td><td>-0.616498075</td><td>-0.36652617</td><td>-0.51174324</td><td>-1.10809609</td><td>-0.98904951</td><td>-0.95832560</td><td>-0.696365303</td><td>-0.94571825</td><td>-0.87955068</td><td>-0.86067453</td><td>-1.0567429</td><td> 1.0567429</td><td>-1.0172561</td><td> 1.83717561</td><td>-0.54287389</td><td>-0.69524018</td><td> 1.0730066</td></tr>\n",
       "\t<tr><th scope=row>-Alfredo Griffin</th><td> 1.29224779</td><td> 1.355582512</td><td>-0.8701243</td><td> 0.753911193</td><td>-0.01880375</td><td>-0.28152006</td><td> 0.76940101</td><td> 0.76553369</td><td> 0.63377648</td><td>-0.611204646</td><td> 0.42204128</td><td> 0.01726131</td><td>-0.25095507</td><td> 0.9427059</td><td>-0.9427059</td><td> 0.9792988</td><td>-0.03111808</td><td> 2.08325298</td><td> 2.48341175</td><td>-0.9284171</td></tr>\n",
       "\t<tr><th scope=row>-Al Newman</th><td>-1.48426263</td><td>-1.569604117</td><td>-1.2127031</td><td>-1.242970882</td><td>-1.68014419</td><td>-0.92614497</td><td>-1.10809609</td><td>-1.06864426</td><td>-1.04934694</td><td>-0.830189192</td><td>-1.00006631</td><td>-0.99397151</td><td>-0.89475822</td><td>-1.0567429</td><td> 1.0567429</td><td>-1.0172561</td><td>-0.76700431</td><td> 0.05679288</td><td>-0.24114705</td><td>-0.9284171</td></tr>\n",
       "\t<tr><th scope=row>-Argenis Salazar</th><td>-0.71715829</td><td>-0.771825945</td><td>-1.3268961</td><td>-1.203816332</td><td>-1.06197100</td><td>-1.57076988</td><td>-0.89948530</td><td>-0.93963079</td><td>-0.94752646</td><td>-0.842355000</td><td>-0.96685361</td><td>-0.90738277</td><td>-0.94020315</td><td> 0.9427059</td><td>-0.9427059</td><td> 0.9792988</td><td>-0.60625247</td><td> 1.13205742</td><td> 0.06158171</td><td>-0.9284171</td></tr>\n",
       "\t<tr><th scope=row>-Andres Thomas</th><td>-0.54744494</td><td>-0.594541907</td><td>-0.6417383</td><td>-1.125507231</td><td>-0.75288441</td><td>-1.52472525</td><td>-1.10809609</td><td>-1.01310287</td><td>-0.98146662</td><td>-0.769360151</td><td>-0.99402764</td><td>-0.91666014</td><td>-0.95535146</td><td>-1.0567429</td><td> 1.0567429</td><td> 0.9792988</td><td>-0.52766267</td><td> 1.18030647</td><td> 1.57522548</td><td> 1.0730066</td></tr>\n",
       "\t<tr><th scope=row>-Andre Thornton</th><td>-0.01793928</td><td>-0.350776355</td><td> 0.6143841</td><td>-0.224952570</td><td> 0.56073362</td><td> 1.09981904</td><td> 1.18662259</td><td> 1.11452606</td><td> 0.94078066</td><td> 2.235594442</td><td> 1.27651356</td><td> 1.73048144</td><td> 2.29396091</td><td> 0.9427059</td><td>-0.9427059</td><td>-1.0172561</td><td>-1.03849632</td><td>-0.81858274</td><td>-1.30069770</td><td>-0.9284171</td></tr>\n",
       "\t<tr><th scope=row>-Alan Trammell</th><td> 1.15647711</td><td> 1.133977464</td><td> 1.0711560</td><td> 2.046011359</td><td> 0.90845603</td><td> 0.82355122</td><td> 0.56079022</td><td> 0.86305913</td><td> 0.89141315</td><td> 0.252567726</td><td> 1.02892795</td><td> 0.53679377</td><td> 0.86244567</td><td> 0.9427059</td><td>-0.9427059</td><td>-1.0172561</td><td>-0.18829766</td><td> 2.24867830</td><td> 2.02931862</td><td>-0.9284171</td></tr>\n",
       "\t<tr><th scope=row>-Alex Trevino</th><td>-1.36885755</td><td>-1.215036041</td><td>-0.8701243</td><td>-0.929734478</td><td>-0.98469935</td><td>-0.64987715</td><td> 0.35217943</td><td>-0.34179549</td><td>-0.39368475</td><td>-0.659867879</td><td>-0.51093376</td><td>-0.44660696</td><td>-0.37592863</td><td>-1.0567429</td><td> 1.0567429</td><td> 0.9792988</td><td> 0.04747171</td><td>-0.50841028</td><td> 0.36431046</td><td> 1.0730066</td></tr>\n",
       "\t<tr><th scope=row>-Andy VanSlyke</th><td> 0.09746580</td><td> 0.114594245</td><td> 0.1576123</td><td>-0.264107120</td><td> 0.36755450</td><td> 0.27101558</td><td>-0.69087451</td><td>-0.50098499</td><td>-0.50938984</td><td>-0.343556869</td><td>-0.47168239</td><td>-0.39094277</td><td>-0.21687138</td><td>-1.0567429</td><td> 1.0567429</td><td>-1.0172561</td><td>-0.28474877</td><td>-0.74276281</td><td>-0.24114705</td><td> 1.0730066</td></tr>\n",
       "\t<tr><th scope=row>-Alan Wiggins</th><td>-1.11768180</td><td>-1.059912507</td><td>-1.3268961</td><td>-0.968889029</td><td>-1.56423672</td><td>-0.88010033</td><td>-0.27365294</td><td>-0.31336879</td><td>-0.32734716</td><td>-0.793691768</td><td>-0.15767137</td><td>-0.70328073</td><td>-0.20172307</td><td> 0.9427059</td><td>-0.9427059</td><td>-1.0172561</td><td>-0.60625247</td><td> 0.22221819</td><td>-0.39251143</td><td>-0.9284171</td></tr>\n",
       "\t<tr><th scope=row>-Bill Almon</th><td>-1.40958876</td><td>-1.436641088</td><td>-0.5275454</td><td>-1.008043579</td><td>-0.94606353</td><td>-0.51174324</td><td> 1.18662259</td><td> 0.25079181</td><td> 0.15861423</td><td>-0.404385909</td><td> 0.04462419</td><td>-0.12499163</td><td>-0.08432367</td><td>-1.0567429</td><td> 1.0567429</td><td>-1.0172561</td><td>-0.75271526</td><td>-0.50841028</td><td>-0.08978267</td><td> 1.0730066</td></tr>\n",
       "\t<tr><th scope=row>-Buddy Bell</th><td> 1.11574590</td><td> 1.111816959</td><td> 0.9569630</td><td> 1.341229450</td><td> 0.90845603</td><td> 1.46817613</td><td> 1.60384416</td><td> 2.36617540</td><td> 2.39249389</td><td> 1.310993029</td><td> 2.06456044</td><td> 2.04900432</td><td> 1.78649255</td><td>-1.0567429</td><td> 1.0567429</td><td> 0.9792988</td><td>-0.66340868</td><td> 1.18030647</td><td> 0.21294608</td><td> 1.0730066</td></tr>\n",
       "\t<tr><th scope=row>-Buddy Biancalana</th><td>-1.45031996</td><td>-1.370159574</td><td>-1.0985102</td><td>-1.203816332</td><td>-1.68014419</td><td>-1.20241279</td><td>-0.48226372</td><td>-0.95275080</td><td>-0.95678286</td><td>-0.781525959</td><td>-0.89438953</td><td>-0.95067714</td><td>-0.83795206</td><td> 0.9427059</td><td>-0.9427059</td><td> 0.9792988</td><td>-0.67412547</td><td> 0.40142895</td><td> 1.12113235</td><td>-0.9284171</td></tr>\n",
       "\t<tr><th scope=row>-Bruce Bochy</th><td>-1.87799761</td><td>-1.680406641</td><td>-0.4133524</td><td>-1.517052736</td><td>-1.13924265</td><td>-1.24845743</td><td> 0.14356864</td><td>-0.84429202</td><td>-0.83644957</td><td>-0.550375606</td><td>-0.88835085</td><td>-0.76822229</td><td>-0.77357175</td><td>-1.0567429</td><td> 1.0567429</td><td> 0.9792988</td><td>-0.31689914</td><td>-0.66694287</td><td>-0.99796894</td><td> 1.0730066</td></tr>\n",
       "\t<tr><th scope=row>-Barry Bonds</th><td> 0.06352313</td><td>-0.350776355</td><td> 0.5001912</td><td> 0.675602092</td><td>-0.13471122</td><td> 1.09981904</td><td>-1.31670688</td><td>-0.98161484</td><td>-0.97221021</td><td>-0.647702071</td><td>-0.87325417</td><td>-0.87336577</td><td>-0.73948805</td><td>-1.0567429</td><td> 1.0567429</td><td>-1.0172561</td><td>-0.03826261</td><td>-0.75654825</td><td>-0.54387581</td><td> 1.0730066</td></tr>\n",
       "\t<tr><th scope=row>-Bobby Bonilla</th><td> 0.15177407</td><td> 0.025952226</td><td>-0.9843172</td><td> 0.009974733</td><td>-0.32789034</td><td> 0.96168513</td><td>-1.31670688</td><td>-0.97592950</td><td>-0.94598372</td><td>-0.805857576</td><td>-0.92458289</td><td>-0.88882804</td><td>-0.75084929</td><td> 0.9427059</td><td>-0.9427059</td><td> 0.9792988</td><td> 0.25109072</td><td>-0.66694287</td><td>-0.99796894</td><td> 1.0730066</td></tr>\n",
       "\t<tr><th scope=row>-Bob Brenly</th><td> 0.46404663</td><td> 0.181075759</td><td> 0.5001912</td><td> 0.205747486</td><td> 0.40619032</td><td> 1.51422077</td><td>-0.27365294</td><td>-0.32080346</td><td>-0.35974458</td><td>-0.027245859</td><td>-0.35996693</td><td>-0.24559738</td><td>-0.07674951</td><td>-1.0567429</td><td> 1.0567429</td><td> 0.9792988</td><td> 0.81193605</td><td>-0.43948306</td><td>-0.84660456</td><td> 1.0730066</td></tr>\n",
       "\t<tr><th scope=row>-Bill Buckner</th><td> 1.52984648</td><td> 1.333422007</td><td> 0.7285771</td><td> 0.714756642</td><td> 1.95162329</td><td>-0.05129688</td><td> 2.22967653</td><td> 2.52186623</td><td> 2.68715619</td><td> 1.152837524</td><td> 1.95284499</td><td> 2.29330827</td><td> 0.53675702</td><td> 0.9427059</td><td>-0.9427059</td><td>-1.0172561</td><td> 2.77310858</td><td> 0.26357452</td><td> 0.81840359</td><td>-0.9284171</td></tr>\n",
       "\t<tr><th scope=row>-Brett Butler</th><td> 1.24472805</td><td> 1.222619483</td><td>-0.8701243</td><td> 1.458693102</td><td>-0.01880375</td><td> 1.33004222</td><td>-0.27365294</td><td> 0.01638089</td><td> 0.03828093</td><td>-0.635536263</td><td> 0.24390041</td><td>-0.40949750</td><td> 0.21485544</td><td> 0.9427059</td><td>-0.9427059</td><td>-1.0172561</td><td> 0.51186594</td><td>-0.75654825</td><td>-0.84660456</td><td>-0.9284171</td></tr>\n",
       "\t<tr><th scope=row>-Bob Dernier</th><td>-0.54065640</td><td>-0.771825945</td><td>-0.8701243</td><td>-0.890579928</td><td>-1.29378595</td><td>-0.88010033</td><td>-0.06504215</td><td>-0.31774213</td><td>-0.35665912</td><td>-0.684199495</td><td>-0.21201943</td><td>-0.68781846</td><td>-0.30397416</td><td>-1.0567429</td><td> 1.0567429</td><td>-1.0172561</td><td>-0.24545388</td><td>-0.79790458</td><td>-0.84660456</td><td> 1.0730066</td></tr>\n",
       "\t<tr><th scope=row>-Bo Diaz</th><td> 0.47762370</td><td> 0.469162321</td><td>-0.1849665</td><td>-0.185798019</td><td> 0.17437537</td><td>-0.05129688</td><td> 0.56079022</td><td>-0.14280861</td><td>-0.18233011</td><td>-0.100240708</td><td>-0.34788958</td><td>-0.01057079</td><td>-0.35699324</td><td>-1.0567429</td><td> 1.0567429</td><td> 0.9792988</td><td> 1.57640039</td><td>-0.24648686</td><td> 0.66703922</td><td> 1.0730066</td></tr>\n",
       "\t<tr><th scope=row>-Bill Doran</th><td> 0.99355229</td><td> 0.978853931</td><td>-0.6417383</td><td> 1.458693102</td><td>-0.55970529</td><td> 1.83653322</td><td>-0.48226372</td><td>-0.15286729</td><td>-0.13759081</td><td>-0.453049142</td><td>-0.03689790</td><td>-0.45897678</td><td> 0.18077175</td><td>-1.0567429</td><td> 1.0567429</td><td> 0.9792988</td><td>-0.10256335</td><td> 1.44912261</td><td> 1.12113235</td><td> 1.0730066</td></tr>\n",
       "\t<tr><th scope=row>-Brian Downing</th><td> 0.74237653</td><td> 0.646446359</td><td> 0.9569630</td><td> 1.380384001</td><td> 1.68117252</td><td> 2.25093495</td><td> 1.39523337</td><td> 1.11233940</td><td> 1.01791739</td><td> 1.177169140</td><td> 1.21310749</td><td> 1.24805844</td><td> 1.98342057</td><td> 0.9427059</td><td>-0.9427059</td><td> 0.9792988</td><td>-0.08470203</td><td>-0.78411914</td><td>-0.84660456</td><td>-0.9284171</td></tr>\n",
       "\t<tr><th scope=row>-Billy Hatcher</th><td> 0.10425433</td><td> 0.003791721</td><td>-0.6417383</td><td> 0.009974733</td><td>-0.59834111</td><td>-0.88010033</td><td>-0.89948530</td><td>-0.90376942</td><td>-0.88427434</td><td>-0.745028535</td><td>-0.84909947</td><td>-0.87955068</td><td>-0.86824868</td><td>-1.0567429</td><td> 1.0567429</td><td> 0.9792988</td><td>-0.23116482</td><td>-0.77033369</td><td>-0.69524018</td><td> 1.0730066</td></tr>\n",
       "\t<tr><th scope=row>-Brook Jacoby</th><td> 1.21757391</td><td> 1.333422007</td><td> 0.6143841</td><td> 1.106302147</td><td> 1.10163516</td><td> 0.68541731</td><td>-0.48226372</td><td>-0.44238226</td><td>-0.41682576</td><td>-0.307059445</td><td>-0.42941167</td><td>-0.37857295</td><td>-0.47060556</td><td> 0.9427059</td><td>-0.9427059</td><td>-1.0172561</td><td>-0.64911962</td><td> 1.19409192</td><td> 2.48341175</td><td>-0.9284171</td></tr>\n",
       "\t<tr><th scope=row>-Bob Kearney</th><td>-1.35528049</td><td>-1.303678060</td><td>-0.6417383</td><td>-1.242970882</td><td>-1.02333518</td><td>-1.34054670</td><td>-0.06504215</td><td>-0.58976375</td><td>-0.63897954</td><td>-0.513878182</td><td>-0.71020999</td><td>-0.61359954</td><td>-0.73570098</td><td> 0.9427059</td><td>-0.9427059</td><td> 0.9792988</td><td> 0.45828199</td><td>-0.50151756</td><td>-0.54387581</td><td>-0.9284171</td></tr>\n",
       "\t<tr><th scope=row>-Bill Madlock</th><td>-0.16728703</td><td>-0.040529288</td><td>-0.1849665</td><td>-0.655652625</td><td> 0.32891867</td><td>-0.51174324</td><td> 1.39523337</td><td> 1.55229720</td><td> 1.82631030</td><td> 0.933852978</td><td> 1.50296382</td><td> 1.46143785</td><td> 1.17677309</td><td>-1.0567429</td><td> 1.0567429</td><td> 0.9792988</td><td>-0.78129337</td><td> 0.35317990</td><td> 2.33204737</td><td> 1.0730066</td></tr>\n",
       "\t<tr><th scope=row>⋮</th><td>⋮</td><td>⋮</td><td>⋮</td><td>⋮</td><td>⋮</td><td>⋮</td><td>⋮</td><td>⋮</td><td>⋮</td><td>⋮</td><td>⋮</td><td>⋮</td><td>⋮</td><td>⋮</td><td>⋮</td><td>⋮</td><td>⋮</td><td>⋮</td><td>⋮</td><td>⋮</td></tr>\n",
       "\t<tr><th scope=row>-Tony Fernandez</th><td> 1.92358145</td><td> 2.33064472</td><td>-0.18496653</td><td> 1.41953855</td><td> 0.52209779</td><td>-0.6498772</td><td>-0.69087451</td><td>-0.49836099</td><td>-0.42299670</td><td>-0.659867879</td><td>-0.49885642</td><td>-0.59813726</td><td>-0.64859820</td><td> 0.9427059</td><td>-0.9427059</td><td>-1.0172561</td><td> 0.01174908</td><td> 2.24867830</td><td> 0.66703922</td><td>-0.9284171</td></tr>\n",
       "\t<tr><th scope=row>-Tim Flannery</th><td>-0.24196091</td><td>-0.10701080</td><td>-0.98431721</td><td>-0.26410712</td><td>-0.90742770</td><td> 0.5933280</td><td> 0.14356864</td><td>-0.33261148</td><td>-0.35357365</td><td>-0.732862727</td><td>-0.46564371</td><td>-0.52082588</td><td>-0.23580676</td><td>-1.0567429</td><td> 1.0567429</td><td> 0.9792988</td><td>-0.29189330</td><td> 0.87702673</td><td>-0.84660456</td><td> 1.0730066</td></tr>\n",
       "\t<tr><th scope=row>-Tom Foley</th><td>-0.95475698</td><td>-0.83830746</td><td>-1.21270312</td><td>-1.12550723</td><td>-1.10060683</td><td>-0.5117432</td><td>-0.69087451</td><td>-0.77388128</td><td>-0.77474018</td><td>-0.732862727</td><td>-0.84004146</td><td>-0.76822229</td><td>-0.65995943</td><td>-1.0567429</td><td> 1.0567429</td><td>-1.0172561</td><td>-0.74914300</td><td> 0.19464731</td><td>-0.69524018</td><td> 1.0730066</td></tr>\n",
       "\t<tr><th scope=row>-Tony Gwynn</th><td> 1.61809742</td><td> 2.28632371</td><td> 0.27180528</td><td> 2.04601136</td><td> 0.29028285</td><td> 0.5012388</td><td>-0.48226372</td><td>-0.12837659</td><td> 0.07376383</td><td>-0.513878182</td><td>-0.02783989</td><td>-0.31053893</td><td>-0.25474215</td><td>-1.0567429</td><td> 1.0567429</td><td> 0.9792988</td><td> 0.16535640</td><td>-0.68762104</td><td>-0.69524018</td><td> 1.0730066</td></tr>\n",
       "\t<tr><th scope=row>-Terry Harper</th><td>-0.94117991</td><td>-0.88262847</td><td>-0.41335244</td><td>-1.12550723</td><td>-0.83015606</td><td>-0.5577879</td><td>-0.06504215</td><td>-0.57751840</td><td>-0.59115477</td><td>-0.453049142</td><td>-0.68303596</td><td>-0.51773343</td><td>-0.50090218</td><td>-1.0567429</td><td> 1.0567429</td><td> 0.9792988</td><td>-0.70984810</td><td>-0.78411914</td><td>-0.84660456</td><td>-0.9284171</td></tr>\n",
       "\t<tr><th scope=row>-Tommy Herr</th><td> 1.05464910</td><td> 0.73508838</td><td>-1.09851017</td><td>-0.26410712</td><td> 0.36755450</td><td> 1.4681761</td><td> 0.14356864</td><td> 0.22061578</td><td> 0.23420823</td><td>-0.647702071</td><td> 0.18049434</td><td> 0.05746322</td><td> 0.37391269</td><td>-1.0567429</td><td> 1.0567429</td><td>-1.0172561</td><td> 0.21894035</td><td> 2.03500393</td><td> 0.06158171</td><td> 1.0730066</td></tr>\n",
       "\t<tr><th scope=row>-Tim Hulett</th><td> 0.78989627</td><td> 0.26971778</td><td> 0.61438414</td><td>-0.06833437</td><td>-0.28925452</td><td>-0.9261450</td><td>-0.69087451</td><td>-0.75682526</td><td>-0.76394104</td><td>-0.574707222</td><td>-0.77059672</td><td>-0.77440720</td><td>-0.78872006</td><td> 0.9427059</td><td>-0.9427059</td><td> 0.9792988</td><td>-0.78843789</td><td> 0.17396914</td><td> 0.36431046</td><td>-0.9284171</td></tr>\n",
       "\t<tr><th scope=row>-Terry Kennedy</th><td>-2.61115928</td><td>-2.30090077</td><td>-1.21270312</td><td>-2.06521644</td><td>-1.87332331</td><td>-1.8470377</td><td>-1.31670688</td><td>-1.15392435</td><td>-1.10797085</td><td>-0.830189192</td><td>-1.08460774</td><td>-1.01252625</td><td>-0.98186100</td><td>-1.0567429</td><td> 1.0567429</td><td> 0.9792988</td><td> 1.43350986</td><td>-0.33609224</td><td>-0.08978267</td><td>-0.9284171</td></tr>\n",
       "\t<tr><th scope=row>-Tito Landrum</th><td>-1.34849195</td><td>-1.43664109</td><td>-1.09851017</td><td>-1.20381633</td><td>-1.33242177</td><td>-0.9721896</td><td>-0.06504215</td><td>-0.78875063</td><td>-0.77628292</td><td>-0.696365303</td><td>-0.77361606</td><td>-0.71565055</td><td>-0.71676559</td><td>-1.0567429</td><td> 1.0567429</td><td>-1.0172561</td><td>-0.57052983</td><td>-0.77722641</td><td>-1.14933332</td><td> 1.0730066</td></tr>\n",
       "\t<tr><th scope=row>-Tim Laudner</th><td>-1.42995436</td><td>-1.34799907</td><td>-0.18496653</td><td>-1.32127998</td><td>-0.86879188</td><td>-0.7880111</td><td>-0.27365294</td><td>-0.66542250</td><td>-0.71920174</td><td>-0.331391061</td><td>-0.70115198</td><td>-0.59195235</td><td>-0.58421788</td><td> 0.9427059</td><td>-0.9427059</td><td> 0.9792988</td><td> 0.02961040</td><td>-0.72897736</td><td>-0.54387581</td><td>-0.9284171</td></tr>\n",
       "\t<tr><th scope=row>-Tom Paciorek</th><td>-1.29418368</td><td>-1.03775200</td><td>-0.87012426</td><td>-1.47789819</td><td>-1.13924265</td><td>-1.7549484</td><td> 2.02106574</td><td> 0.61377886</td><td> 0.65228929</td><td> 0.167407070</td><td> 0.38278990</td><td> 0.49659185</td><td>-0.06160121</td><td> 0.9427059</td><td>-0.9427059</td><td> 0.9792988</td><td>-0.40263346</td><td>-0.50841028</td><td>-0.69524018</td><td>-0.9284171</td></tr>\n",
       "\t<tr><th scope=row>-Tony Pena</th><td> 0.72201093</td><td> 0.86805141</td><td>-0.18496653</td><td> 0.04912928</td><td> 0.01983208</td><td> 0.5472834</td><td>-0.06504215</td><td> 0.09378898</td><td> 0.15244329</td><td>-0.075909091</td><td>-0.16371004</td><td> 0.02963113</td><td>-0.32669662</td><td>-1.0567429</td><td> 1.0567429</td><td>-1.0172561</td><td> 1.85503692</td><td>-0.13620332</td><td> 1.42386111</td><td> 1.0730066</td></tr>\n",
       "\t<tr><th scope=row>-Terry Pendleton</th><td> 1.18363124</td><td> 0.66860686</td><td>-1.21270312</td><td> 0.04912928</td><td> 0.29028285</td><td>-0.3275647</td><td>-0.89948530</td><td>-0.55040371</td><td>-0.56338555</td><td>-0.757194343</td><td>-0.64076524</td><td>-0.52391834</td><td>-0.65617235</td><td>-1.0567429</td><td> 1.0567429</td><td>-1.0172561</td><td>-0.56338531</td><td> 1.73861691</td><td> 1.72658986</td><td> 1.0730066</td></tr>\n",
       "\t<tr><th scope=row>-Tony Phillips</th><td> 0.25360208</td><td> 0.11459425</td><td>-0.75593130</td><td> 0.83222029</td><td> 0.01983208</td><td> 1.6063100</td><td>-0.48226372</td><td>-0.48611564</td><td>-0.50167617</td><td>-0.635536263</td><td>-0.40827632</td><td>-0.56102780</td><td>-0.26231631</td><td> 0.9427059</td><td>-0.9427059</td><td> 0.9792988</td><td>-0.46693420</td><td> 1.18030647</td><td> 0.36431046</td><td>-0.9284171</td></tr>\n",
       "\t<tr><th scope=row>-Terry Puhl</th><td>-1.57251358</td><td>-1.45880159</td><td>-0.98431721</td><td>-1.47789819</td><td>-1.44832924</td><td>-1.2024128</td><td> 0.56079022</td><td> 0.62471221</td><td> 0.66000297</td><td>-0.148903940</td><td> 0.65754954</td><td> 0.10075760</td><td> 0.55190533</td><td>-1.0567429</td><td> 1.0567429</td><td> 0.9792988</td><td>-0.80629921</td><td>-0.81858274</td><td>-1.30069770</td><td> 1.0730066</td></tr>\n",
       "\t<tr><th scope=row>-Ted Simmons</th><td>-1.87799761</td><td>-1.68040664</td><td>-0.87012426</td><td>-1.59536184</td><td>-1.02333518</td><td>-1.3405467</td><td> 2.43828732</td><td> 2.50962088</td><td> 2.59150665</td><td> 2.101770553</td><td> 2.07361845</td><td> 3.14682589</td><td> 2.11596828</td><td>-1.0567429</td><td> 1.0567429</td><td> 0.9792988</td><td>-0.44192836</td><td>-0.69451376</td><td>-0.39251143</td><td> 1.0730066</td></tr>\n",
       "\t<tr><th scope=row>-Tim Teufel</th><td>-0.84614043</td><td>-0.86046796</td><td>-0.87012426</td><td>-0.77311628</td><td>-0.79152023</td><td>-0.4196540</td><td>-0.69087451</td><td>-0.56789706</td><td>-0.56647102</td><td>-0.465214950</td><td>-0.54716580</td><td>-0.56412025</td><td>-0.38728986</td><td>-1.0567429</td><td> 1.0567429</td><td>-1.0172561</td><td>-0.56338531</td><td> 0.37385807</td><td> 0.06158171</td><td> 1.0730066</td></tr>\n",
       "\t<tr><th scope=row>-Tim Wallach</th><td> 0.51835491</td><td> 0.09243374</td><td> 0.72857710</td><td>-0.18579802</td><td> 0.75391274</td><td> 0.1328817</td><td>-0.06504215</td><td> 0.16332505</td><td> 0.07530656</td><td> 0.495883888</td><td>-0.07011061</td><td> 0.23373317</td><td>-0.08053659</td><td>-1.0567429</td><td> 1.0567429</td><td>-1.0172561</td><td>-0.70270357</td><td> 1.04245204</td><td> 1.12113235</td><td> 1.0730066</td></tr>\n",
       "\t<tr><th scope=row>-Vince Coleman</th><td> 1.33297899</td><td> 0.69076737</td><td>-1.32689607</td><td> 1.53700220</td><td>-0.86879188</td><td> 0.8695959</td><td>-1.10809609</td><td>-0.62168912</td><td>-0.63743681</td><td>-0.830189192</td><td>-0.48375973</td><td>-0.80842421</td><td>-0.56906957</td><td>-1.0567429</td><td> 1.0567429</td><td>-1.0172561</td><td> 0.03318266</td><td>-0.73587009</td><td> 0.06158171</td><td> 1.0730066</td></tr>\n",
       "\t<tr><th scope=row>-Von Hayes</th><td> 1.40086433</td><td> 1.73231109</td><td> 0.84277005</td><td> 2.04601136</td><td> 1.79707999</td><td> 1.5142208</td><td>-0.27365294</td><td> 0.03081291</td><td> 0.04753734</td><td>-0.002914243</td><td> 0.11406893</td><td> 0.11003496</td><td> 0.09745604</td><td>-1.0567429</td><td> 1.0567429</td><td>-1.0172561</td><td> 3.18391886</td><td>-0.15688148</td><td> 0.66703922</td><td> 1.0730066</td></tr>\n",
       "\t<tr><th scope=row>-Vance Law</th><td>-0.29626918</td><td>-0.59454191</td><td>-0.75593130</td><td>-0.69480718</td><td>-0.28925452</td><td>-0.1894308</td><td>-0.06504215</td><td>-0.17036064</td><td>-0.24095402</td><td>-0.343556869</td><td>-0.24825147</td><td>-0.22704265</td><td>-0.05402705</td><td>-1.0567429</td><td> 1.0567429</td><td>-1.0172561</td><td>-0.43121157</td><td> 1.13895015</td><td>-0.84660456</td><td> 1.0730066</td></tr>\n",
       "\t<tr><th scope=row>-Wally Backman</th><td>-0.11297876</td><td> 0.35835980</td><td>-1.21270312</td><td> 0.47982934</td><td>-0.94606353</td><td>-0.2354754</td><td>-0.06504215</td><td>-0.38596620</td><td>-0.33351810</td><td>-0.769360151</td><td>-0.26938683</td><td>-0.63524672</td><td>-0.25095507</td><td>-1.0567429</td><td> 1.0567429</td><td>-1.0172561</td><td>-0.37405535</td><td> 1.18030647</td><td> 1.27249673</td><td> 1.0730066</td></tr>\n",
       "\t<tr><th scope=row>-Wade Boggs</th><td> 1.19720831</td><td> 2.19768169</td><td>-0.41335244</td><td> 2.04601136</td><td> 0.75391274</td><td> 2.9416045</td><td>-0.48226372</td><td> 0.05267960</td><td> 0.39465262</td><td>-0.453049142</td><td> 0.34051919</td><td>-0.02603306</td><td> 0.59356318</td><td> 0.9427059</td><td>-0.9427059</td><td>-1.0172561</td><td>-0.60625247</td><td> 1.02177388</td><td> 1.57522548</td><td>-0.9284171</td></tr>\n",
       "\t<tr><th scope=row>-Will Clark</th><td> 0.02958046</td><td> 0.20323626</td><td>-0.07077358</td><td> 0.44067479</td><td>-0.40516199</td><td>-0.3275647</td><td>-1.31670688</td><td>-0.98380150</td><td>-0.93364185</td><td>-0.708531111</td><td>-0.89137019</td><td>-0.89501295</td><td>-0.85688745</td><td>-1.0567429</td><td> 1.0567429</td><td> 0.9792988</td><td> 2.32657567</td><td>-0.32230680</td><td> 0.36431046</td><td> 1.0730066</td></tr>\n",
       "\t<tr><th scope=row>-Wally Joyner</th><td> 1.28545925</td><td> 1.42206403</td><td> 1.18534891</td><td> 1.06714760</td><td> 1.87435164</td><td> 0.7314619</td><td>-1.31670688</td><td>-0.90289475</td><td>-0.84879144</td><td>-0.574707222</td><td>-0.84306080</td><td>-0.71255810</td><td>-0.76978467</td><td> 0.9427059</td><td>-0.9427059</td><td> 0.9792988</td><td> 3.32680939</td><td> 0.13950554</td><td> 0.96976797</td><td>-0.9284171</td></tr>\n",
       "\t<tr><th scope=row>-Willie McGee</th><td> 0.63375999</td><td> 0.42484131</td><td>-0.52754540</td><td> 0.40152024</td><td>-0.13471122</td><td>-0.1894308</td><td>-0.48226372</td><td> 0.01987956</td><td> 0.12930227</td><td>-0.453049142</td><td> 0.05368220</td><td>-0.06005007</td><td>-0.46303141</td><td>-1.0567429</td><td> 1.0567429</td><td>-1.0172561</td><td> 0.12248924</td><td>-0.75654825</td><td>-0.84660456</td><td> 1.0730066</td></tr>\n",
       "\t<tr><th scope=row>-Willie Randolph</th><td> 0.59981732</td><td> 0.62428585</td><td>-0.75593130</td><td> 0.83222029</td><td>-0.05743957</td><td> 2.4351135</td><td> 0.97801180</td><td> 1.24791287</td><td> 1.21693015</td><td>-0.367888485</td><td> 1.61769861</td><td> 0.37289365</td><td> 2.32804461</td><td> 0.9427059</td><td>-0.9427059</td><td>-1.0172561</td><td> 0.07962208</td><td> 1.80754412</td><td> 1.72658986</td><td>-0.9284171</td></tr>\n",
       "\t<tr><th scope=row>-Wayne Tolleson</th><td> 0.48441224</td><td> 0.40268081</td><td>-0.98431721</td><td> 0.24490204</td><td>-0.32789034</td><td> 0.5012388</td><td>-0.27365294</td><td>-0.41876624</td><td>-0.44613772</td><td>-0.757194343</td><td>-0.43545035</td><td>-0.73420528</td><td>-0.43273479</td><td> 0.9427059</td><td>-0.9427059</td><td> 0.9792988</td><td>-0.90632258</td><td>-0.03970522</td><td>-0.24114705</td><td>-0.9284171</td></tr>\n",
       "\t<tr><th scope=row>-Willie Upshaw</th><td> 1.14968857</td><td> 0.80156989</td><td>-0.29915949</td><td> 1.18461125</td><td> 0.32891867</td><td> 1.6983993</td><td> 0.14356864</td><td> 0.23635980</td><td> 0.20798174</td><td> 0.337728383</td><td> 0.32844184</td><td> 0.27702754</td><td> 0.27166160</td><td> 0.9427059</td><td>-0.9427059</td><td>-1.0172561</td><td> 3.65545761</td><td> 0.08436377</td><td> 0.51567484</td><td>-0.9284171</td></tr>\n",
       "\t<tr><th scope=row>-Willie Wilson</th><td> 1.54342355</td><td> 1.37774302</td><td>-0.29915949</td><td> 0.87137484</td><td>-0.28925452</td><td>-0.4656986</td><td> 0.76940101</td><td> 0.98420059</td><td> 1.13362248</td><td>-0.477380758</td><td> 1.24933953</td><td> 0.08220287</td><td>-0.04266582</td><td> 0.9427059</td><td>-0.9427059</td><td> 0.9792988</td><td> 0.41898709</td><td>-0.79101186</td><td>-0.84660456</td><td>-0.9284171</td></tr>\n",
       "</tbody>\n",
       "</table>\n"
      ],
      "text/latex": [
       "A matrix: 263 × 20 of type dbl\n",
       "\\begin{tabular}{r|llllllllllllllllllll}\n",
       "  & AtBat & Hits & HmRun & Runs & RBI & Walks & Years & CAtBat & CHits & CHmRun & CRuns & CRBI & CWalks & LeagueA & LeagueN & DivisionW & PutOuts & Assists & Errors & NewLeagueN\\\\\n",
       "\\hline\n",
       "\t-Alan Ashby & -0.60175321 & -0.594541907 & -0.5275454 & -1.203816332 & -0.52106946 & -0.09734151 &  1.39523337 &  0.34613058 &  0.17404158 & -0.002914243 & -0.12143933 &  0.25847281 &  0.43450593 & -1.0567429 &  1.0567429 &  0.9792988 &  1.21917406 & -0.52219572 &  0.21294608 &  1.0730066\\\\\n",
       "\t-Alvin Davis &  0.51156637 &  0.491322826 &  0.7285771 &  0.440674789 &  0.79254856 &  1.60631004 & -0.89948530 & -0.45200360 & -0.40911209 & -0.075909091 & -0.41431499 & -0.19921055 &  0.01035326 &  0.9427059 & -0.9427059 &  0.9792988 &  2.10509535 & -0.25337958 &  0.81840359 & -0.9284171\\\\\n",
       "\t-Andre Dawson &  0.62697145 &  0.735088378 &  0.9569630 &  0.401520238 &  1.02436351 & -0.18943079 &  0.76940101 &  1.29908093 &  1.31566516 &  1.894951816 &  1.40936438 &  1.56967378 &  0.35497730 & -1.0567429 &  1.0567429 & -1.0172561 & -0.32404367 & -0.74276281 & -0.84660456 &  1.0730066\\\\\n",
       "\t-Andres Galarraga & -0.56102200 & -0.461578879 & -0.1849665 & -0.616498075 & -0.36652617 & -0.51174324 & -1.10809609 & -0.98904951 & -0.95832560 & -0.696365303 & -0.94571825 & -0.87955068 & -0.86067453 & -1.0567429 &  1.0567429 & -1.0172561 &  1.83717561 & -0.54287389 & -0.69524018 &  1.0730066\\\\\n",
       "\t-Alfredo Griffin &  1.29224779 &  1.355582512 & -0.8701243 &  0.753911193 & -0.01880375 & -0.28152006 &  0.76940101 &  0.76553369 &  0.63377648 & -0.611204646 &  0.42204128 &  0.01726131 & -0.25095507 &  0.9427059 & -0.9427059 &  0.9792988 & -0.03111808 &  2.08325298 &  2.48341175 & -0.9284171\\\\\n",
       "\t-Al Newman & -1.48426263 & -1.569604117 & -1.2127031 & -1.242970882 & -1.68014419 & -0.92614497 & -1.10809609 & -1.06864426 & -1.04934694 & -0.830189192 & -1.00006631 & -0.99397151 & -0.89475822 & -1.0567429 &  1.0567429 & -1.0172561 & -0.76700431 &  0.05679288 & -0.24114705 & -0.9284171\\\\\n",
       "\t-Argenis Salazar & -0.71715829 & -0.771825945 & -1.3268961 & -1.203816332 & -1.06197100 & -1.57076988 & -0.89948530 & -0.93963079 & -0.94752646 & -0.842355000 & -0.96685361 & -0.90738277 & -0.94020315 &  0.9427059 & -0.9427059 &  0.9792988 & -0.60625247 &  1.13205742 &  0.06158171 & -0.9284171\\\\\n",
       "\t-Andres Thomas & -0.54744494 & -0.594541907 & -0.6417383 & -1.125507231 & -0.75288441 & -1.52472525 & -1.10809609 & -1.01310287 & -0.98146662 & -0.769360151 & -0.99402764 & -0.91666014 & -0.95535146 & -1.0567429 &  1.0567429 &  0.9792988 & -0.52766267 &  1.18030647 &  1.57522548 &  1.0730066\\\\\n",
       "\t-Andre Thornton & -0.01793928 & -0.350776355 &  0.6143841 & -0.224952570 &  0.56073362 &  1.09981904 &  1.18662259 &  1.11452606 &  0.94078066 &  2.235594442 &  1.27651356 &  1.73048144 &  2.29396091 &  0.9427059 & -0.9427059 & -1.0172561 & -1.03849632 & -0.81858274 & -1.30069770 & -0.9284171\\\\\n",
       "\t-Alan Trammell &  1.15647711 &  1.133977464 &  1.0711560 &  2.046011359 &  0.90845603 &  0.82355122 &  0.56079022 &  0.86305913 &  0.89141315 &  0.252567726 &  1.02892795 &  0.53679377 &  0.86244567 &  0.9427059 & -0.9427059 & -1.0172561 & -0.18829766 &  2.24867830 &  2.02931862 & -0.9284171\\\\\n",
       "\t-Alex Trevino & -1.36885755 & -1.215036041 & -0.8701243 & -0.929734478 & -0.98469935 & -0.64987715 &  0.35217943 & -0.34179549 & -0.39368475 & -0.659867879 & -0.51093376 & -0.44660696 & -0.37592863 & -1.0567429 &  1.0567429 &  0.9792988 &  0.04747171 & -0.50841028 &  0.36431046 &  1.0730066\\\\\n",
       "\t-Andy VanSlyke &  0.09746580 &  0.114594245 &  0.1576123 & -0.264107120 &  0.36755450 &  0.27101558 & -0.69087451 & -0.50098499 & -0.50938984 & -0.343556869 & -0.47168239 & -0.39094277 & -0.21687138 & -1.0567429 &  1.0567429 & -1.0172561 & -0.28474877 & -0.74276281 & -0.24114705 &  1.0730066\\\\\n",
       "\t-Alan Wiggins & -1.11768180 & -1.059912507 & -1.3268961 & -0.968889029 & -1.56423672 & -0.88010033 & -0.27365294 & -0.31336879 & -0.32734716 & -0.793691768 & -0.15767137 & -0.70328073 & -0.20172307 &  0.9427059 & -0.9427059 & -1.0172561 & -0.60625247 &  0.22221819 & -0.39251143 & -0.9284171\\\\\n",
       "\t-Bill Almon & -1.40958876 & -1.436641088 & -0.5275454 & -1.008043579 & -0.94606353 & -0.51174324 &  1.18662259 &  0.25079181 &  0.15861423 & -0.404385909 &  0.04462419 & -0.12499163 & -0.08432367 & -1.0567429 &  1.0567429 & -1.0172561 & -0.75271526 & -0.50841028 & -0.08978267 &  1.0730066\\\\\n",
       "\t-Buddy Bell &  1.11574590 &  1.111816959 &  0.9569630 &  1.341229450 &  0.90845603 &  1.46817613 &  1.60384416 &  2.36617540 &  2.39249389 &  1.310993029 &  2.06456044 &  2.04900432 &  1.78649255 & -1.0567429 &  1.0567429 &  0.9792988 & -0.66340868 &  1.18030647 &  0.21294608 &  1.0730066\\\\\n",
       "\t-Buddy Biancalana & -1.45031996 & -1.370159574 & -1.0985102 & -1.203816332 & -1.68014419 & -1.20241279 & -0.48226372 & -0.95275080 & -0.95678286 & -0.781525959 & -0.89438953 & -0.95067714 & -0.83795206 &  0.9427059 & -0.9427059 &  0.9792988 & -0.67412547 &  0.40142895 &  1.12113235 & -0.9284171\\\\\n",
       "\t-Bruce Bochy & -1.87799761 & -1.680406641 & -0.4133524 & -1.517052736 & -1.13924265 & -1.24845743 &  0.14356864 & -0.84429202 & -0.83644957 & -0.550375606 & -0.88835085 & -0.76822229 & -0.77357175 & -1.0567429 &  1.0567429 &  0.9792988 & -0.31689914 & -0.66694287 & -0.99796894 &  1.0730066\\\\\n",
       "\t-Barry Bonds &  0.06352313 & -0.350776355 &  0.5001912 &  0.675602092 & -0.13471122 &  1.09981904 & -1.31670688 & -0.98161484 & -0.97221021 & -0.647702071 & -0.87325417 & -0.87336577 & -0.73948805 & -1.0567429 &  1.0567429 & -1.0172561 & -0.03826261 & -0.75654825 & -0.54387581 &  1.0730066\\\\\n",
       "\t-Bobby Bonilla &  0.15177407 &  0.025952226 & -0.9843172 &  0.009974733 & -0.32789034 &  0.96168513 & -1.31670688 & -0.97592950 & -0.94598372 & -0.805857576 & -0.92458289 & -0.88882804 & -0.75084929 &  0.9427059 & -0.9427059 &  0.9792988 &  0.25109072 & -0.66694287 & -0.99796894 &  1.0730066\\\\\n",
       "\t-Bob Brenly &  0.46404663 &  0.181075759 &  0.5001912 &  0.205747486 &  0.40619032 &  1.51422077 & -0.27365294 & -0.32080346 & -0.35974458 & -0.027245859 & -0.35996693 & -0.24559738 & -0.07674951 & -1.0567429 &  1.0567429 &  0.9792988 &  0.81193605 & -0.43948306 & -0.84660456 &  1.0730066\\\\\n",
       "\t-Bill Buckner &  1.52984648 &  1.333422007 &  0.7285771 &  0.714756642 &  1.95162329 & -0.05129688 &  2.22967653 &  2.52186623 &  2.68715619 &  1.152837524 &  1.95284499 &  2.29330827 &  0.53675702 &  0.9427059 & -0.9427059 & -1.0172561 &  2.77310858 &  0.26357452 &  0.81840359 & -0.9284171\\\\\n",
       "\t-Brett Butler &  1.24472805 &  1.222619483 & -0.8701243 &  1.458693102 & -0.01880375 &  1.33004222 & -0.27365294 &  0.01638089 &  0.03828093 & -0.635536263 &  0.24390041 & -0.40949750 &  0.21485544 &  0.9427059 & -0.9427059 & -1.0172561 &  0.51186594 & -0.75654825 & -0.84660456 & -0.9284171\\\\\n",
       "\t-Bob Dernier & -0.54065640 & -0.771825945 & -0.8701243 & -0.890579928 & -1.29378595 & -0.88010033 & -0.06504215 & -0.31774213 & -0.35665912 & -0.684199495 & -0.21201943 & -0.68781846 & -0.30397416 & -1.0567429 &  1.0567429 & -1.0172561 & -0.24545388 & -0.79790458 & -0.84660456 &  1.0730066\\\\\n",
       "\t-Bo Diaz &  0.47762370 &  0.469162321 & -0.1849665 & -0.185798019 &  0.17437537 & -0.05129688 &  0.56079022 & -0.14280861 & -0.18233011 & -0.100240708 & -0.34788958 & -0.01057079 & -0.35699324 & -1.0567429 &  1.0567429 &  0.9792988 &  1.57640039 & -0.24648686 &  0.66703922 &  1.0730066\\\\\n",
       "\t-Bill Doran &  0.99355229 &  0.978853931 & -0.6417383 &  1.458693102 & -0.55970529 &  1.83653322 & -0.48226372 & -0.15286729 & -0.13759081 & -0.453049142 & -0.03689790 & -0.45897678 &  0.18077175 & -1.0567429 &  1.0567429 &  0.9792988 & -0.10256335 &  1.44912261 &  1.12113235 &  1.0730066\\\\\n",
       "\t-Brian Downing &  0.74237653 &  0.646446359 &  0.9569630 &  1.380384001 &  1.68117252 &  2.25093495 &  1.39523337 &  1.11233940 &  1.01791739 &  1.177169140 &  1.21310749 &  1.24805844 &  1.98342057 &  0.9427059 & -0.9427059 &  0.9792988 & -0.08470203 & -0.78411914 & -0.84660456 & -0.9284171\\\\\n",
       "\t-Billy Hatcher &  0.10425433 &  0.003791721 & -0.6417383 &  0.009974733 & -0.59834111 & -0.88010033 & -0.89948530 & -0.90376942 & -0.88427434 & -0.745028535 & -0.84909947 & -0.87955068 & -0.86824868 & -1.0567429 &  1.0567429 &  0.9792988 & -0.23116482 & -0.77033369 & -0.69524018 &  1.0730066\\\\\n",
       "\t-Brook Jacoby &  1.21757391 &  1.333422007 &  0.6143841 &  1.106302147 &  1.10163516 &  0.68541731 & -0.48226372 & -0.44238226 & -0.41682576 & -0.307059445 & -0.42941167 & -0.37857295 & -0.47060556 &  0.9427059 & -0.9427059 & -1.0172561 & -0.64911962 &  1.19409192 &  2.48341175 & -0.9284171\\\\\n",
       "\t-Bob Kearney & -1.35528049 & -1.303678060 & -0.6417383 & -1.242970882 & -1.02333518 & -1.34054670 & -0.06504215 & -0.58976375 & -0.63897954 & -0.513878182 & -0.71020999 & -0.61359954 & -0.73570098 &  0.9427059 & -0.9427059 &  0.9792988 &  0.45828199 & -0.50151756 & -0.54387581 & -0.9284171\\\\\n",
       "\t-Bill Madlock & -0.16728703 & -0.040529288 & -0.1849665 & -0.655652625 &  0.32891867 & -0.51174324 &  1.39523337 &  1.55229720 &  1.82631030 &  0.933852978 &  1.50296382 &  1.46143785 &  1.17677309 & -1.0567429 &  1.0567429 &  0.9792988 & -0.78129337 &  0.35317990 &  2.33204737 &  1.0730066\\\\\n",
       "\t⋮ & ⋮ & ⋮ & ⋮ & ⋮ & ⋮ & ⋮ & ⋮ & ⋮ & ⋮ & ⋮ & ⋮ & ⋮ & ⋮ & ⋮ & ⋮ & ⋮ & ⋮ & ⋮ & ⋮ & ⋮\\\\\n",
       "\t-Tony Fernandez &  1.92358145 &  2.33064472 & -0.18496653 &  1.41953855 &  0.52209779 & -0.6498772 & -0.69087451 & -0.49836099 & -0.42299670 & -0.659867879 & -0.49885642 & -0.59813726 & -0.64859820 &  0.9427059 & -0.9427059 & -1.0172561 &  0.01174908 &  2.24867830 &  0.66703922 & -0.9284171\\\\\n",
       "\t-Tim Flannery & -0.24196091 & -0.10701080 & -0.98431721 & -0.26410712 & -0.90742770 &  0.5933280 &  0.14356864 & -0.33261148 & -0.35357365 & -0.732862727 & -0.46564371 & -0.52082588 & -0.23580676 & -1.0567429 &  1.0567429 &  0.9792988 & -0.29189330 &  0.87702673 & -0.84660456 &  1.0730066\\\\\n",
       "\t-Tom Foley & -0.95475698 & -0.83830746 & -1.21270312 & -1.12550723 & -1.10060683 & -0.5117432 & -0.69087451 & -0.77388128 & -0.77474018 & -0.732862727 & -0.84004146 & -0.76822229 & -0.65995943 & -1.0567429 &  1.0567429 & -1.0172561 & -0.74914300 &  0.19464731 & -0.69524018 &  1.0730066\\\\\n",
       "\t-Tony Gwynn &  1.61809742 &  2.28632371 &  0.27180528 &  2.04601136 &  0.29028285 &  0.5012388 & -0.48226372 & -0.12837659 &  0.07376383 & -0.513878182 & -0.02783989 & -0.31053893 & -0.25474215 & -1.0567429 &  1.0567429 &  0.9792988 &  0.16535640 & -0.68762104 & -0.69524018 &  1.0730066\\\\\n",
       "\t-Terry Harper & -0.94117991 & -0.88262847 & -0.41335244 & -1.12550723 & -0.83015606 & -0.5577879 & -0.06504215 & -0.57751840 & -0.59115477 & -0.453049142 & -0.68303596 & -0.51773343 & -0.50090218 & -1.0567429 &  1.0567429 &  0.9792988 & -0.70984810 & -0.78411914 & -0.84660456 & -0.9284171\\\\\n",
       "\t-Tommy Herr &  1.05464910 &  0.73508838 & -1.09851017 & -0.26410712 &  0.36755450 &  1.4681761 &  0.14356864 &  0.22061578 &  0.23420823 & -0.647702071 &  0.18049434 &  0.05746322 &  0.37391269 & -1.0567429 &  1.0567429 & -1.0172561 &  0.21894035 &  2.03500393 &  0.06158171 &  1.0730066\\\\\n",
       "\t-Tim Hulett &  0.78989627 &  0.26971778 &  0.61438414 & -0.06833437 & -0.28925452 & -0.9261450 & -0.69087451 & -0.75682526 & -0.76394104 & -0.574707222 & -0.77059672 & -0.77440720 & -0.78872006 &  0.9427059 & -0.9427059 &  0.9792988 & -0.78843789 &  0.17396914 &  0.36431046 & -0.9284171\\\\\n",
       "\t-Terry Kennedy & -2.61115928 & -2.30090077 & -1.21270312 & -2.06521644 & -1.87332331 & -1.8470377 & -1.31670688 & -1.15392435 & -1.10797085 & -0.830189192 & -1.08460774 & -1.01252625 & -0.98186100 & -1.0567429 &  1.0567429 &  0.9792988 &  1.43350986 & -0.33609224 & -0.08978267 & -0.9284171\\\\\n",
       "\t-Tito Landrum & -1.34849195 & -1.43664109 & -1.09851017 & -1.20381633 & -1.33242177 & -0.9721896 & -0.06504215 & -0.78875063 & -0.77628292 & -0.696365303 & -0.77361606 & -0.71565055 & -0.71676559 & -1.0567429 &  1.0567429 & -1.0172561 & -0.57052983 & -0.77722641 & -1.14933332 &  1.0730066\\\\\n",
       "\t-Tim Laudner & -1.42995436 & -1.34799907 & -0.18496653 & -1.32127998 & -0.86879188 & -0.7880111 & -0.27365294 & -0.66542250 & -0.71920174 & -0.331391061 & -0.70115198 & -0.59195235 & -0.58421788 &  0.9427059 & -0.9427059 &  0.9792988 &  0.02961040 & -0.72897736 & -0.54387581 & -0.9284171\\\\\n",
       "\t-Tom Paciorek & -1.29418368 & -1.03775200 & -0.87012426 & -1.47789819 & -1.13924265 & -1.7549484 &  2.02106574 &  0.61377886 &  0.65228929 &  0.167407070 &  0.38278990 &  0.49659185 & -0.06160121 &  0.9427059 & -0.9427059 &  0.9792988 & -0.40263346 & -0.50841028 & -0.69524018 & -0.9284171\\\\\n",
       "\t-Tony Pena &  0.72201093 &  0.86805141 & -0.18496653 &  0.04912928 &  0.01983208 &  0.5472834 & -0.06504215 &  0.09378898 &  0.15244329 & -0.075909091 & -0.16371004 &  0.02963113 & -0.32669662 & -1.0567429 &  1.0567429 & -1.0172561 &  1.85503692 & -0.13620332 &  1.42386111 &  1.0730066\\\\\n",
       "\t-Terry Pendleton &  1.18363124 &  0.66860686 & -1.21270312 &  0.04912928 &  0.29028285 & -0.3275647 & -0.89948530 & -0.55040371 & -0.56338555 & -0.757194343 & -0.64076524 & -0.52391834 & -0.65617235 & -1.0567429 &  1.0567429 & -1.0172561 & -0.56338531 &  1.73861691 &  1.72658986 &  1.0730066\\\\\n",
       "\t-Tony Phillips &  0.25360208 &  0.11459425 & -0.75593130 &  0.83222029 &  0.01983208 &  1.6063100 & -0.48226372 & -0.48611564 & -0.50167617 & -0.635536263 & -0.40827632 & -0.56102780 & -0.26231631 &  0.9427059 & -0.9427059 &  0.9792988 & -0.46693420 &  1.18030647 &  0.36431046 & -0.9284171\\\\\n",
       "\t-Terry Puhl & -1.57251358 & -1.45880159 & -0.98431721 & -1.47789819 & -1.44832924 & -1.2024128 &  0.56079022 &  0.62471221 &  0.66000297 & -0.148903940 &  0.65754954 &  0.10075760 &  0.55190533 & -1.0567429 &  1.0567429 &  0.9792988 & -0.80629921 & -0.81858274 & -1.30069770 &  1.0730066\\\\\n",
       "\t-Ted Simmons & -1.87799761 & -1.68040664 & -0.87012426 & -1.59536184 & -1.02333518 & -1.3405467 &  2.43828732 &  2.50962088 &  2.59150665 &  2.101770553 &  2.07361845 &  3.14682589 &  2.11596828 & -1.0567429 &  1.0567429 &  0.9792988 & -0.44192836 & -0.69451376 & -0.39251143 &  1.0730066\\\\\n",
       "\t-Tim Teufel & -0.84614043 & -0.86046796 & -0.87012426 & -0.77311628 & -0.79152023 & -0.4196540 & -0.69087451 & -0.56789706 & -0.56647102 & -0.465214950 & -0.54716580 & -0.56412025 & -0.38728986 & -1.0567429 &  1.0567429 & -1.0172561 & -0.56338531 &  0.37385807 &  0.06158171 &  1.0730066\\\\\n",
       "\t-Tim Wallach &  0.51835491 &  0.09243374 &  0.72857710 & -0.18579802 &  0.75391274 &  0.1328817 & -0.06504215 &  0.16332505 &  0.07530656 &  0.495883888 & -0.07011061 &  0.23373317 & -0.08053659 & -1.0567429 &  1.0567429 & -1.0172561 & -0.70270357 &  1.04245204 &  1.12113235 &  1.0730066\\\\\n",
       "\t-Vince Coleman &  1.33297899 &  0.69076737 & -1.32689607 &  1.53700220 & -0.86879188 &  0.8695959 & -1.10809609 & -0.62168912 & -0.63743681 & -0.830189192 & -0.48375973 & -0.80842421 & -0.56906957 & -1.0567429 &  1.0567429 & -1.0172561 &  0.03318266 & -0.73587009 &  0.06158171 &  1.0730066\\\\\n",
       "\t-Von Hayes &  1.40086433 &  1.73231109 &  0.84277005 &  2.04601136 &  1.79707999 &  1.5142208 & -0.27365294 &  0.03081291 &  0.04753734 & -0.002914243 &  0.11406893 &  0.11003496 &  0.09745604 & -1.0567429 &  1.0567429 & -1.0172561 &  3.18391886 & -0.15688148 &  0.66703922 &  1.0730066\\\\\n",
       "\t-Vance Law & -0.29626918 & -0.59454191 & -0.75593130 & -0.69480718 & -0.28925452 & -0.1894308 & -0.06504215 & -0.17036064 & -0.24095402 & -0.343556869 & -0.24825147 & -0.22704265 & -0.05402705 & -1.0567429 &  1.0567429 & -1.0172561 & -0.43121157 &  1.13895015 & -0.84660456 &  1.0730066\\\\\n",
       "\t-Wally Backman & -0.11297876 &  0.35835980 & -1.21270312 &  0.47982934 & -0.94606353 & -0.2354754 & -0.06504215 & -0.38596620 & -0.33351810 & -0.769360151 & -0.26938683 & -0.63524672 & -0.25095507 & -1.0567429 &  1.0567429 & -1.0172561 & -0.37405535 &  1.18030647 &  1.27249673 &  1.0730066\\\\\n",
       "\t-Wade Boggs &  1.19720831 &  2.19768169 & -0.41335244 &  2.04601136 &  0.75391274 &  2.9416045 & -0.48226372 &  0.05267960 &  0.39465262 & -0.453049142 &  0.34051919 & -0.02603306 &  0.59356318 &  0.9427059 & -0.9427059 & -1.0172561 & -0.60625247 &  1.02177388 &  1.57522548 & -0.9284171\\\\\n",
       "\t-Will Clark &  0.02958046 &  0.20323626 & -0.07077358 &  0.44067479 & -0.40516199 & -0.3275647 & -1.31670688 & -0.98380150 & -0.93364185 & -0.708531111 & -0.89137019 & -0.89501295 & -0.85688745 & -1.0567429 &  1.0567429 &  0.9792988 &  2.32657567 & -0.32230680 &  0.36431046 &  1.0730066\\\\\n",
       "\t-Wally Joyner &  1.28545925 &  1.42206403 &  1.18534891 &  1.06714760 &  1.87435164 &  0.7314619 & -1.31670688 & -0.90289475 & -0.84879144 & -0.574707222 & -0.84306080 & -0.71255810 & -0.76978467 &  0.9427059 & -0.9427059 &  0.9792988 &  3.32680939 &  0.13950554 &  0.96976797 & -0.9284171\\\\\n",
       "\t-Willie McGee &  0.63375999 &  0.42484131 & -0.52754540 &  0.40152024 & -0.13471122 & -0.1894308 & -0.48226372 &  0.01987956 &  0.12930227 & -0.453049142 &  0.05368220 & -0.06005007 & -0.46303141 & -1.0567429 &  1.0567429 & -1.0172561 &  0.12248924 & -0.75654825 & -0.84660456 &  1.0730066\\\\\n",
       "\t-Willie Randolph &  0.59981732 &  0.62428585 & -0.75593130 &  0.83222029 & -0.05743957 &  2.4351135 &  0.97801180 &  1.24791287 &  1.21693015 & -0.367888485 &  1.61769861 &  0.37289365 &  2.32804461 &  0.9427059 & -0.9427059 & -1.0172561 &  0.07962208 &  1.80754412 &  1.72658986 & -0.9284171\\\\\n",
       "\t-Wayne Tolleson &  0.48441224 &  0.40268081 & -0.98431721 &  0.24490204 & -0.32789034 &  0.5012388 & -0.27365294 & -0.41876624 & -0.44613772 & -0.757194343 & -0.43545035 & -0.73420528 & -0.43273479 &  0.9427059 & -0.9427059 &  0.9792988 & -0.90632258 & -0.03970522 & -0.24114705 & -0.9284171\\\\\n",
       "\t-Willie Upshaw &  1.14968857 &  0.80156989 & -0.29915949 &  1.18461125 &  0.32891867 &  1.6983993 &  0.14356864 &  0.23635980 &  0.20798174 &  0.337728383 &  0.32844184 &  0.27702754 &  0.27166160 &  0.9427059 & -0.9427059 & -1.0172561 &  3.65545761 &  0.08436377 &  0.51567484 & -0.9284171\\\\\n",
       "\t-Willie Wilson &  1.54342355 &  1.37774302 & -0.29915949 &  0.87137484 & -0.28925452 & -0.4656986 &  0.76940101 &  0.98420059 &  1.13362248 & -0.477380758 &  1.24933953 &  0.08220287 & -0.04266582 &  0.9427059 & -0.9427059 &  0.9792988 &  0.41898709 & -0.79101186 & -0.84660456 & -0.9284171\\\\\n",
       "\\end{tabular}\n"
      ],
      "text/markdown": [
       "\n",
       "A matrix: 263 × 20 of type dbl\n",
       "\n",
       "| <!--/--> | AtBat | Hits | HmRun | Runs | RBI | Walks | Years | CAtBat | CHits | CHmRun | CRuns | CRBI | CWalks | LeagueA | LeagueN | DivisionW | PutOuts | Assists | Errors | NewLeagueN |\n",
       "|---|---|---|---|---|---|---|---|---|---|---|---|---|---|---|---|---|---|---|---|---|\n",
       "| -Alan Ashby | -0.60175321 | -0.594541907 | -0.5275454 | -1.203816332 | -0.52106946 | -0.09734151 |  1.39523337 |  0.34613058 |  0.17404158 | -0.002914243 | -0.12143933 |  0.25847281 |  0.43450593 | -1.0567429 |  1.0567429 |  0.9792988 |  1.21917406 | -0.52219572 |  0.21294608 |  1.0730066 |\n",
       "| -Alvin Davis |  0.51156637 |  0.491322826 |  0.7285771 |  0.440674789 |  0.79254856 |  1.60631004 | -0.89948530 | -0.45200360 | -0.40911209 | -0.075909091 | -0.41431499 | -0.19921055 |  0.01035326 |  0.9427059 | -0.9427059 |  0.9792988 |  2.10509535 | -0.25337958 |  0.81840359 | -0.9284171 |\n",
       "| -Andre Dawson |  0.62697145 |  0.735088378 |  0.9569630 |  0.401520238 |  1.02436351 | -0.18943079 |  0.76940101 |  1.29908093 |  1.31566516 |  1.894951816 |  1.40936438 |  1.56967378 |  0.35497730 | -1.0567429 |  1.0567429 | -1.0172561 | -0.32404367 | -0.74276281 | -0.84660456 |  1.0730066 |\n",
       "| -Andres Galarraga | -0.56102200 | -0.461578879 | -0.1849665 | -0.616498075 | -0.36652617 | -0.51174324 | -1.10809609 | -0.98904951 | -0.95832560 | -0.696365303 | -0.94571825 | -0.87955068 | -0.86067453 | -1.0567429 |  1.0567429 | -1.0172561 |  1.83717561 | -0.54287389 | -0.69524018 |  1.0730066 |\n",
       "| -Alfredo Griffin |  1.29224779 |  1.355582512 | -0.8701243 |  0.753911193 | -0.01880375 | -0.28152006 |  0.76940101 |  0.76553369 |  0.63377648 | -0.611204646 |  0.42204128 |  0.01726131 | -0.25095507 |  0.9427059 | -0.9427059 |  0.9792988 | -0.03111808 |  2.08325298 |  2.48341175 | -0.9284171 |\n",
       "| -Al Newman | -1.48426263 | -1.569604117 | -1.2127031 | -1.242970882 | -1.68014419 | -0.92614497 | -1.10809609 | -1.06864426 | -1.04934694 | -0.830189192 | -1.00006631 | -0.99397151 | -0.89475822 | -1.0567429 |  1.0567429 | -1.0172561 | -0.76700431 |  0.05679288 | -0.24114705 | -0.9284171 |\n",
       "| -Argenis Salazar | -0.71715829 | -0.771825945 | -1.3268961 | -1.203816332 | -1.06197100 | -1.57076988 | -0.89948530 | -0.93963079 | -0.94752646 | -0.842355000 | -0.96685361 | -0.90738277 | -0.94020315 |  0.9427059 | -0.9427059 |  0.9792988 | -0.60625247 |  1.13205742 |  0.06158171 | -0.9284171 |\n",
       "| -Andres Thomas | -0.54744494 | -0.594541907 | -0.6417383 | -1.125507231 | -0.75288441 | -1.52472525 | -1.10809609 | -1.01310287 | -0.98146662 | -0.769360151 | -0.99402764 | -0.91666014 | -0.95535146 | -1.0567429 |  1.0567429 |  0.9792988 | -0.52766267 |  1.18030647 |  1.57522548 |  1.0730066 |\n",
       "| -Andre Thornton | -0.01793928 | -0.350776355 |  0.6143841 | -0.224952570 |  0.56073362 |  1.09981904 |  1.18662259 |  1.11452606 |  0.94078066 |  2.235594442 |  1.27651356 |  1.73048144 |  2.29396091 |  0.9427059 | -0.9427059 | -1.0172561 | -1.03849632 | -0.81858274 | -1.30069770 | -0.9284171 |\n",
       "| -Alan Trammell |  1.15647711 |  1.133977464 |  1.0711560 |  2.046011359 |  0.90845603 |  0.82355122 |  0.56079022 |  0.86305913 |  0.89141315 |  0.252567726 |  1.02892795 |  0.53679377 |  0.86244567 |  0.9427059 | -0.9427059 | -1.0172561 | -0.18829766 |  2.24867830 |  2.02931862 | -0.9284171 |\n",
       "| -Alex Trevino | -1.36885755 | -1.215036041 | -0.8701243 | -0.929734478 | -0.98469935 | -0.64987715 |  0.35217943 | -0.34179549 | -0.39368475 | -0.659867879 | -0.51093376 | -0.44660696 | -0.37592863 | -1.0567429 |  1.0567429 |  0.9792988 |  0.04747171 | -0.50841028 |  0.36431046 |  1.0730066 |\n",
       "| -Andy VanSlyke |  0.09746580 |  0.114594245 |  0.1576123 | -0.264107120 |  0.36755450 |  0.27101558 | -0.69087451 | -0.50098499 | -0.50938984 | -0.343556869 | -0.47168239 | -0.39094277 | -0.21687138 | -1.0567429 |  1.0567429 | -1.0172561 | -0.28474877 | -0.74276281 | -0.24114705 |  1.0730066 |\n",
       "| -Alan Wiggins | -1.11768180 | -1.059912507 | -1.3268961 | -0.968889029 | -1.56423672 | -0.88010033 | -0.27365294 | -0.31336879 | -0.32734716 | -0.793691768 | -0.15767137 | -0.70328073 | -0.20172307 |  0.9427059 | -0.9427059 | -1.0172561 | -0.60625247 |  0.22221819 | -0.39251143 | -0.9284171 |\n",
       "| -Bill Almon | -1.40958876 | -1.436641088 | -0.5275454 | -1.008043579 | -0.94606353 | -0.51174324 |  1.18662259 |  0.25079181 |  0.15861423 | -0.404385909 |  0.04462419 | -0.12499163 | -0.08432367 | -1.0567429 |  1.0567429 | -1.0172561 | -0.75271526 | -0.50841028 | -0.08978267 |  1.0730066 |\n",
       "| -Buddy Bell |  1.11574590 |  1.111816959 |  0.9569630 |  1.341229450 |  0.90845603 |  1.46817613 |  1.60384416 |  2.36617540 |  2.39249389 |  1.310993029 |  2.06456044 |  2.04900432 |  1.78649255 | -1.0567429 |  1.0567429 |  0.9792988 | -0.66340868 |  1.18030647 |  0.21294608 |  1.0730066 |\n",
       "| -Buddy Biancalana | -1.45031996 | -1.370159574 | -1.0985102 | -1.203816332 | -1.68014419 | -1.20241279 | -0.48226372 | -0.95275080 | -0.95678286 | -0.781525959 | -0.89438953 | -0.95067714 | -0.83795206 |  0.9427059 | -0.9427059 |  0.9792988 | -0.67412547 |  0.40142895 |  1.12113235 | -0.9284171 |\n",
       "| -Bruce Bochy | -1.87799761 | -1.680406641 | -0.4133524 | -1.517052736 | -1.13924265 | -1.24845743 |  0.14356864 | -0.84429202 | -0.83644957 | -0.550375606 | -0.88835085 | -0.76822229 | -0.77357175 | -1.0567429 |  1.0567429 |  0.9792988 | -0.31689914 | -0.66694287 | -0.99796894 |  1.0730066 |\n",
       "| -Barry Bonds |  0.06352313 | -0.350776355 |  0.5001912 |  0.675602092 | -0.13471122 |  1.09981904 | -1.31670688 | -0.98161484 | -0.97221021 | -0.647702071 | -0.87325417 | -0.87336577 | -0.73948805 | -1.0567429 |  1.0567429 | -1.0172561 | -0.03826261 | -0.75654825 | -0.54387581 |  1.0730066 |\n",
       "| -Bobby Bonilla |  0.15177407 |  0.025952226 | -0.9843172 |  0.009974733 | -0.32789034 |  0.96168513 | -1.31670688 | -0.97592950 | -0.94598372 | -0.805857576 | -0.92458289 | -0.88882804 | -0.75084929 |  0.9427059 | -0.9427059 |  0.9792988 |  0.25109072 | -0.66694287 | -0.99796894 |  1.0730066 |\n",
       "| -Bob Brenly |  0.46404663 |  0.181075759 |  0.5001912 |  0.205747486 |  0.40619032 |  1.51422077 | -0.27365294 | -0.32080346 | -0.35974458 | -0.027245859 | -0.35996693 | -0.24559738 | -0.07674951 | -1.0567429 |  1.0567429 |  0.9792988 |  0.81193605 | -0.43948306 | -0.84660456 |  1.0730066 |\n",
       "| -Bill Buckner |  1.52984648 |  1.333422007 |  0.7285771 |  0.714756642 |  1.95162329 | -0.05129688 |  2.22967653 |  2.52186623 |  2.68715619 |  1.152837524 |  1.95284499 |  2.29330827 |  0.53675702 |  0.9427059 | -0.9427059 | -1.0172561 |  2.77310858 |  0.26357452 |  0.81840359 | -0.9284171 |\n",
       "| -Brett Butler |  1.24472805 |  1.222619483 | -0.8701243 |  1.458693102 | -0.01880375 |  1.33004222 | -0.27365294 |  0.01638089 |  0.03828093 | -0.635536263 |  0.24390041 | -0.40949750 |  0.21485544 |  0.9427059 | -0.9427059 | -1.0172561 |  0.51186594 | -0.75654825 | -0.84660456 | -0.9284171 |\n",
       "| -Bob Dernier | -0.54065640 | -0.771825945 | -0.8701243 | -0.890579928 | -1.29378595 | -0.88010033 | -0.06504215 | -0.31774213 | -0.35665912 | -0.684199495 | -0.21201943 | -0.68781846 | -0.30397416 | -1.0567429 |  1.0567429 | -1.0172561 | -0.24545388 | -0.79790458 | -0.84660456 |  1.0730066 |\n",
       "| -Bo Diaz |  0.47762370 |  0.469162321 | -0.1849665 | -0.185798019 |  0.17437537 | -0.05129688 |  0.56079022 | -0.14280861 | -0.18233011 | -0.100240708 | -0.34788958 | -0.01057079 | -0.35699324 | -1.0567429 |  1.0567429 |  0.9792988 |  1.57640039 | -0.24648686 |  0.66703922 |  1.0730066 |\n",
       "| -Bill Doran |  0.99355229 |  0.978853931 | -0.6417383 |  1.458693102 | -0.55970529 |  1.83653322 | -0.48226372 | -0.15286729 | -0.13759081 | -0.453049142 | -0.03689790 | -0.45897678 |  0.18077175 | -1.0567429 |  1.0567429 |  0.9792988 | -0.10256335 |  1.44912261 |  1.12113235 |  1.0730066 |\n",
       "| -Brian Downing |  0.74237653 |  0.646446359 |  0.9569630 |  1.380384001 |  1.68117252 |  2.25093495 |  1.39523337 |  1.11233940 |  1.01791739 |  1.177169140 |  1.21310749 |  1.24805844 |  1.98342057 |  0.9427059 | -0.9427059 |  0.9792988 | -0.08470203 | -0.78411914 | -0.84660456 | -0.9284171 |\n",
       "| -Billy Hatcher |  0.10425433 |  0.003791721 | -0.6417383 |  0.009974733 | -0.59834111 | -0.88010033 | -0.89948530 | -0.90376942 | -0.88427434 | -0.745028535 | -0.84909947 | -0.87955068 | -0.86824868 | -1.0567429 |  1.0567429 |  0.9792988 | -0.23116482 | -0.77033369 | -0.69524018 |  1.0730066 |\n",
       "| -Brook Jacoby |  1.21757391 |  1.333422007 |  0.6143841 |  1.106302147 |  1.10163516 |  0.68541731 | -0.48226372 | -0.44238226 | -0.41682576 | -0.307059445 | -0.42941167 | -0.37857295 | -0.47060556 |  0.9427059 | -0.9427059 | -1.0172561 | -0.64911962 |  1.19409192 |  2.48341175 | -0.9284171 |\n",
       "| -Bob Kearney | -1.35528049 | -1.303678060 | -0.6417383 | -1.242970882 | -1.02333518 | -1.34054670 | -0.06504215 | -0.58976375 | -0.63897954 | -0.513878182 | -0.71020999 | -0.61359954 | -0.73570098 |  0.9427059 | -0.9427059 |  0.9792988 |  0.45828199 | -0.50151756 | -0.54387581 | -0.9284171 |\n",
       "| -Bill Madlock | -0.16728703 | -0.040529288 | -0.1849665 | -0.655652625 |  0.32891867 | -0.51174324 |  1.39523337 |  1.55229720 |  1.82631030 |  0.933852978 |  1.50296382 |  1.46143785 |  1.17677309 | -1.0567429 |  1.0567429 |  0.9792988 | -0.78129337 |  0.35317990 |  2.33204737 |  1.0730066 |\n",
       "| ⋮ | ⋮ | ⋮ | ⋮ | ⋮ | ⋮ | ⋮ | ⋮ | ⋮ | ⋮ | ⋮ | ⋮ | ⋮ | ⋮ | ⋮ | ⋮ | ⋮ | ⋮ | ⋮ | ⋮ | ⋮ |\n",
       "| -Tony Fernandez |  1.92358145 |  2.33064472 | -0.18496653 |  1.41953855 |  0.52209779 | -0.6498772 | -0.69087451 | -0.49836099 | -0.42299670 | -0.659867879 | -0.49885642 | -0.59813726 | -0.64859820 |  0.9427059 | -0.9427059 | -1.0172561 |  0.01174908 |  2.24867830 |  0.66703922 | -0.9284171 |\n",
       "| -Tim Flannery | -0.24196091 | -0.10701080 | -0.98431721 | -0.26410712 | -0.90742770 |  0.5933280 |  0.14356864 | -0.33261148 | -0.35357365 | -0.732862727 | -0.46564371 | -0.52082588 | -0.23580676 | -1.0567429 |  1.0567429 |  0.9792988 | -0.29189330 |  0.87702673 | -0.84660456 |  1.0730066 |\n",
       "| -Tom Foley | -0.95475698 | -0.83830746 | -1.21270312 | -1.12550723 | -1.10060683 | -0.5117432 | -0.69087451 | -0.77388128 | -0.77474018 | -0.732862727 | -0.84004146 | -0.76822229 | -0.65995943 | -1.0567429 |  1.0567429 | -1.0172561 | -0.74914300 |  0.19464731 | -0.69524018 |  1.0730066 |\n",
       "| -Tony Gwynn |  1.61809742 |  2.28632371 |  0.27180528 |  2.04601136 |  0.29028285 |  0.5012388 | -0.48226372 | -0.12837659 |  0.07376383 | -0.513878182 | -0.02783989 | -0.31053893 | -0.25474215 | -1.0567429 |  1.0567429 |  0.9792988 |  0.16535640 | -0.68762104 | -0.69524018 |  1.0730066 |\n",
       "| -Terry Harper | -0.94117991 | -0.88262847 | -0.41335244 | -1.12550723 | -0.83015606 | -0.5577879 | -0.06504215 | -0.57751840 | -0.59115477 | -0.453049142 | -0.68303596 | -0.51773343 | -0.50090218 | -1.0567429 |  1.0567429 |  0.9792988 | -0.70984810 | -0.78411914 | -0.84660456 | -0.9284171 |\n",
       "| -Tommy Herr |  1.05464910 |  0.73508838 | -1.09851017 | -0.26410712 |  0.36755450 |  1.4681761 |  0.14356864 |  0.22061578 |  0.23420823 | -0.647702071 |  0.18049434 |  0.05746322 |  0.37391269 | -1.0567429 |  1.0567429 | -1.0172561 |  0.21894035 |  2.03500393 |  0.06158171 |  1.0730066 |\n",
       "| -Tim Hulett |  0.78989627 |  0.26971778 |  0.61438414 | -0.06833437 | -0.28925452 | -0.9261450 | -0.69087451 | -0.75682526 | -0.76394104 | -0.574707222 | -0.77059672 | -0.77440720 | -0.78872006 |  0.9427059 | -0.9427059 |  0.9792988 | -0.78843789 |  0.17396914 |  0.36431046 | -0.9284171 |\n",
       "| -Terry Kennedy | -2.61115928 | -2.30090077 | -1.21270312 | -2.06521644 | -1.87332331 | -1.8470377 | -1.31670688 | -1.15392435 | -1.10797085 | -0.830189192 | -1.08460774 | -1.01252625 | -0.98186100 | -1.0567429 |  1.0567429 |  0.9792988 |  1.43350986 | -0.33609224 | -0.08978267 | -0.9284171 |\n",
       "| -Tito Landrum | -1.34849195 | -1.43664109 | -1.09851017 | -1.20381633 | -1.33242177 | -0.9721896 | -0.06504215 | -0.78875063 | -0.77628292 | -0.696365303 | -0.77361606 | -0.71565055 | -0.71676559 | -1.0567429 |  1.0567429 | -1.0172561 | -0.57052983 | -0.77722641 | -1.14933332 |  1.0730066 |\n",
       "| -Tim Laudner | -1.42995436 | -1.34799907 | -0.18496653 | -1.32127998 | -0.86879188 | -0.7880111 | -0.27365294 | -0.66542250 | -0.71920174 | -0.331391061 | -0.70115198 | -0.59195235 | -0.58421788 |  0.9427059 | -0.9427059 |  0.9792988 |  0.02961040 | -0.72897736 | -0.54387581 | -0.9284171 |\n",
       "| -Tom Paciorek | -1.29418368 | -1.03775200 | -0.87012426 | -1.47789819 | -1.13924265 | -1.7549484 |  2.02106574 |  0.61377886 |  0.65228929 |  0.167407070 |  0.38278990 |  0.49659185 | -0.06160121 |  0.9427059 | -0.9427059 |  0.9792988 | -0.40263346 | -0.50841028 | -0.69524018 | -0.9284171 |\n",
       "| -Tony Pena |  0.72201093 |  0.86805141 | -0.18496653 |  0.04912928 |  0.01983208 |  0.5472834 | -0.06504215 |  0.09378898 |  0.15244329 | -0.075909091 | -0.16371004 |  0.02963113 | -0.32669662 | -1.0567429 |  1.0567429 | -1.0172561 |  1.85503692 | -0.13620332 |  1.42386111 |  1.0730066 |\n",
       "| -Terry Pendleton |  1.18363124 |  0.66860686 | -1.21270312 |  0.04912928 |  0.29028285 | -0.3275647 | -0.89948530 | -0.55040371 | -0.56338555 | -0.757194343 | -0.64076524 | -0.52391834 | -0.65617235 | -1.0567429 |  1.0567429 | -1.0172561 | -0.56338531 |  1.73861691 |  1.72658986 |  1.0730066 |\n",
       "| -Tony Phillips |  0.25360208 |  0.11459425 | -0.75593130 |  0.83222029 |  0.01983208 |  1.6063100 | -0.48226372 | -0.48611564 | -0.50167617 | -0.635536263 | -0.40827632 | -0.56102780 | -0.26231631 |  0.9427059 | -0.9427059 |  0.9792988 | -0.46693420 |  1.18030647 |  0.36431046 | -0.9284171 |\n",
       "| -Terry Puhl | -1.57251358 | -1.45880159 | -0.98431721 | -1.47789819 | -1.44832924 | -1.2024128 |  0.56079022 |  0.62471221 |  0.66000297 | -0.148903940 |  0.65754954 |  0.10075760 |  0.55190533 | -1.0567429 |  1.0567429 |  0.9792988 | -0.80629921 | -0.81858274 | -1.30069770 |  1.0730066 |\n",
       "| -Ted Simmons | -1.87799761 | -1.68040664 | -0.87012426 | -1.59536184 | -1.02333518 | -1.3405467 |  2.43828732 |  2.50962088 |  2.59150665 |  2.101770553 |  2.07361845 |  3.14682589 |  2.11596828 | -1.0567429 |  1.0567429 |  0.9792988 | -0.44192836 | -0.69451376 | -0.39251143 |  1.0730066 |\n",
       "| -Tim Teufel | -0.84614043 | -0.86046796 | -0.87012426 | -0.77311628 | -0.79152023 | -0.4196540 | -0.69087451 | -0.56789706 | -0.56647102 | -0.465214950 | -0.54716580 | -0.56412025 | -0.38728986 | -1.0567429 |  1.0567429 | -1.0172561 | -0.56338531 |  0.37385807 |  0.06158171 |  1.0730066 |\n",
       "| -Tim Wallach |  0.51835491 |  0.09243374 |  0.72857710 | -0.18579802 |  0.75391274 |  0.1328817 | -0.06504215 |  0.16332505 |  0.07530656 |  0.495883888 | -0.07011061 |  0.23373317 | -0.08053659 | -1.0567429 |  1.0567429 | -1.0172561 | -0.70270357 |  1.04245204 |  1.12113235 |  1.0730066 |\n",
       "| -Vince Coleman |  1.33297899 |  0.69076737 | -1.32689607 |  1.53700220 | -0.86879188 |  0.8695959 | -1.10809609 | -0.62168912 | -0.63743681 | -0.830189192 | -0.48375973 | -0.80842421 | -0.56906957 | -1.0567429 |  1.0567429 | -1.0172561 |  0.03318266 | -0.73587009 |  0.06158171 |  1.0730066 |\n",
       "| -Von Hayes |  1.40086433 |  1.73231109 |  0.84277005 |  2.04601136 |  1.79707999 |  1.5142208 | -0.27365294 |  0.03081291 |  0.04753734 | -0.002914243 |  0.11406893 |  0.11003496 |  0.09745604 | -1.0567429 |  1.0567429 | -1.0172561 |  3.18391886 | -0.15688148 |  0.66703922 |  1.0730066 |\n",
       "| -Vance Law | -0.29626918 | -0.59454191 | -0.75593130 | -0.69480718 | -0.28925452 | -0.1894308 | -0.06504215 | -0.17036064 | -0.24095402 | -0.343556869 | -0.24825147 | -0.22704265 | -0.05402705 | -1.0567429 |  1.0567429 | -1.0172561 | -0.43121157 |  1.13895015 | -0.84660456 |  1.0730066 |\n",
       "| -Wally Backman | -0.11297876 |  0.35835980 | -1.21270312 |  0.47982934 | -0.94606353 | -0.2354754 | -0.06504215 | -0.38596620 | -0.33351810 | -0.769360151 | -0.26938683 | -0.63524672 | -0.25095507 | -1.0567429 |  1.0567429 | -1.0172561 | -0.37405535 |  1.18030647 |  1.27249673 |  1.0730066 |\n",
       "| -Wade Boggs |  1.19720831 |  2.19768169 | -0.41335244 |  2.04601136 |  0.75391274 |  2.9416045 | -0.48226372 |  0.05267960 |  0.39465262 | -0.453049142 |  0.34051919 | -0.02603306 |  0.59356318 |  0.9427059 | -0.9427059 | -1.0172561 | -0.60625247 |  1.02177388 |  1.57522548 | -0.9284171 |\n",
       "| -Will Clark |  0.02958046 |  0.20323626 | -0.07077358 |  0.44067479 | -0.40516199 | -0.3275647 | -1.31670688 | -0.98380150 | -0.93364185 | -0.708531111 | -0.89137019 | -0.89501295 | -0.85688745 | -1.0567429 |  1.0567429 |  0.9792988 |  2.32657567 | -0.32230680 |  0.36431046 |  1.0730066 |\n",
       "| -Wally Joyner |  1.28545925 |  1.42206403 |  1.18534891 |  1.06714760 |  1.87435164 |  0.7314619 | -1.31670688 | -0.90289475 | -0.84879144 | -0.574707222 | -0.84306080 | -0.71255810 | -0.76978467 |  0.9427059 | -0.9427059 |  0.9792988 |  3.32680939 |  0.13950554 |  0.96976797 | -0.9284171 |\n",
       "| -Willie McGee |  0.63375999 |  0.42484131 | -0.52754540 |  0.40152024 | -0.13471122 | -0.1894308 | -0.48226372 |  0.01987956 |  0.12930227 | -0.453049142 |  0.05368220 | -0.06005007 | -0.46303141 | -1.0567429 |  1.0567429 | -1.0172561 |  0.12248924 | -0.75654825 | -0.84660456 |  1.0730066 |\n",
       "| -Willie Randolph |  0.59981732 |  0.62428585 | -0.75593130 |  0.83222029 | -0.05743957 |  2.4351135 |  0.97801180 |  1.24791287 |  1.21693015 | -0.367888485 |  1.61769861 |  0.37289365 |  2.32804461 |  0.9427059 | -0.9427059 | -1.0172561 |  0.07962208 |  1.80754412 |  1.72658986 | -0.9284171 |\n",
       "| -Wayne Tolleson |  0.48441224 |  0.40268081 | -0.98431721 |  0.24490204 | -0.32789034 |  0.5012388 | -0.27365294 | -0.41876624 | -0.44613772 | -0.757194343 | -0.43545035 | -0.73420528 | -0.43273479 |  0.9427059 | -0.9427059 |  0.9792988 | -0.90632258 | -0.03970522 | -0.24114705 | -0.9284171 |\n",
       "| -Willie Upshaw |  1.14968857 |  0.80156989 | -0.29915949 |  1.18461125 |  0.32891867 |  1.6983993 |  0.14356864 |  0.23635980 |  0.20798174 |  0.337728383 |  0.32844184 |  0.27702754 |  0.27166160 |  0.9427059 | -0.9427059 | -1.0172561 |  3.65545761 |  0.08436377 |  0.51567484 | -0.9284171 |\n",
       "| -Willie Wilson |  1.54342355 |  1.37774302 | -0.29915949 |  0.87137484 | -0.28925452 | -0.4656986 |  0.76940101 |  0.98420059 |  1.13362248 | -0.477380758 |  1.24933953 |  0.08220287 | -0.04266582 |  0.9427059 | -0.9427059 |  0.9792988 |  0.41898709 | -0.79101186 | -0.84660456 | -0.9284171 |\n",
       "\n"
      ],
      "text/plain": [
       "                  AtBat       Hits         HmRun       Runs         RBI        \n",
       "-Alan Ashby       -0.60175321 -0.594541907 -0.5275454  -1.203816332 -0.52106946\n",
       "-Alvin Davis       0.51156637  0.491322826  0.7285771   0.440674789  0.79254856\n",
       "-Andre Dawson      0.62697145  0.735088378  0.9569630   0.401520238  1.02436351\n",
       "-Andres Galarraga -0.56102200 -0.461578879 -0.1849665  -0.616498075 -0.36652617\n",
       "-Alfredo Griffin   1.29224779  1.355582512 -0.8701243   0.753911193 -0.01880375\n",
       "-Al Newman        -1.48426263 -1.569604117 -1.2127031  -1.242970882 -1.68014419\n",
       "-Argenis Salazar  -0.71715829 -0.771825945 -1.3268961  -1.203816332 -1.06197100\n",
       "-Andres Thomas    -0.54744494 -0.594541907 -0.6417383  -1.125507231 -0.75288441\n",
       "-Andre Thornton   -0.01793928 -0.350776355  0.6143841  -0.224952570  0.56073362\n",
       "-Alan Trammell     1.15647711  1.133977464  1.0711560   2.046011359  0.90845603\n",
       "-Alex Trevino     -1.36885755 -1.215036041 -0.8701243  -0.929734478 -0.98469935\n",
       "-Andy VanSlyke     0.09746580  0.114594245  0.1576123  -0.264107120  0.36755450\n",
       "-Alan Wiggins     -1.11768180 -1.059912507 -1.3268961  -0.968889029 -1.56423672\n",
       "-Bill Almon       -1.40958876 -1.436641088 -0.5275454  -1.008043579 -0.94606353\n",
       "-Buddy Bell        1.11574590  1.111816959  0.9569630   1.341229450  0.90845603\n",
       "-Buddy Biancalana -1.45031996 -1.370159574 -1.0985102  -1.203816332 -1.68014419\n",
       "-Bruce Bochy      -1.87799761 -1.680406641 -0.4133524  -1.517052736 -1.13924265\n",
       "-Barry Bonds       0.06352313 -0.350776355  0.5001912   0.675602092 -0.13471122\n",
       "-Bobby Bonilla     0.15177407  0.025952226 -0.9843172   0.009974733 -0.32789034\n",
       "-Bob Brenly        0.46404663  0.181075759  0.5001912   0.205747486  0.40619032\n",
       "-Bill Buckner      1.52984648  1.333422007  0.7285771   0.714756642  1.95162329\n",
       "-Brett Butler      1.24472805  1.222619483 -0.8701243   1.458693102 -0.01880375\n",
       "-Bob Dernier      -0.54065640 -0.771825945 -0.8701243  -0.890579928 -1.29378595\n",
       "-Bo Diaz           0.47762370  0.469162321 -0.1849665  -0.185798019  0.17437537\n",
       "-Bill Doran        0.99355229  0.978853931 -0.6417383   1.458693102 -0.55970529\n",
       "-Brian Downing     0.74237653  0.646446359  0.9569630   1.380384001  1.68117252\n",
       "-Billy Hatcher     0.10425433  0.003791721 -0.6417383   0.009974733 -0.59834111\n",
       "-Brook Jacoby      1.21757391  1.333422007  0.6143841   1.106302147  1.10163516\n",
       "-Bob Kearney      -1.35528049 -1.303678060 -0.6417383  -1.242970882 -1.02333518\n",
       "-Bill Madlock     -0.16728703 -0.040529288 -0.1849665  -0.655652625  0.32891867\n",
       "⋮                 ⋮           ⋮            ⋮           ⋮            ⋮          \n",
       "-Tony Fernandez    1.92358145  2.33064472  -0.18496653  1.41953855   0.52209779\n",
       "-Tim Flannery     -0.24196091 -0.10701080  -0.98431721 -0.26410712  -0.90742770\n",
       "-Tom Foley        -0.95475698 -0.83830746  -1.21270312 -1.12550723  -1.10060683\n",
       "-Tony Gwynn        1.61809742  2.28632371   0.27180528  2.04601136   0.29028285\n",
       "-Terry Harper     -0.94117991 -0.88262847  -0.41335244 -1.12550723  -0.83015606\n",
       "-Tommy Herr        1.05464910  0.73508838  -1.09851017 -0.26410712   0.36755450\n",
       "-Tim Hulett        0.78989627  0.26971778   0.61438414 -0.06833437  -0.28925452\n",
       "-Terry Kennedy    -2.61115928 -2.30090077  -1.21270312 -2.06521644  -1.87332331\n",
       "-Tito Landrum     -1.34849195 -1.43664109  -1.09851017 -1.20381633  -1.33242177\n",
       "-Tim Laudner      -1.42995436 -1.34799907  -0.18496653 -1.32127998  -0.86879188\n",
       "-Tom Paciorek     -1.29418368 -1.03775200  -0.87012426 -1.47789819  -1.13924265\n",
       "-Tony Pena         0.72201093  0.86805141  -0.18496653  0.04912928   0.01983208\n",
       "-Terry Pendleton   1.18363124  0.66860686  -1.21270312  0.04912928   0.29028285\n",
       "-Tony Phillips     0.25360208  0.11459425  -0.75593130  0.83222029   0.01983208\n",
       "-Terry Puhl       -1.57251358 -1.45880159  -0.98431721 -1.47789819  -1.44832924\n",
       "-Ted Simmons      -1.87799761 -1.68040664  -0.87012426 -1.59536184  -1.02333518\n",
       "-Tim Teufel       -0.84614043 -0.86046796  -0.87012426 -0.77311628  -0.79152023\n",
       "-Tim Wallach       0.51835491  0.09243374   0.72857710 -0.18579802   0.75391274\n",
       "-Vince Coleman     1.33297899  0.69076737  -1.32689607  1.53700220  -0.86879188\n",
       "-Von Hayes         1.40086433  1.73231109   0.84277005  2.04601136   1.79707999\n",
       "-Vance Law        -0.29626918 -0.59454191  -0.75593130 -0.69480718  -0.28925452\n",
       "-Wally Backman    -0.11297876  0.35835980  -1.21270312  0.47982934  -0.94606353\n",
       "-Wade Boggs        1.19720831  2.19768169  -0.41335244  2.04601136   0.75391274\n",
       "-Will Clark        0.02958046  0.20323626  -0.07077358  0.44067479  -0.40516199\n",
       "-Wally Joyner      1.28545925  1.42206403   1.18534891  1.06714760   1.87435164\n",
       "-Willie McGee      0.63375999  0.42484131  -0.52754540  0.40152024  -0.13471122\n",
       "-Willie Randolph   0.59981732  0.62428585  -0.75593130  0.83222029  -0.05743957\n",
       "-Wayne Tolleson    0.48441224  0.40268081  -0.98431721  0.24490204  -0.32789034\n",
       "-Willie Upshaw     1.14968857  0.80156989  -0.29915949  1.18461125   0.32891867\n",
       "-Willie Wilson     1.54342355  1.37774302  -0.29915949  0.87137484  -0.28925452\n",
       "                  Walks       Years       CAtBat      CHits       CHmRun      \n",
       "-Alan Ashby       -0.09734151  1.39523337  0.34613058  0.17404158 -0.002914243\n",
       "-Alvin Davis       1.60631004 -0.89948530 -0.45200360 -0.40911209 -0.075909091\n",
       "-Andre Dawson     -0.18943079  0.76940101  1.29908093  1.31566516  1.894951816\n",
       "-Andres Galarraga -0.51174324 -1.10809609 -0.98904951 -0.95832560 -0.696365303\n",
       "-Alfredo Griffin  -0.28152006  0.76940101  0.76553369  0.63377648 -0.611204646\n",
       "-Al Newman        -0.92614497 -1.10809609 -1.06864426 -1.04934694 -0.830189192\n",
       "-Argenis Salazar  -1.57076988 -0.89948530 -0.93963079 -0.94752646 -0.842355000\n",
       "-Andres Thomas    -1.52472525 -1.10809609 -1.01310287 -0.98146662 -0.769360151\n",
       "-Andre Thornton    1.09981904  1.18662259  1.11452606  0.94078066  2.235594442\n",
       "-Alan Trammell     0.82355122  0.56079022  0.86305913  0.89141315  0.252567726\n",
       "-Alex Trevino     -0.64987715  0.35217943 -0.34179549 -0.39368475 -0.659867879\n",
       "-Andy VanSlyke     0.27101558 -0.69087451 -0.50098499 -0.50938984 -0.343556869\n",
       "-Alan Wiggins     -0.88010033 -0.27365294 -0.31336879 -0.32734716 -0.793691768\n",
       "-Bill Almon       -0.51174324  1.18662259  0.25079181  0.15861423 -0.404385909\n",
       "-Buddy Bell        1.46817613  1.60384416  2.36617540  2.39249389  1.310993029\n",
       "-Buddy Biancalana -1.20241279 -0.48226372 -0.95275080 -0.95678286 -0.781525959\n",
       "-Bruce Bochy      -1.24845743  0.14356864 -0.84429202 -0.83644957 -0.550375606\n",
       "-Barry Bonds       1.09981904 -1.31670688 -0.98161484 -0.97221021 -0.647702071\n",
       "-Bobby Bonilla     0.96168513 -1.31670688 -0.97592950 -0.94598372 -0.805857576\n",
       "-Bob Brenly        1.51422077 -0.27365294 -0.32080346 -0.35974458 -0.027245859\n",
       "-Bill Buckner     -0.05129688  2.22967653  2.52186623  2.68715619  1.152837524\n",
       "-Brett Butler      1.33004222 -0.27365294  0.01638089  0.03828093 -0.635536263\n",
       "-Bob Dernier      -0.88010033 -0.06504215 -0.31774213 -0.35665912 -0.684199495\n",
       "-Bo Diaz          -0.05129688  0.56079022 -0.14280861 -0.18233011 -0.100240708\n",
       "-Bill Doran        1.83653322 -0.48226372 -0.15286729 -0.13759081 -0.453049142\n",
       "-Brian Downing     2.25093495  1.39523337  1.11233940  1.01791739  1.177169140\n",
       "-Billy Hatcher    -0.88010033 -0.89948530 -0.90376942 -0.88427434 -0.745028535\n",
       "-Brook Jacoby      0.68541731 -0.48226372 -0.44238226 -0.41682576 -0.307059445\n",
       "-Bob Kearney      -1.34054670 -0.06504215 -0.58976375 -0.63897954 -0.513878182\n",
       "-Bill Madlock     -0.51174324  1.39523337  1.55229720  1.82631030  0.933852978\n",
       "⋮                 ⋮           ⋮           ⋮           ⋮           ⋮           \n",
       "-Tony Fernandez   -0.6498772  -0.69087451 -0.49836099 -0.42299670 -0.659867879\n",
       "-Tim Flannery      0.5933280   0.14356864 -0.33261148 -0.35357365 -0.732862727\n",
       "-Tom Foley        -0.5117432  -0.69087451 -0.77388128 -0.77474018 -0.732862727\n",
       "-Tony Gwynn        0.5012388  -0.48226372 -0.12837659  0.07376383 -0.513878182\n",
       "-Terry Harper     -0.5577879  -0.06504215 -0.57751840 -0.59115477 -0.453049142\n",
       "-Tommy Herr        1.4681761   0.14356864  0.22061578  0.23420823 -0.647702071\n",
       "-Tim Hulett       -0.9261450  -0.69087451 -0.75682526 -0.76394104 -0.574707222\n",
       "-Terry Kennedy    -1.8470377  -1.31670688 -1.15392435 -1.10797085 -0.830189192\n",
       "-Tito Landrum     -0.9721896  -0.06504215 -0.78875063 -0.77628292 -0.696365303\n",
       "-Tim Laudner      -0.7880111  -0.27365294 -0.66542250 -0.71920174 -0.331391061\n",
       "-Tom Paciorek     -1.7549484   2.02106574  0.61377886  0.65228929  0.167407070\n",
       "-Tony Pena         0.5472834  -0.06504215  0.09378898  0.15244329 -0.075909091\n",
       "-Terry Pendleton  -0.3275647  -0.89948530 -0.55040371 -0.56338555 -0.757194343\n",
       "-Tony Phillips     1.6063100  -0.48226372 -0.48611564 -0.50167617 -0.635536263\n",
       "-Terry Puhl       -1.2024128   0.56079022  0.62471221  0.66000297 -0.148903940\n",
       "-Ted Simmons      -1.3405467   2.43828732  2.50962088  2.59150665  2.101770553\n",
       "-Tim Teufel       -0.4196540  -0.69087451 -0.56789706 -0.56647102 -0.465214950\n",
       "-Tim Wallach       0.1328817  -0.06504215  0.16332505  0.07530656  0.495883888\n",
       "-Vince Coleman     0.8695959  -1.10809609 -0.62168912 -0.63743681 -0.830189192\n",
       "-Von Hayes         1.5142208  -0.27365294  0.03081291  0.04753734 -0.002914243\n",
       "-Vance Law        -0.1894308  -0.06504215 -0.17036064 -0.24095402 -0.343556869\n",
       "-Wally Backman    -0.2354754  -0.06504215 -0.38596620 -0.33351810 -0.769360151\n",
       "-Wade Boggs        2.9416045  -0.48226372  0.05267960  0.39465262 -0.453049142\n",
       "-Will Clark       -0.3275647  -1.31670688 -0.98380150 -0.93364185 -0.708531111\n",
       "-Wally Joyner      0.7314619  -1.31670688 -0.90289475 -0.84879144 -0.574707222\n",
       "-Willie McGee     -0.1894308  -0.48226372  0.01987956  0.12930227 -0.453049142\n",
       "-Willie Randolph   2.4351135   0.97801180  1.24791287  1.21693015 -0.367888485\n",
       "-Wayne Tolleson    0.5012388  -0.27365294 -0.41876624 -0.44613772 -0.757194343\n",
       "-Willie Upshaw     1.6983993   0.14356864  0.23635980  0.20798174  0.337728383\n",
       "-Willie Wilson    -0.4656986   0.76940101  0.98420059  1.13362248 -0.477380758\n",
       "                  CRuns       CRBI        CWalks      LeagueA    LeagueN   \n",
       "-Alan Ashby       -0.12143933  0.25847281  0.43450593 -1.0567429  1.0567429\n",
       "-Alvin Davis      -0.41431499 -0.19921055  0.01035326  0.9427059 -0.9427059\n",
       "-Andre Dawson      1.40936438  1.56967378  0.35497730 -1.0567429  1.0567429\n",
       "-Andres Galarraga -0.94571825 -0.87955068 -0.86067453 -1.0567429  1.0567429\n",
       "-Alfredo Griffin   0.42204128  0.01726131 -0.25095507  0.9427059 -0.9427059\n",
       "-Al Newman        -1.00006631 -0.99397151 -0.89475822 -1.0567429  1.0567429\n",
       "-Argenis Salazar  -0.96685361 -0.90738277 -0.94020315  0.9427059 -0.9427059\n",
       "-Andres Thomas    -0.99402764 -0.91666014 -0.95535146 -1.0567429  1.0567429\n",
       "-Andre Thornton    1.27651356  1.73048144  2.29396091  0.9427059 -0.9427059\n",
       "-Alan Trammell     1.02892795  0.53679377  0.86244567  0.9427059 -0.9427059\n",
       "-Alex Trevino     -0.51093376 -0.44660696 -0.37592863 -1.0567429  1.0567429\n",
       "-Andy VanSlyke    -0.47168239 -0.39094277 -0.21687138 -1.0567429  1.0567429\n",
       "-Alan Wiggins     -0.15767137 -0.70328073 -0.20172307  0.9427059 -0.9427059\n",
       "-Bill Almon        0.04462419 -0.12499163 -0.08432367 -1.0567429  1.0567429\n",
       "-Buddy Bell        2.06456044  2.04900432  1.78649255 -1.0567429  1.0567429\n",
       "-Buddy Biancalana -0.89438953 -0.95067714 -0.83795206  0.9427059 -0.9427059\n",
       "-Bruce Bochy      -0.88835085 -0.76822229 -0.77357175 -1.0567429  1.0567429\n",
       "-Barry Bonds      -0.87325417 -0.87336577 -0.73948805 -1.0567429  1.0567429\n",
       "-Bobby Bonilla    -0.92458289 -0.88882804 -0.75084929  0.9427059 -0.9427059\n",
       "-Bob Brenly       -0.35996693 -0.24559738 -0.07674951 -1.0567429  1.0567429\n",
       "-Bill Buckner      1.95284499  2.29330827  0.53675702  0.9427059 -0.9427059\n",
       "-Brett Butler      0.24390041 -0.40949750  0.21485544  0.9427059 -0.9427059\n",
       "-Bob Dernier      -0.21201943 -0.68781846 -0.30397416 -1.0567429  1.0567429\n",
       "-Bo Diaz          -0.34788958 -0.01057079 -0.35699324 -1.0567429  1.0567429\n",
       "-Bill Doran       -0.03689790 -0.45897678  0.18077175 -1.0567429  1.0567429\n",
       "-Brian Downing     1.21310749  1.24805844  1.98342057  0.9427059 -0.9427059\n",
       "-Billy Hatcher    -0.84909947 -0.87955068 -0.86824868 -1.0567429  1.0567429\n",
       "-Brook Jacoby     -0.42941167 -0.37857295 -0.47060556  0.9427059 -0.9427059\n",
       "-Bob Kearney      -0.71020999 -0.61359954 -0.73570098  0.9427059 -0.9427059\n",
       "-Bill Madlock      1.50296382  1.46143785  1.17677309 -1.0567429  1.0567429\n",
       "⋮                 ⋮           ⋮           ⋮           ⋮          ⋮         \n",
       "-Tony Fernandez   -0.49885642 -0.59813726 -0.64859820  0.9427059 -0.9427059\n",
       "-Tim Flannery     -0.46564371 -0.52082588 -0.23580676 -1.0567429  1.0567429\n",
       "-Tom Foley        -0.84004146 -0.76822229 -0.65995943 -1.0567429  1.0567429\n",
       "-Tony Gwynn       -0.02783989 -0.31053893 -0.25474215 -1.0567429  1.0567429\n",
       "-Terry Harper     -0.68303596 -0.51773343 -0.50090218 -1.0567429  1.0567429\n",
       "-Tommy Herr        0.18049434  0.05746322  0.37391269 -1.0567429  1.0567429\n",
       "-Tim Hulett       -0.77059672 -0.77440720 -0.78872006  0.9427059 -0.9427059\n",
       "-Terry Kennedy    -1.08460774 -1.01252625 -0.98186100 -1.0567429  1.0567429\n",
       "-Tito Landrum     -0.77361606 -0.71565055 -0.71676559 -1.0567429  1.0567429\n",
       "-Tim Laudner      -0.70115198 -0.59195235 -0.58421788  0.9427059 -0.9427059\n",
       "-Tom Paciorek      0.38278990  0.49659185 -0.06160121  0.9427059 -0.9427059\n",
       "-Tony Pena        -0.16371004  0.02963113 -0.32669662 -1.0567429  1.0567429\n",
       "-Terry Pendleton  -0.64076524 -0.52391834 -0.65617235 -1.0567429  1.0567429\n",
       "-Tony Phillips    -0.40827632 -0.56102780 -0.26231631  0.9427059 -0.9427059\n",
       "-Terry Puhl        0.65754954  0.10075760  0.55190533 -1.0567429  1.0567429\n",
       "-Ted Simmons       2.07361845  3.14682589  2.11596828 -1.0567429  1.0567429\n",
       "-Tim Teufel       -0.54716580 -0.56412025 -0.38728986 -1.0567429  1.0567429\n",
       "-Tim Wallach      -0.07011061  0.23373317 -0.08053659 -1.0567429  1.0567429\n",
       "-Vince Coleman    -0.48375973 -0.80842421 -0.56906957 -1.0567429  1.0567429\n",
       "-Von Hayes         0.11406893  0.11003496  0.09745604 -1.0567429  1.0567429\n",
       "-Vance Law        -0.24825147 -0.22704265 -0.05402705 -1.0567429  1.0567429\n",
       "-Wally Backman    -0.26938683 -0.63524672 -0.25095507 -1.0567429  1.0567429\n",
       "-Wade Boggs        0.34051919 -0.02603306  0.59356318  0.9427059 -0.9427059\n",
       "-Will Clark       -0.89137019 -0.89501295 -0.85688745 -1.0567429  1.0567429\n",
       "-Wally Joyner     -0.84306080 -0.71255810 -0.76978467  0.9427059 -0.9427059\n",
       "-Willie McGee      0.05368220 -0.06005007 -0.46303141 -1.0567429  1.0567429\n",
       "-Willie Randolph   1.61769861  0.37289365  2.32804461  0.9427059 -0.9427059\n",
       "-Wayne Tolleson   -0.43545035 -0.73420528 -0.43273479  0.9427059 -0.9427059\n",
       "-Willie Upshaw     0.32844184  0.27702754  0.27166160  0.9427059 -0.9427059\n",
       "-Willie Wilson     1.24933953  0.08220287 -0.04266582  0.9427059 -0.9427059\n",
       "                  DivisionW  PutOuts     Assists     Errors      NewLeagueN\n",
       "-Alan Ashby        0.9792988  1.21917406 -0.52219572  0.21294608  1.0730066\n",
       "-Alvin Davis       0.9792988  2.10509535 -0.25337958  0.81840359 -0.9284171\n",
       "-Andre Dawson     -1.0172561 -0.32404367 -0.74276281 -0.84660456  1.0730066\n",
       "-Andres Galarraga -1.0172561  1.83717561 -0.54287389 -0.69524018  1.0730066\n",
       "-Alfredo Griffin   0.9792988 -0.03111808  2.08325298  2.48341175 -0.9284171\n",
       "-Al Newman        -1.0172561 -0.76700431  0.05679288 -0.24114705 -0.9284171\n",
       "-Argenis Salazar   0.9792988 -0.60625247  1.13205742  0.06158171 -0.9284171\n",
       "-Andres Thomas     0.9792988 -0.52766267  1.18030647  1.57522548  1.0730066\n",
       "-Andre Thornton   -1.0172561 -1.03849632 -0.81858274 -1.30069770 -0.9284171\n",
       "-Alan Trammell    -1.0172561 -0.18829766  2.24867830  2.02931862 -0.9284171\n",
       "-Alex Trevino      0.9792988  0.04747171 -0.50841028  0.36431046  1.0730066\n",
       "-Andy VanSlyke    -1.0172561 -0.28474877 -0.74276281 -0.24114705  1.0730066\n",
       "-Alan Wiggins     -1.0172561 -0.60625247  0.22221819 -0.39251143 -0.9284171\n",
       "-Bill Almon       -1.0172561 -0.75271526 -0.50841028 -0.08978267  1.0730066\n",
       "-Buddy Bell        0.9792988 -0.66340868  1.18030647  0.21294608  1.0730066\n",
       "-Buddy Biancalana  0.9792988 -0.67412547  0.40142895  1.12113235 -0.9284171\n",
       "-Bruce Bochy       0.9792988 -0.31689914 -0.66694287 -0.99796894  1.0730066\n",
       "-Barry Bonds      -1.0172561 -0.03826261 -0.75654825 -0.54387581  1.0730066\n",
       "-Bobby Bonilla     0.9792988  0.25109072 -0.66694287 -0.99796894  1.0730066\n",
       "-Bob Brenly        0.9792988  0.81193605 -0.43948306 -0.84660456  1.0730066\n",
       "-Bill Buckner     -1.0172561  2.77310858  0.26357452  0.81840359 -0.9284171\n",
       "-Brett Butler     -1.0172561  0.51186594 -0.75654825 -0.84660456 -0.9284171\n",
       "-Bob Dernier      -1.0172561 -0.24545388 -0.79790458 -0.84660456  1.0730066\n",
       "-Bo Diaz           0.9792988  1.57640039 -0.24648686  0.66703922  1.0730066\n",
       "-Bill Doran        0.9792988 -0.10256335  1.44912261  1.12113235  1.0730066\n",
       "-Brian Downing     0.9792988 -0.08470203 -0.78411914 -0.84660456 -0.9284171\n",
       "-Billy Hatcher     0.9792988 -0.23116482 -0.77033369 -0.69524018  1.0730066\n",
       "-Brook Jacoby     -1.0172561 -0.64911962  1.19409192  2.48341175 -0.9284171\n",
       "-Bob Kearney       0.9792988  0.45828199 -0.50151756 -0.54387581 -0.9284171\n",
       "-Bill Madlock      0.9792988 -0.78129337  0.35317990  2.33204737  1.0730066\n",
       "⋮                 ⋮          ⋮           ⋮           ⋮           ⋮         \n",
       "-Tony Fernandez   -1.0172561  0.01174908  2.24867830  0.66703922 -0.9284171\n",
       "-Tim Flannery      0.9792988 -0.29189330  0.87702673 -0.84660456  1.0730066\n",
       "-Tom Foley        -1.0172561 -0.74914300  0.19464731 -0.69524018  1.0730066\n",
       "-Tony Gwynn        0.9792988  0.16535640 -0.68762104 -0.69524018  1.0730066\n",
       "-Terry Harper      0.9792988 -0.70984810 -0.78411914 -0.84660456 -0.9284171\n",
       "-Tommy Herr       -1.0172561  0.21894035  2.03500393  0.06158171  1.0730066\n",
       "-Tim Hulett        0.9792988 -0.78843789  0.17396914  0.36431046 -0.9284171\n",
       "-Terry Kennedy     0.9792988  1.43350986 -0.33609224 -0.08978267 -0.9284171\n",
       "-Tito Landrum     -1.0172561 -0.57052983 -0.77722641 -1.14933332  1.0730066\n",
       "-Tim Laudner       0.9792988  0.02961040 -0.72897736 -0.54387581 -0.9284171\n",
       "-Tom Paciorek      0.9792988 -0.40263346 -0.50841028 -0.69524018 -0.9284171\n",
       "-Tony Pena        -1.0172561  1.85503692 -0.13620332  1.42386111  1.0730066\n",
       "-Terry Pendleton  -1.0172561 -0.56338531  1.73861691  1.72658986  1.0730066\n",
       "-Tony Phillips     0.9792988 -0.46693420  1.18030647  0.36431046 -0.9284171\n",
       "-Terry Puhl        0.9792988 -0.80629921 -0.81858274 -1.30069770  1.0730066\n",
       "-Ted Simmons       0.9792988 -0.44192836 -0.69451376 -0.39251143  1.0730066\n",
       "-Tim Teufel       -1.0172561 -0.56338531  0.37385807  0.06158171  1.0730066\n",
       "-Tim Wallach      -1.0172561 -0.70270357  1.04245204  1.12113235  1.0730066\n",
       "-Vince Coleman    -1.0172561  0.03318266 -0.73587009  0.06158171  1.0730066\n",
       "-Von Hayes        -1.0172561  3.18391886 -0.15688148  0.66703922  1.0730066\n",
       "-Vance Law        -1.0172561 -0.43121157  1.13895015 -0.84660456  1.0730066\n",
       "-Wally Backman    -1.0172561 -0.37405535  1.18030647  1.27249673  1.0730066\n",
       "-Wade Boggs       -1.0172561 -0.60625247  1.02177388  1.57522548 -0.9284171\n",
       "-Will Clark        0.9792988  2.32657567 -0.32230680  0.36431046  1.0730066\n",
       "-Wally Joyner      0.9792988  3.32680939  0.13950554  0.96976797 -0.9284171\n",
       "-Willie McGee     -1.0172561  0.12248924 -0.75654825 -0.84660456  1.0730066\n",
       "-Willie Randolph  -1.0172561  0.07962208  1.80754412  1.72658986 -0.9284171\n",
       "-Wayne Tolleson    0.9792988 -0.90632258 -0.03970522 -0.24114705 -0.9284171\n",
       "-Willie Upshaw    -1.0172561  3.65545761  0.08436377  0.51567484 -0.9284171\n",
       "-Willie Wilson     0.9792988  0.41898709 -0.79101186 -0.84660456 -0.9284171"
      ]
     },
     "metadata": {},
     "output_type": "display_data"
    }
   ],
   "source": [
    "x <- scale(model.matrix(Salary ~ . -1, data = Gitters))\n",
    "x"
   ]
  },
  {
   "cell_type": "code",
   "execution_count": 9,
   "id": "8b15e31f",
   "metadata": {},
   "outputs": [],
   "source": [
    "y <- Gitters$Salary"
   ]
  },
  {
   "cell_type": "code",
   "execution_count": 10,
   "id": "5e2c48a3",
   "metadata": {},
   "outputs": [],
   "source": [
    "cvfit <- cv.glmnet(x[-testid, ], y[-testid],\n",
    "type.measure = \"mae\")"
   ]
  },
  {
   "cell_type": "code",
   "execution_count": 11,
   "id": "a7cec2d4",
   "metadata": {},
   "outputs": [
    {
     "data": {
      "text/plain": [
       "\n",
       "Call:  cv.glmnet(x = x[-testid, ], y = y[-testid], type.measure = \"mae\") \n",
       "\n",
       "Measure: Mean Absolute Error \n",
       "\n",
       "    Lambda Index Measure    SE Nonzero\n",
       "min   6.25    39   236.6 29.74      13\n",
       "1se  70.18    13   264.7 26.31       6"
      ]
     },
     "metadata": {},
     "output_type": "display_data"
    }
   ],
   "source": [
    "cvfit"
   ]
  },
  {
   "cell_type": "code",
   "execution_count": 12,
   "id": "699c4168",
   "metadata": {},
   "outputs": [],
   "source": [
    "cpred <- predict(cvfit, x[testid, ], s = \"lambda.min\")"
   ]
  },
  {
   "cell_type": "code",
   "execution_count": 13,
   "id": "693426ca",
   "metadata": {},
   "outputs": [
    {
     "data": {
      "text/html": [
       "252.299368267613"
      ],
      "text/latex": [
       "252.299368267613"
      ],
      "text/markdown": [
       "252.299368267613"
      ],
      "text/plain": [
       "[1] 252.2994"
      ]
     },
     "metadata": {},
     "output_type": "display_data"
    }
   ],
   "source": [
    "mean(abs(y[testid] - cpred))"
   ]
  },
  {
   "cell_type": "markdown",
   "id": "f077db4a",
   "metadata": {},
   "source": [
    "## Fit a neural network"
   ]
  },
  {
   "cell_type": "markdown",
   "id": "49840241",
   "metadata": {},
   "source": [
    "To fit the neural network, we first set up a model structure that describes the network."
   ]
  },
  {
   "cell_type": "code",
   "execution_count": 14,
   "id": "ee3a23fc",
   "metadata": {},
   "outputs": [],
   "source": [
    "#install.packages('keras')\n",
    "library(keras)"
   ]
  },
  {
   "cell_type": "code",
   "execution_count": 15,
   "id": "6151f8fc",
   "metadata": {},
   "outputs": [],
   "source": [
    "modnn <- keras_model_sequential() %>%\n",
    "layer_dense(units = 50, activation = \"relu\", input_shape = ncol(x)) %>%\n",
    "layer_dropout(rate = 0.4) %>% \n",
    "layer_dense(units = 1)"
   ]
  },
  {
   "cell_type": "markdown",
   "id": "291ee25b",
   "metadata": {},
   "source": [
    "We have created a vanilla model object called *modnn*, and have added details about the successive layers in a sequential manner, using the function keras model *sequential( )*. The pipe operator %>% passes the previous term as the first argument to the next function, and returns the result. It allows us to specify the layers of a neural network in a readable form."
   ]
  },
  {
   "cell_type": "code",
   "execution_count": 16,
   "id": "9c851fc9",
   "metadata": {},
   "outputs": [
    {
     "data": {
      "text/plain": [
       "Model: \"sequential\"\n",
       "________________________________________________________________________________\n",
       " Layer (type)                       Output Shape                    Param #     \n",
       "================================================================================\n",
       " dense_1 (Dense)                    (None, 50)                      1050        \n",
       " dropout (Dropout)                  (None, 50)                      0           \n",
       " dense (Dense)                      (None, 1)                       51          \n",
       "================================================================================\n",
       "Total params: 1101 (4.30 KB)\n",
       "Trainable params: 1101 (4.30 KB)\n",
       "Non-trainable params: 0 (0.00 Byte)\n",
       "________________________________________________________________________________"
      ]
     },
     "metadata": {},
     "output_type": "display_data"
    }
   ],
   "source": [
    "modnn"
   ]
  },
  {
   "cell_type": "markdown",
   "id": "012f3ad4",
   "metadata": {},
   "source": [
    "The object *modnn* has a single hidden layer with 50 hidden units, and a ReLU activation function. It then has a dropout layer, in which a random 40% of the 50 activations from the previous layer are set to zero during each iteration of the stochastic gradient descent algorithm. Finally, the output layer has just one unit with no activation function, indicating that the model provides a single quantitative\n",
    "output."
   ]
  },
  {
   "cell_type": "code",
   "execution_count": 17,
   "id": "e0d023a2",
   "metadata": {},
   "outputs": [],
   "source": [
    "x <- model.matrix(Salary ~ . - 1, data = Gitters) %>% scale()"
   ]
  },
  {
   "cell_type": "code",
   "execution_count": 18,
   "id": "860d12bf",
   "metadata": {},
   "outputs": [],
   "source": [
    " modnn %>% compile(loss = \"mse\",optimizer = optimizer_rmsprop(),\n",
    "metrics = list(\"mean_absolute_error\") )"
   ]
  },
  {
   "cell_type": "markdown",
   "id": "a5ed0fac",
   "metadata": {},
   "source": [
    "Now we fit the model. We supply the training data and two fitting parameters, epochs and batch size. Using 32 for the latter means that at each step of SGD, the algorithm randomly selects 32 training observations for the computation of the gradient. Recall from Sections 10.4 and 10.7 that an epoch amounts to the number of SGD steps required to process $n$ observations. Since the training set has $n = 176$, an epoch is 176/32 = 5.5 SGD steps. The fit() function has an argument validation data; these data are not used in the fitting, but can be used to track the progress of the model (in this case reporting the mean absolute error)."
   ]
  },
  {
   "cell_type": "code",
   "execution_count": 19,
   "id": "32ece413",
   "metadata": {},
   "outputs": [],
   "source": [
    " history <- modnn %>% fit(\n",
    "x[-testid, ], y[-testid], epochs = 1500, batch_size = 32, validation_data = list(x[testid, ], y[testid]))"
   ]
  },
  {
   "cell_type": "code",
   "execution_count": 20,
   "id": "29150f75",
   "metadata": {},
   "outputs": [
    {
     "data": {
      "image/png": "[encoded data removed]",
      "text/plain": [
       "plot without title"
      ]
     },
     "metadata": {
      "image/png": {
       "height": 420,
       "width": 420
      }
     },
     "output_type": "display_data"
    }
   ],
   "source": [
    "plot(history)"
   ]
  },
  {
   "cell_type": "markdown",
   "id": "f73d0623",
   "metadata": {},
   "source": [
    "Finally, we predict from the final model, and evaluate its performance on the test data. Due to the use of SGD, the results vary slightly with each fit. Unfortunately the set.seed() function does not ensure identical results (since the fitting is done in python), so your results will differ slightly.\n"
   ]
  },
  {
   "cell_type": "code",
   "execution_count": 21,
   "id": "c9e48f63",
   "metadata": {},
   "outputs": [
    {
     "data": {
      "text/html": [
       "252.689490498861"
      ],
      "text/latex": [
       "252.689490498861"
      ],
      "text/markdown": [
       "252.689490498861"
      ],
      "text/plain": [
       "[1] 252.6895"
      ]
     },
     "metadata": {},
     "output_type": "display_data"
    }
   ],
   "source": [
    "npred <- predict(modnn, x[testid, ])\n",
    "mean(abs(y[testid] - npred))"
   ]
  },
  {
   "cell_type": "markdown",
   "id": "c08a501c",
   "metadata": {},
   "source": [
    "## 10.9.2 A Multilayer Network on the MNIST Digit Data\n",
    "The keras package comes with a number of example datasets, including the MNIST digit data. Our first step is to load the MNIST data. The dataset *mnist()* function is provided for this purpose."
   ]
  },
  {
   "cell_type": "code",
   "execution_count": 22,
   "id": "dce2d30c",
   "metadata": {},
   "outputs": [],
   "source": [
    "mnist <- dataset_mnist()"
   ]
  },
  {
   "cell_type": "code",
   "execution_count": 23,
   "id": "a9e4b34e",
   "metadata": {},
   "outputs": [],
   "source": [
    "x_train <- mnist$train$x \n",
    "x_test <- mnist$test$x\n",
    "g_train <- mnist$train$y \n",
    "g_test <- mnist$test$y"
   ]
  },
  {
   "cell_type": "code",
   "execution_count": 24,
   "id": "34780b23",
   "metadata": {},
   "outputs": [
    {
     "data": {
      "text/html": [
       "<style>\n",
       ".list-inline {list-style: none; margin:0; padding: 0}\n",
       ".list-inline>li {display: inline-block}\n",
       ".list-inline>li:not(:last-child)::after {content: \"\\00b7\"; padding: 0 .5ex}\n",
       "</style>\n",
       "<ol class=list-inline><li>60000</li><li>28</li><li>28</li></ol>\n"
      ],
      "text/latex": [
       "\\begin{enumerate*}\n",
       "\\item 60000\n",
       "\\item 28\n",
       "\\item 28\n",
       "\\end{enumerate*}\n"
      ],
      "text/markdown": [
       "1. 60000\n",
       "2. 28\n",
       "3. 28\n",
       "\n",
       "\n"
      ],
      "text/plain": [
       "[1] 60000    28    28"
      ]
     },
     "metadata": {},
     "output_type": "display_data"
    },
    {
     "data": {
      "text/html": [
       "<style>\n",
       ".list-inline {list-style: none; margin:0; padding: 0}\n",
       ".list-inline>li {display: inline-block}\n",
       ".list-inline>li:not(:last-child)::after {content: \"\\00b7\"; padding: 0 .5ex}\n",
       "</style>\n",
       "<ol class=list-inline><li>10000</li><li>28</li><li>28</li></ol>\n"
      ],
      "text/latex": [
       "\\begin{enumerate*}\n",
       "\\item 10000\n",
       "\\item 28\n",
       "\\item 28\n",
       "\\end{enumerate*}\n"
      ],
      "text/markdown": [
       "1. 10000\n",
       "2. 28\n",
       "3. 28\n",
       "\n",
       "\n"
      ],
      "text/plain": [
       "[1] 10000    28    28"
      ]
     },
     "metadata": {},
     "output_type": "display_data"
    },
    {
     "data": {
      "text/html": [
       "60000"
      ],
      "text/latex": [
       "60000"
      ],
      "text/markdown": [
       "60000"
      ],
      "text/plain": [
       "[1] 60000"
      ]
     },
     "metadata": {},
     "output_type": "display_data"
    }
   ],
   "source": [
    "dim(x_train)\n",
    "dim(x_test)\n",
    "c(nrow(x_train))"
   ]
  },
  {
   "cell_type": "code",
   "execution_count": 25,
   "id": "f16c6eb6",
   "metadata": {},
   "outputs": [],
   "source": [
    "# reshape x's to 60000x784\n",
    "x_train <- array_reshape(x_train, c(nrow(x_train), 784))\n",
    "x_test <- array_reshape(x_test, c(nrow(x_test), 784))\n",
    "#one-hot encoding of y\n",
    "y_train <- to_categorical(g_train, 10)\n",
    "y_test <- to_categorical(g_test, 10)"
   ]
  },
  {
   "cell_type": "code",
   "execution_count": 26,
   "id": "21dec84a",
   "metadata": {},
   "outputs": [],
   "source": [
    "#Here the inputs are eight-bit26 grayscale values between 0 and 255, \n",
    "#so we rescale to the unit interval.\n",
    "x_train <- x_train / 255\n",
    "x_test <- x_test / 255"
   ]
  },
  {
   "cell_type": "code",
   "execution_count": 27,
   "id": "032972eb",
   "metadata": {},
   "outputs": [],
   "source": [
    "#fit the neural network\n",
    "modelnn <- keras_model_sequential()\n",
    "modelnn %>%\n",
    "        layer_dense(units = 256, activation = 'relu', input_shape = c(784)) %>%\n",
    "        layer_dropout(rate = 0.4) %>%\n",
    "        layer_dense(units = 128, activation = 'relu') %>%\n",
    "        layer_dropout(rate = 0.3) %>%\n",
    "        layer_dense(units = 10, activation = 'softmax')\n"
   ]
  },
  {
   "cell_type": "code",
   "execution_count": 28,
   "id": "9fcd46b3",
   "metadata": {},
   "outputs": [
    {
     "data": {
      "text/plain": [
       "Model: \"sequential_1\"\n",
       "________________________________________________________________________________\n",
       " Layer (type)                       Output Shape                    Param #     \n",
       "================================================================================\n",
       " dense_4 (Dense)                    (None, 256)                     200960      \n",
       " dropout_2 (Dropout)                (None, 256)                     0           \n",
       " dense_3 (Dense)                    (None, 128)                     32896       \n",
       " dropout_1 (Dropout)                (None, 128)                     0           \n",
       " dense_2 (Dense)                    (None, 10)                      1290        \n",
       "================================================================================\n",
       "Total params: 235146 (918.54 KB)\n",
       "Trainable params: 235146 (918.54 KB)\n",
       "Non-trainable params: 0 (0.00 Byte)\n",
       "________________________________________________________________________________"
      ]
     },
     "metadata": {},
     "output_type": "display_data"
    }
   ],
   "source": [
    "modelnn"
   ]
  },
  {
   "cell_type": "code",
   "execution_count": 29,
   "id": "905bdd1e",
   "metadata": {},
   "outputs": [],
   "source": [
    "modelnn %>% compile(loss = \"categorical_crossentropy\", \n",
    "                    optimizer = optimizer_rmsprop(), metrics = c(\"accuracy\"))"
   ]
  },
  {
   "cell_type": "code",
   "execution_count": 30,
   "id": "3b1e5e96",
   "metadata": {},
   "outputs": [
    {
     "data": {
      "text/plain": [
       "   user  system elapsed \n",
       "131.197  13.583  82.924 "
      ]
     },
     "metadata": {},
     "output_type": "display_data"
    }
   ],
   "source": [
    "system.time(history <- modelnn %>% fit(x_train, y_train, epochs = 30, batch_size = 128,\n",
    "        validation_split = 0.2))"
   ]
  },
  {
   "cell_type": "code",
   "execution_count": 31,
   "id": "9000f290",
   "metadata": {},
   "outputs": [
    {
     "data": {
      "image/png": "[encoded data removed]",
      "text/plain": [
       "plot without title"
      ]
     },
     "metadata": {
      "image/png": {
       "height": 420,
       "width": 420
      }
     },
     "output_type": "display_data"
    }
   ],
   "source": [
    "plot(history, smooth = FALSE)"
   ]
  },
  {
   "cell_type": "markdown",
   "id": "d71f9211",
   "metadata": {},
   "source": [
    "# References\n",
    "\n",
    "Chapter 10, **An Introduction to Statistical Learning with Applications in R**, Gareth James, Daniela Witten, Trevor Hastie, and Robert Tibshirani"
   ]
  }
 ],
 "metadata": {
  "kernelspec": {
   "display_name": "R",
   "language": "R",
   "name": "ir"
  },
  "language_info": {
   "codemirror_mode": "r",
   "file_extension": ".r",
   "mimetype": "text/x-r-source",
   "name": "R",
   "pygments_lexer": "r",
   "version": "4.3.0"
  }
 },
 "nbformat": 4,
 "nbformat_minor": 5
}
